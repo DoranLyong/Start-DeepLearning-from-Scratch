{
 "cells": [
  {
   "cell_type": "markdown",
   "metadata": {},
   "source": [
    "# 오차역전파법을 사용해 학습 구현하기 \n",
    "(p. 186) \n",
    "이번 코드에 Ch2~5 까지 배운 내용이 모두 함축 돼 있음 \n",
    "\n",
    "수치 미분으로 구현한 신경망 학습(p.137)을 backpropagation으로 구현함 "
   ]
  },
  {
   "cell_type": "markdown",
   "metadata": {},
   "source": [
    "![](./images/fig_normalized.png)\n",
    "***\n",
    "![](./images/fig_NN_learning_process.png)"
   ]
  },
  {
   "cell_type": "markdown",
   "metadata": {},
   "source": [
    "[신경망 학습의 전체 그림 ](https://github.com/DoranLyong/Start_deepLearning_from_floor-/blob/master/Ch5_Backpropagation/L7-1_make_backpropagation_for_learning%20.ipynb)"
   ]
  },
  {
   "cell_type": "markdown",
   "metadata": {},
   "source": [
    "[backpropagation 구현 검증하기](https://github.com/DoranLyong/Start_deepLearning_from_floor-/blob/master/Ch5_Backpropagation/L7-3_gradient_check_with_backpropagation.ipynb)"
   ]
  },
  {
   "cell_type": "code",
   "execution_count": 1,
   "metadata": {},
   "outputs": [],
   "source": [
    "# coding: utf-8\n",
    "import sys, os \n",
    "sys.path.append( os.pardir ) # 부모 디렉터리의 파일을 가져올 수 있도록 설정"
   ]
  },
  {
   "cell_type": "code",
   "execution_count": 2,
   "metadata": {},
   "outputs": [],
   "source": [
    "import numpy as np \n",
    "import matplotlib.pyplot as plt \n",
    "from dataset.mnist import load_mnist \n",
    "from two_layer_net import TwoLayerNet "
   ]
  },
  {
   "cell_type": "markdown",
   "metadata": {},
   "source": [
    "[load_mnist](https://github.com/DoranLyong/Start_deepLearning_from_floor-/blob/master/Ch3_NeuralNet/L13_MNIST_data_img_load_into_numpy.ipynb) <br/>\n",
    "[TwoLayerNet](https://github.com/DoranLyong/Start_deepLearning_from_floor-/blob/master/Ch5_Backpropagation/L7-2_Neural_Network_with_Backpropagation.ipynb)"
   ]
  },
  {
   "cell_type": "markdown",
   "metadata": {},
   "source": [
    "#### 1. 데이터 불러오기 "
   ]
  },
  {
   "cell_type": "code",
   "execution_count": 3,
   "metadata": {},
   "outputs": [],
   "source": [
    "(x_train, t_train), (x_test, t_test) = load_mnist(normalize=True, one_hot_label=True)"
   ]
  },
  {
   "cell_type": "markdown",
   "metadata": {},
   "source": [
    "#### 2. 신경망 생성 "
   ]
  },
  {
   "cell_type": "code",
   "execution_count": 4,
   "metadata": {},
   "outputs": [],
   "source": [
    "input_size  = 784 \n",
    "hidden_size = 50 \n",
    "output_size = 10\n",
    "\n",
    "network    =    TwoLayerNet(input_size, hidden_size, output_size)"
   ]
  },
  {
   "cell_type": "markdown",
   "metadata": {},
   "source": [
    "#### 3. 하이퍼파라미터 셋업 (p.133, 221)\n",
    "__Hyperparameter__ : 사람이 노가다성 실험으로 적절하게 튜닝해야하는 매개변수 "
   ]
  },
  {
   "cell_type": "code",
   "execution_count": 5,
   "metadata": {},
   "outputs": [],
   "source": [
    "iters_num     =  10000             # 반복 횟수 \n",
    "train_size    =  x_train.shape[0]\n",
    "batch_size    =  100               # 미니배치 크기 \n",
    "learning_rate =  0.1\n",
    "\n",
    "iter_per_epoch  = max( train_size / batch_size, 1)"
   ]
  },
  {
   "cell_type": "markdown",
   "metadata": {},
   "source": [
    "#### 4. 데이터 보관용 객체 "
   ]
  },
  {
   "cell_type": "code",
   "execution_count": 6,
   "metadata": {},
   "outputs": [],
   "source": [
    "train_loss_list = []\n",
    "train_acc_list  = []    # List of accuracy of train data \n",
    "test_acc_list   = []    # List of accuracy of test data"
   ]
  },
  {
   "cell_type": "markdown",
   "metadata": {},
   "source": [
    "#### 5. 미니배치 학습 (p.141)"
   ]
  },
  {
   "cell_type": "code",
   "execution_count": 7,
   "metadata": {},
   "outputs": [
    {
     "name": "stdout",
     "output_type": "stream",
     "text": [
      "train_acc, test_acc | 0.10875, 0.1085\n",
      "train_acc, test_acc | 0.90455, 0.9069\n",
      "train_acc, test_acc | 0.9237, 0.9254\n",
      "train_acc, test_acc | 0.9340833333333334, 0.9351\n",
      "train_acc, test_acc | 0.9440333333333333, 0.9428\n",
      "train_acc, test_acc | 0.9498833333333333, 0.9473\n",
      "train_acc, test_acc | 0.9539333333333333, 0.9518\n",
      "train_acc, test_acc | 0.9590333333333333, 0.9565\n",
      "train_acc, test_acc | 0.9620666666666666, 0.9576\n",
      "train_acc, test_acc | 0.9638166666666667, 0.9585\n",
      "train_acc, test_acc | 0.9678833333333333, 0.9626\n",
      "train_acc, test_acc | 0.97035, 0.9647\n",
      "train_acc, test_acc | 0.9716, 0.9652\n",
      "train_acc, test_acc | 0.9728666666666667, 0.9673\n",
      "train_acc, test_acc | 0.9718333333333333, 0.9628\n",
      "train_acc, test_acc | 0.97525, 0.9689\n",
      "train_acc, test_acc | 0.97775, 0.9698\n"
     ]
    }
   ],
   "source": [
    "for i in range(iters_num):\n",
    "    \n",
    "    # 미니배치 획득 \n",
    "    batch_mask = np.random.choice( train_size, batch_size )\n",
    "    x_batch    = x_train[batch_mask]\n",
    "    t_batch    = t_train[batch_mask]\n",
    "    \n",
    "    \n",
    "    # 기울기 계산 \n",
    "    grad       = network.gradient( x_batch, t_batch )  # by backpropagation \n",
    "    \n",
    "    # 매개변수 갱신 (p. 129)\n",
    "    for key in ('W1', 'b1', 'W2', 'b2'):\n",
    "        network.params[key] -= learning_rate * grad[key]    \n",
    "        \n",
    "    # 학습 경과 기록 \n",
    "    loss = network.loss(x_batch, t_batch)\n",
    "    train_loss_list.append( loss )\n",
    "    \n",
    "    \n",
    "    # 1 epoch당 정확도 계산 (p.144) \n",
    "    if i % iter_per_epoch == 0 :\n",
    "        train_acc = network.accuracy( x_train, t_train )\n",
    "        test_acc  = network.accuracy( x_test, t_test )\n",
    "        train_acc_list.append( train_acc )\n",
    "        test_acc_list.append( test_acc )\n",
    "        \n",
    "        print(\"train_acc, test_acc | \" + str(train_acc) + \", \" + str(test_acc) ) "
   ]
  },
  {
   "cell_type": "markdown",
   "metadata": {},
   "source": [
    "### 훈련 데이터와 시험 데이터에 대한 정확도 추이  (p.144)"
   ]
  },
  {
   "cell_type": "code",
   "execution_count": 8,
   "metadata": {},
   "outputs": [
    {
     "name": "stdout",
     "output_type": "stream",
     "text": [
      "17\n"
     ]
    }
   ],
   "source": [
    "end = len(train_acc_list)\n",
    "print(end)"
   ]
  },
  {
   "cell_type": "code",
   "execution_count": 9,
   "metadata": {},
   "outputs": [],
   "source": [
    "x = np.arange(0, end , 1)   # 0에서 end 까지 1 스텝 간격으로 생성 "
   ]
  },
  {
   "cell_type": "code",
   "execution_count": 10,
   "metadata": {},
   "outputs": [
    {
     "data": {
      "image/png": "[encoded data removed]",
      "text/plain": [
       "<Figure size 432x288 with 1 Axes>"
      ]
     },
     "metadata": {},
     "output_type": "display_data"
    }
   ],
   "source": [
    "plt.plot(x, train_acc_list, label = \"train_accuracy\")\n",
    "plt.plot(x, test_acc_list, linestyle=\"--\", label = \"test_accuracy\")\n",
    "\n",
    "plt.xlabel(\"epochs\")\n",
    "plt.ylabel(\"accuracy\")\n",
    "plt.legend()\n",
    "plt.show()"
   ]
  },
  {
   "cell_type": "markdown",
   "metadata": {},
   "source": [
    "정확도를 1 epoch마다 계산하는 이유\n",
    "> (1) for 문 안에서 매번 계산하기에는 시간이 오래 걸려서 <br/>\n",
    "> (2) 그렇게 자주 기록할 필요도 없음 (큰 관점에서 추이만 알 수 있으면 충분함)"
   ]
  },
  {
   "cell_type": "markdown",
   "metadata": {},
   "source": [
    "추이를 보면 에폭이 진행될수록(=__학습이 진행될수록__) 훈련 데이터와 시험 데이터를 사용하고 평가한 정확도가 모두 좋아지고 있음. <br/>\n",
    "\n",
    "더욱이 두 정확도에는 차이가 거의 없음(=두 선이 거의 겹침) <br/>\n",
    "\n",
    "> 즉, 학습과정에서 오버피팅<sup>overfitting</sup>이 일어나지 않았음을 의마함 \n",
    "\n",
    "### 오버피팅이 일어났다면 train_accuraccy만 과도하게 높을테니까 "
   ]
  },
  {
   "cell_type": "code",
   "execution_count": null,
   "metadata": {},
   "outputs": [],
   "source": []
  }
 ],
 "metadata": {
  "kernelspec": {
   "display_name": "Python 3",
   "language": "python",
   "name": "python3"
  },
  "language_info": {
   "codemirror_mode": {
    "name": "ipython",
    "version": 3
   },
   "file_extension": ".py",
   "mimetype": "text/x-python",
   "name": "python",
   "nbconvert_exporter": "python",
   "pygments_lexer": "ipython3",
   "version": "3.6.5"
  }
 },
 "nbformat": 4,
 "nbformat_minor": 2
}
