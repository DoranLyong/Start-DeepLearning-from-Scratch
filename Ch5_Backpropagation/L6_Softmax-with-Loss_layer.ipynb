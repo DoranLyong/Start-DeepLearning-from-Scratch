{
 "cells": [
  {
   "cell_type": "markdown",
   "metadata": {},
   "source": [
    "# Softmax-with-Loss 계층 "
   ]
  },
  {
   "cell_type": "markdown",
   "metadata": {},
   "source": [
    "**그동안 다룬 내용**\n",
    ">1. 계산 그래프<sup>(computational graph)</sup>로 연산 표현하기 \n",
    ">2. 계산 그래프로 역전파 이해\n",
    ">3. scalar 신호 역전파  \n",
    "  * 곱셈 계층, 덧셈 계층 \n",
    "  * 활성화 함수 계층(ReLU, Sigmoid)\n",
    "  \n",
    ">4. 배열 신호 역전파 \n",
    "  * Affine 계층 \n",
    "  * batch용 Affine 계층 "
   ]
  },
  {
   "cell_type": "markdown",
   "metadata": {},
   "source": [
    "이제 마지막으로 출력층에서 사용하는 softmax function에 관해 정리함 <br/>\n",
    "\n",
    "> Softmax 함수는 입력 값을 정규화하여 출력한다(page. 94, 101) "
   ]
  },
  {
   "cell_type": "markdown",
   "metadata": {},
   "source": [
    "### 손글씨 숫자 인식에서의 Softmax 계층 "
   ]
  },
  {
   "cell_type": "markdown",
   "metadata": {},
   "source": [
    "![](./images/fig_5-28.png)\n",
    "\n",
    "* 입력 이미지가 Affine 계층과 ReLU 계층을 통과하여 변환 \n",
    "* 마지막 Softmax 계층에 의해서 10개의 입력이 정규화됨 ($\\Sigma$출력 = 1)\n",
    "> * 이 그림에서 '0'의 점수는 5.3 \n",
    "> * 이것이 Softmax 계층을 지나 0.008(0.8%)로 변환  \n",
    "\n",
    "\n",
    "### 참고 \n",
    "<span style=\"color:blue\">분류할 클래스 개수</span> = 출력 노드 개수 \n",
    "\n",
    "따라서, 숫자 가짓수가 10개 &rarr; Softmax 계층의 입력도 10개 "
   ]
  },
  {
   "cell_type": "markdown",
   "metadata": {},
   "source": [
    "각 계층은 세부적으로 다음과 같은 모양임  \n",
    "![](./images/fig_normalized.png)"
   ]
  },
  {
   "cell_type": "markdown",
   "metadata": {},
   "source": [
    "## 알아 둘 것 (p.176)"
   ]
  },
  {
   "cell_type": "markdown",
   "metadata": {},
   "source": [
    "1. 신경망에서 수행하는 작업은 __학습__<sup>learning</sup>과 __추론__<sup>inference</sup> 두 가지임 (p. 95) <br/>\n",
    "\n",
    "2. 추론할 때: 일반적으로 Softmax 계층 생략 \n",
    "> * Softmax 계층 앞의 Affine 계층의 출력을 인식 결과로 활용\n",
    "> * 이를 __점수__<sup>score</sup>라 함 \n",
    "> * 왜냐면, 신경망 추론에서 답을 하나만 내는 경우 <span style=\"color:blue\">가장 높은 점수만 알면 되니까</span>(= Softmax 계층이 불필요)"
   ]
  },
  {
   "cell_type": "markdown",
   "metadata": {},
   "source": [
    "3. 신경망을 학습할 때는 Softmax 계층이 필요 \n",
    "> * 정규화된 데이터로 손실 함수<sup>loss function</sup>을 구하려고 (p. 102, 111)"
   ]
  },
  {
   "cell_type": "code",
   "execution_count": null,
   "metadata": {},
   "outputs": [],
   "source": []
  }
 ],
 "metadata": {
  "kernelspec": {
   "display_name": "Python 3",
   "language": "python",
   "name": "python3"
  },
  "language_info": {
   "codemirror_mode": {
    "name": "ipython",
    "version": 3
   },
   "file_extension": ".py",
   "mimetype": "text/x-python",
   "name": "python",
   "nbconvert_exporter": "python",
   "pygments_lexer": "ipython3",
   "version": "3.6.5"
  }
 },
 "nbformat": 4,
 "nbformat_minor": 2
}
