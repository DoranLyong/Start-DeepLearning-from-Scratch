{
 "cells": [
  {
   "cell_type": "code",
   "execution_count": 1,
   "metadata": {},
   "outputs": [],
   "source": [
    "# coding:utf-8\n",
    "import numpy as np\n",
    "import sys, os \n",
    "sys.path.append( os.pardir )"
   ]
  },
  {
   "cell_type": "markdown",
   "metadata": {},
   "source": [
    "# 배치용(batch) Affine 계층 "
   ]
  },
  {
   "cell_type": "markdown",
   "metadata": {},
   "source": [
    "(page, 174) <br/>\n",
    "앞에서 설명한 Affine 계층은 입력 데이터 **X** 하나만을 고려한 상홤임 (= 1차원 배열)"
   ]
  },
  {
   "cell_type": "markdown",
   "metadata": {},
   "source": [
    "### 배치 처리 and 미니배치 학습 \n",
    ">* 배치 처리    (p.102) => 입력 데이터 한번에 넣기  <br/> \n",
    ">* 미니배치 학습(p.115) => 모든 훈련 데이터에 대한 손실 함수 다루기 <br/>\n",
    "[https://blog.naver.com/cheeryun/221380230376]"
   ]
  },
  {
   "cell_type": "markdown",
   "metadata": {},
   "source": [
    "#### 배치용 Affine 계층의 계산 그래프 "
   ]
  },
  {
   "cell_type": "markdown",
   "metadata": {},
   "source": [
    "![](./images/fig_5-27.png)"
   ]
  },
  {
   "cell_type": "markdown",
   "metadata": {},
   "source": [
    "배치 처리 전과 비교했을 때, 수식이 바뀌진 않았음 <br/>\n",
    "\n",
    "다만, 행렬 곱셈을 이용하기 때문에 대응하는 차원의 원소 수에 유의해야함 "
   ]
  },
  {
   "cell_type": "markdown",
   "metadata": {},
   "source": [
    "### Forward"
   ]
  },
  {
   "cell_type": "markdown",
   "metadata": {},
   "source": [
    "이 예에서는 데이터가 2개(N = 2)로 가정됨 "
   ]
  },
  {
   "cell_type": "code",
   "execution_count": 2,
   "metadata": {},
   "outputs": [],
   "source": [
    "X_dot_W = np.array([[0, 0, 0], [10, 10, 10] ] )  # X*Y의 shape (N, 3)예시 \n",
    "B       = np.array([1, 2, 3])                    # Bias matrix "
   ]
  },
  {
   "cell_type": "code",
   "execution_count": 6,
   "metadata": {},
   "outputs": [
    {
     "name": "stdout",
     "output_type": "stream",
     "text": [
      "XW =  [[ 0  0  0]\n",
      " [10 10 10]]\n",
      "B =  [1 2 3]\n"
     ]
    }
   ],
   "source": [
    "print(\"XW = \", X_dot_W)\n",
    "print(\"B = \", B)"
   ]
  },
  {
   "cell_type": "code",
   "execution_count": 5,
   "metadata": {},
   "outputs": [
    {
     "name": "stdout",
     "output_type": "stream",
     "text": [
      "Y =  [[ 1  2  3]\n",
      " [11 12 13]]\n"
     ]
    }
   ],
   "source": [
    "print(\"Y = \", X_dot_W + B )                             # 브로드캐스팅 연산 "
   ]
  },
  {
   "cell_type": "markdown",
   "metadata": {},
   "source": [
    "[브로드캐스팅 연산](https://blog.naver.com/cheeryun/221259007518)"
   ]
  },
  {
   "cell_type": "markdown",
   "metadata": {},
   "source": [
    "순전파의 편향(**B**) 덧셈은 각각의 데이터 (1번째 데이터, 2번째 데이터, ...)에 더해짐. <br/>\n",
    ">브로드캐스팅 연산으로 구현함 "
   ]
  },
  {
   "cell_type": "markdown",
   "metadata": {},
   "source": [
    "### Backward "
   ]
  },
  {
   "cell_type": "markdown",
   "metadata": {},
   "source": [
    "계산 그래프의 3번 식을 봤을 때, <br>\n",
    "역전파 때는 각 데이터의 역전파 값이 편향의 원소에 모여야 함 "
   ]
  },
  {
   "cell_type": "code",
   "execution_count": 7,
   "metadata": {},
   "outputs": [
    {
     "name": "stdout",
     "output_type": "stream",
     "text": [
      "dY =  [[1 2 3]\n",
      " [4 5 6]]\n"
     ]
    }
   ],
   "source": [
    "dY = np.array([[1, 2, 3,], [4, 5, 6] ] )    # 예시 \n",
    "print(\"dY = \", dY)"
   ]
  },
  {
   "cell_type": "markdown",
   "metadata": {},
   "source": [
    "dY : $\\frac{\\partial L}{\\partial \\mathbf{Y}}$  \n",
    "* 역전파 예시"
   ]
  },
  {
   "cell_type": "code",
   "execution_count": 8,
   "metadata": {},
   "outputs": [
    {
     "name": "stdout",
     "output_type": "stream",
     "text": [
      "[5 7 9]\n"
     ]
    }
   ],
   "source": [
    "dB = np.sum(dY, axis = 0 )  \n",
    "print(dB)"
   ]
  },
  {
   "cell_type": "markdown",
   "metadata": {},
   "source": [
    "axis = 0  \n",
    "* 0번째 축에 대해서 (세로로)"
   ]
  },
  {
   "cell_type": "markdown",
   "metadata": {},
   "source": [
    "$\\frac{\\partial L}{\\partial \\mathbf{B}}$ = $[\\; \\Sigma 원소1 \\;\\; \\Sigma 원소2  \\;\\; \\Sigma 원소3 \\;]$\n",
    "\n",
    "> $ \\Sigma 원소1$ : 각 데이터의 첫 번째 원소에 해당하는 역전파 신호들의 합"
   ]
  },
  {
   "cell_type": "markdown",
   "metadata": {},
   "source": [
    "mini-batch 학습에서도 손실함수를 구할 때 <br/>\n",
    "각 데이터에 대한 손실함수를 모두 더해서 평균냄 "
   ]
  },
  {
   "cell_type": "markdown",
   "metadata": {},
   "source": [
    " "
   ]
  },
  {
   "cell_type": "markdown",
   "metadata": {},
   "source": [
    "**common/layers.py** 파일의 Affine 구현은 입력 데이터가 텐서(=4차원 배열)인 경우도 고려함 "
   ]
  },
  {
   "cell_type": "code",
   "execution_count": 9,
   "metadata": {},
   "outputs": [],
   "source": [
    "class Affine:\n",
    "    def __init__(self, W, b):      # 생성자: (W, b)를 가지고 객체 초기화 \n",
    "        self.W = W                 # 인스턴스 변수(.W)에 초기값 W을 할당 \n",
    "        self.b = b \n",
    "        \n",
    "        self.x = None \n",
    "        self.original_X_shape = None  \n",
    "        \n",
    "        # 가중치(W)와 편향(b) 매개변수의 미분 \n",
    "        self.dW = None \n",
    "        self.db = None \n",
    "        \n",
    "    #순전파 \n",
    "    def forward(self, X):\n",
    "        # 텐서 대응 \n",
    "        self.original_X_shape = X.shape \n",
    "        X = X.reshape( X.shape[0], -1 )\n",
    "        self.X = X                                 # 인스턴스 변수에 저장 \n",
    "        \n",
    "        out = np.dot(self.X, self,W) + self.b     # Y = XW + B  브로드캐스팅 연산 수행 \n",
    "        \n",
    "        return out \n",
    "    \n",
    "    \n",
    "    #역전파 \n",
    "    def backward(self, dout):\n",
    "        dx = np.dot(dout, self.W.T)              # 전치 속성: <array 객체>.T \n",
    "        self.dW = np.dot(self.x.T, dout)\n",
    "        self.db = np.sum(dout, axis=0)          # 편향의 역전파  \n",
    "        \n",
    "        dx = dx.reshape(*self.original_X_shape) # 입력 데이터 모양 변경 (텐서 대응)\n",
    "        \n",
    "        return dx  "
   ]
  },
  {
   "cell_type": "markdown",
   "metadata": {},
   "source": [
    "**Test**"
   ]
  },
  {
   "cell_type": "code",
   "execution_count": 18,
   "metadata": {},
   "outputs": [
    {
     "name": "stdout",
     "output_type": "stream",
     "text": [
      "[[ 1  3  5]\n",
      " [ 7  9 10]]\n",
      "\n",
      "\n",
      "(2, 3)\n",
      "\n",
      "\n",
      "2\n"
     ]
    }
   ],
   "source": [
    "X = np.array([[1,3, 5], [7, 9, 10] ])\n",
    "print(X)\n",
    "print(\"\\n\")\n",
    "print(X.shape)\n",
    "print(\"\\n\")\n",
    "print(X.shape[0])"
   ]
  },
  {
   "cell_type": "code",
   "execution_count": 23,
   "metadata": {},
   "outputs": [
    {
     "data": {
      "text/plain": [
       "array([[ 1,  3],\n",
       "       [ 5,  7],\n",
       "       [ 9, 10]])"
      ]
     },
     "execution_count": 23,
     "metadata": {},
     "output_type": "execute_result"
    }
   ],
   "source": [
    "X.reshape( 3, -1)     # .reshape(2, -1)"
   ]
  },
  {
   "cell_type": "markdown",
   "metadata": {},
   "source": [
    ".reshape(3, -1)\n",
    "> New shape(3, -1) : Row 3 , Column unknown"
   ]
  },
  {
   "cell_type": "code",
   "execution_count": null,
   "metadata": {},
   "outputs": [],
   "source": []
  }
 ],
 "metadata": {
  "kernelspec": {
   "display_name": "Python 3",
   "language": "python",
   "name": "python3"
  },
  "language_info": {
   "codemirror_mode": {
    "name": "ipython",
    "version": 3
   },
   "file_extension": ".py",
   "mimetype": "text/x-python",
   "name": "python",
   "nbconvert_exporter": "python",
   "pygments_lexer": "ipython3",
   "version": "3.6.5"
  }
 },
 "nbformat": 4,
 "nbformat_minor": 2
}
