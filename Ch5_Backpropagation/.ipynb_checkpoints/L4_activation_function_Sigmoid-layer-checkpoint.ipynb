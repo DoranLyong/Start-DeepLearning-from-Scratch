{
 "cells": [
  {
   "cell_type": "markdown",
   "metadata": {},
   "source": [
    "# 활성화 함수 계층 구현하기 "
   ]
  },
  {
   "cell_type": "markdown",
   "metadata": {},
   "source": [
    "computational graph를 신경망에 적용한다. <br/>\n",
    "* 신경망을 구성하는 계층(layer) 각각을 클래스 하나로 구현한다. "
   ]
  },
  {
   "cell_type": "code",
   "execution_count": 1,
   "metadata": {},
   "outputs": [],
   "source": [
    "# coding: utf-8\n",
    "import numpy as np\n",
    "import sys, os \n",
    "sys.path.append( os.pardir )  # to import modules from 'common' directory\n",
    "                              # (Book page. 97)"
   ]
  },
  {
   "cell_type": "code",
   "execution_count": 2,
   "metadata": {},
   "outputs": [],
   "source": [
    "from common.functions import *\n",
    "from common.util import im2col, col2im"
   ]
  },
  {
   "cell_type": "markdown",
   "metadata": {},
   "source": [
    "## Sigmoid 계층 "
   ]
  },
  {
   "cell_type": "markdown",
   "metadata": {},
   "source": [
    "p. 167"
   ]
  },
  {
   "cell_type": "markdown",
   "metadata": {},
   "source": [
    "#### Sigmoid 함수 수식 "
   ]
  },
  {
   "cell_type": "markdown",
   "metadata": {},
   "source": [
    "![](./images/e_5.9.png)"
   ]
  },
  {
   "cell_type": "markdown",
   "metadata": {},
   "source": [
    "#### Sigmoid 계층의 계산 그래프(forward)"
   ]
  },
  {
   "cell_type": "markdown",
   "metadata": {},
   "source": [
    "![sigmoid-layer](./images/fig_5-19.png)"
   ]
  },
  {
   "cell_type": "markdown",
   "metadata": {},
   "source": [
    "나눗셈 노드 ' / ' 가 추가됨  <br/>\n",
    "\n",
    "함수 수식이 computational graph에서 국소적$^{local}$ 계산의 전파로 처리됨 "
   ]
  },
  {
   "cell_type": "markdown",
   "metadata": {},
   "source": [
    " "
   ]
  },
  {
   "cell_type": "markdown",
   "metadata": {},
   "source": [
    "## Backpropagation of Sigmoid layer "
   ]
  },
  {
   "cell_type": "markdown",
   "metadata": {},
   "source": [
    "![](./images/fig_5-21.png)\n",
    "***\n",
    "![](./images/fig_5-22.png)"
   ]
  },
  {
   "cell_type": "markdown",
   "metadata": {},
   "source": [
    "수식 유도는 책을 참고(p.168)"
   ]
  },
  {
   "cell_type": "code",
   "execution_count": 3,
   "metadata": {},
   "outputs": [],
   "source": [
    "class Sigmoid(object):\n",
    "    def __init__(self):\n",
    "        self.out = None \n",
    "        \n",
    "    def forward(self, x):\n",
    "        out = sigmoid(x)       # 순전파 출력 : out \n",
    "        self.out = out \n",
    "        return out \n",
    "    \n",
    "    def backward(self, dout):\n",
    "        dx = dout * (1.0 - self.out) * self.out      # dout(1 - y)y\n",
    "        return dx "
   ]
  },
  {
   "cell_type": "markdown",
   "metadata": {},
   "source": [
    "* dout : $\\frac{\\partial L}{\\partial y}$  \n",
    "* self.out : y  <br/>\n",
    "\n",
    "이 구현에서는 순전파의 출력을 인스턴스 변수 .out에 보관했다가, 역전파 계산 때 사용함 "
   ]
  },
  {
   "cell_type": "code",
   "execution_count": null,
   "metadata": {},
   "outputs": [],
   "source": []
  }
 ],
 "metadata": {
  "kernelspec": {
   "display_name": "Python 3",
   "language": "python",
   "name": "python3"
  },
  "language_info": {
   "codemirror_mode": {
    "name": "ipython",
    "version": 3
   },
   "file_extension": ".py",
   "mimetype": "text/x-python",
   "name": "python",
   "nbconvert_exporter": "python",
   "pygments_lexer": "ipython3",
   "version": "3.6.5"
  }
 },
 "nbformat": 4,
 "nbformat_minor": 2
}
