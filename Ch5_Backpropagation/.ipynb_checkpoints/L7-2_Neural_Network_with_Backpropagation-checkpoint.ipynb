{
 "cells": [
  {
   "cell_type": "markdown",
   "metadata": {},
   "source": [
    "# 오차역전파법을 적용한 신경망 구현하기 "
   ]
  },
  {
   "cell_type": "markdown",
   "metadata": {},
   "source": [
    "### 신경망 학습의 전체 그림 \n",
    "![](./images/fig_NN_learning_process.png)"
   ]
  },
  {
   "cell_type": "markdown",
   "metadata": {},
   "source": [
    "2층 신경망을 구현할 거임 <br/>\n",
    "> TwoLayerNet 클래스를 정의해서 구현함"
   ]
  },
  {
   "cell_type": "markdown",
   "metadata": {},
   "source": [
    "### TwoLayerNet 클래스의 인스턴스 변수 \n",
    "![](./images/fig_TwoLayerNet.png)"
   ]
  },
  {
   "cell_type": "markdown",
   "metadata": {},
   "source": [
    "### TwoLayerNet 클래스의 메소드(= 함수)\n",
    "![](./images/fig_TwoLayerNet_method2.png)"
   ]
  },
  {
   "cell_type": "markdown",
   "metadata": {},
   "source": [
    "###  \"4.5 학습 알고리즘 구현하기\" 와 다른 점 (p. 136)\n",
    "이번 구현에서는 계층(Affine, activation, last layer)을 사용함 \n",
    "> 계층을 사용했기 때문에 단 두가지의 전파만 사용함 <br>\n",
    "  * 인식 결과를 얻는 처리(predict()) 계층의 전파 <br>\n",
    "  * 기울기를 구하는(gradient()) 계층의 전파 "
   ]
  },
  {
   "cell_type": "code",
   "execution_count": 1,
   "metadata": {},
   "outputs": [],
   "source": [
    "# coding: utf-8\n",
    "import sys, os\n",
    "sys.path.append(os.pardir)  # 부모 디렉터리의 파일을 가져올 수 있도록 설정"
   ]
  },
  {
   "cell_type": "code",
   "execution_count": 2,
   "metadata": {},
   "outputs": [],
   "source": [
    "import numpy as np\n",
    "from common.layers import *\n",
    "from common.gradient import numerical_gradient\n",
    "from collections import OrderedDict"
   ]
  },
  {
   "cell_type": "code",
   "execution_count": 3,
   "metadata": {},
   "outputs": [],
   "source": [
    "class TwoLayerNet:\n",
    "\n",
    "    def __init__(self, input_size, hidden_size, output_size, weight_init_std = 0.01):\n",
    "        \n",
    "        # 매개변수 초기화\n",
    "        self.params = {}\n",
    "        self.params['W1'] = weight_init_std * np.random.randn(input_size, hidden_size)\n",
    "        self.params['b1'] = np.zeros(hidden_size)\n",
    "        self.params['W2'] = weight_init_std * np.random.randn(hidden_size, output_size) \n",
    "        self.params['b2'] = np.zeros(output_size)\n",
    "\n",
    "        # 계층 생성\n",
    "        self.layers = OrderedDict()\n",
    "        self.layers['Affine1'] = Affine(self.params['W1'], self.params['b1'])\n",
    "        self.layers['Relu1'] = Relu()\n",
    "        self.layers['Affine2'] = Affine(self.params['W2'], self.params['b2'])\n",
    "\n",
    "        self.lastLayer = SoftmaxWithLoss()\n",
    "       \n",
    "    # 예측 \n",
    "    def predict(self, x):\n",
    "        for layer in self.layers.values():\n",
    "            x = layer.forward(x)\n",
    "        \n",
    "        return x\n",
    "        \n",
    "    # x : 입력 데이터, t : 정답 레이블\n",
    "    def loss(self, x, t):\n",
    "        y = self.predict(x)\n",
    "        return self.lastLayer.forward(y, t)\n",
    "    \n",
    "    def accuracy(self, x, t):\n",
    "        y = self.predict(x)\n",
    "        y = np.argmax(y, axis=1)\n",
    "        if t.ndim != 1 : t = np.argmax(t, axis=1)\n",
    "        \n",
    "        accuracy = np.sum(y == t) / float(x.shape[0])\n",
    "        return accuracy\n",
    "        \n",
    "    # x : 입력 데이터, t : 정답 레이블\n",
    "    def numerical_gradient(self, x, t):\n",
    "        loss_W = lambda W: self.loss(x, t)\n",
    "        \n",
    "        grads = {}\n",
    "        grads['W1'] = numerical_gradient(loss_W, self.params['W1'])\n",
    "        grads['b1'] = numerical_gradient(loss_W, self.params['b1'])\n",
    "        grads['W2'] = numerical_gradient(loss_W, self.params['W2'])\n",
    "        grads['b2'] = numerical_gradient(loss_W, self.params['b2'])\n",
    "        \n",
    "        return grads\n",
    "        \n",
    "    def gradient(self, x, t):\n",
    "        \n",
    "        # forward 순전파 \n",
    "        self.loss(x, t)\n",
    "\n",
    "        # backward 역전파 \n",
    "        dout = 1\n",
    "        dout = self.lastLayer.backward(dout)\n",
    "        \n",
    "        layers = list(self.layers.values())\n",
    "        layers.reverse()\n",
    "        for layer in layers:\n",
    "            dout = layer.backward(dout)\n",
    "\n",
    "        # 결과 저장\n",
    "        grads = {}\n",
    "        grads['W1'], grads['b1'] = self.layers['Affine1'].dW, self.layers['Affine1'].db\n",
    "        grads['W2'], grads['b2'] = self.layers['Affine2'].dW, self.layers['Affine2'].db\n",
    "\n",
    "        return grads"
   ]
  },
  {
   "cell_type": "markdown",
   "metadata": {},
   "source": [
    "### 집중해서 볼 곳 \n",
    "(1) 계층 생성 블럭 <br/> \n",
    "(2) 예측 블럭  <br/>\n",
    "(3) 역전파 블럭 "
   ]
  },
  {
   "cell_type": "markdown",
   "metadata": {},
   "source": [
    "특히 계층 생성 블럭에서 <span style=\"color:red\">self</span>.layers를 <span style=\"color:blue\">OrderedDict()</span> 클래스로 인스턴스화 하는것에 주목!"
   ]
  },
  {
   "cell_type": "markdown",
   "metadata": {},
   "source": [
    "OrderedDict()는 순서가 있는 딕셔너리임. <br/> \n",
    "> 순서를 기억하는 사전형 클래스 \n"
   ]
  },
  {
   "cell_type": "markdown",
   "metadata": {},
   "source": [
    "__'순서가 있는'__이기 때문에 딕셔너리에 추가된 순서대로 기억함\n",
    "> 그래서 순전파 때, 추가한 순서대로 각 계층의 forward() 메소드를 호출하기만 하면 끝  <br/>\n",
    "\n",
    "> 역전파 때는 계층을 역순으로 호출만 하면 됨 "
   ]
  },
  {
   "cell_type": "markdown",
   "metadata": {},
   "source": [
    "Affine 계층과 ReLU 계층이 각자의 내부에서 순전파와 역전파를 제대로 처리하고 있으니, <br/>\n",
    "* 여기서는 그냥 계층들을 올바른 순서로 연결한 다음 ( Affine &rarr; ReLu &rarr; Affine &rarr; Softmax)\n",
    "* 순서대로(혹은 역순으로) 호출하면 끝 "
   ]
  },
  {
   "cell_type": "markdown",
   "metadata": {},
   "source": [
    "### 신경망 구성 요소를 계층 블록으로 구현하는 장점 \n",
    "* 쉽게 신경망을 구축함  <br/>\n",
    "* '계층'으로 모듈화해서 구현한 효과 \n",
    "> 5층, 10층, 20층, ... 같은 <span style=\"color:red\">깊은 신경망<sup>Deep-NN</sup>을</span> 쉽게 만듬\n",
    "   * 단순히 필요한 만큼 계층을 추가하면 되니까(레고 블록 조립) \n"
   ]
  },
  {
   "cell_type": "markdown",
   "metadata": {},
   "source": [
    "## dict() vs OrderedDict() 클래스 비교 "
   ]
  },
  {
   "cell_type": "code",
   "execution_count": 4,
   "metadata": {},
   "outputs": [],
   "source": [
    "list = ( ['a',1], ['b',2], ['c',3], ['d',4] ) \n",
    "\n",
    "normalDic = dict(list) \n",
    "orderDic = OrderedDict(list)"
   ]
  },
  {
   "cell_type": "code",
   "execution_count": 5,
   "metadata": {},
   "outputs": [
    {
     "name": "stdout",
     "output_type": "stream",
     "text": [
      "orderDic =  OrderedDict([('a', 1), ('b', 2), ('c', 3), ('d', 4)])\n",
      "normalDict =  {'a': 1, 'b': 2, 'c': 3, 'd': 4}\n"
     ]
    }
   ],
   "source": [
    "print(\"orderDic = \", orderDic)\n",
    "print(\"normalDict = \", normalDic)"
   ]
  },
  {
   "cell_type": "code",
   "execution_count": 6,
   "metadata": {},
   "outputs": [
    {
     "name": "stdout",
     "output_type": "stream",
     "text": [
      "a 1\n",
      "b 2\n",
      "c 3\n",
      "d 4\n"
     ]
    }
   ],
   "source": [
    "for key, value in normalDic.items():\n",
    "    print(key, value)"
   ]
  },
  {
   "cell_type": "code",
   "execution_count": 7,
   "metadata": {},
   "outputs": [
    {
     "name": "stdout",
     "output_type": "stream",
     "text": [
      "a 1\n",
      "b 2\n",
      "c 3\n",
      "d 4\n"
     ]
    }
   ],
   "source": [
    "for key, value in orderDic.items():\n",
    "    print(key, value)"
   ]
  },
  {
   "cell_type": "markdown",
   "metadata": {},
   "source": [
    "ㅎㅎㅎ normalDict 객체가 순서 없이 값을 출력해야하는데... <br/>\n",
    "Jupyter notebook은 일단 출력은 이렇게 하나봄 <br/>"
   ]
  },
  {
   "cell_type": "markdown",
   "metadata": {},
   "source": [
    "__참고 사항__ <br/>\n",
    "* dict() 객체는 내부 자료값만 같으면 순서상관 없이 같다고 판단 <br/>\n",
    "\n",
    "* OrderedDict() 객체는 개부 자료값 및 순서도 같아야 같다고 판단 "
   ]
  },
  {
   "cell_type": "code",
   "execution_count": 8,
   "metadata": {},
   "outputs": [],
   "source": [
    "list1 = ( ['a',1], ['b',2], ['c',3], ['d',4] ) \n",
    "list2 = ( ['c',3], ['b',2], ['a',1], ['d',4] )\n",
    "\n",
    "norDic1 = dict(list1)\n",
    "norDic2 = dict(list2)\n",
    "\n",
    "orderDic1 = OrderedDict(list1)\n",
    "orderDic2 = OrderedDict(list2)"
   ]
  },
  {
   "cell_type": "code",
   "execution_count": 9,
   "metadata": {},
   "outputs": [
    {
     "name": "stdout",
     "output_type": "stream",
     "text": [
      "True\n"
     ]
    }
   ],
   "source": [
    "print(norDic1 == norDic2)          # 순서 상관 없음 "
   ]
  },
  {
   "cell_type": "code",
   "execution_count": 10,
   "metadata": {},
   "outputs": [
    {
     "name": "stdout",
     "output_type": "stream",
     "text": [
      "False\n"
     ]
    }
   ],
   "source": [
    "print(orderDic1 == orderDic2)      # 순서가 달라서 False 출력 "
   ]
  },
  {
   "cell_type": "code",
   "execution_count": null,
   "metadata": {},
   "outputs": [],
   "source": []
  }
 ],
 "metadata": {
  "kernelspec": {
   "display_name": "Python 3",
   "language": "python",
   "name": "python3"
  },
  "language_info": {
   "codemirror_mode": {
    "name": "ipython",
    "version": 3
   },
   "file_extension": ".py",
   "mimetype": "text/x-python",
   "name": "python",
   "nbconvert_exporter": "python",
   "pygments_lexer": "ipython3",
   "version": "3.6.5"
  }
 },
 "nbformat": 4,
 "nbformat_minor": 2
}
