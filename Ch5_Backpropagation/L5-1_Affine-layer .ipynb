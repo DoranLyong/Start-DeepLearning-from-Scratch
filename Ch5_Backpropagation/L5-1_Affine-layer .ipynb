{
 "cells": [
  {
   "cell_type": "code",
   "execution_count": 3,
   "metadata": {},
   "outputs": [],
   "source": [
    "#coding: utf-8\n",
    "import numpy as np \n",
    "import sys, os \n",
    "sys.path.append( os.pardir ) # to import modules from 'common' directory\n",
    "                             # (Book page. 97)"
   ]
  },
  {
   "cell_type": "markdown",
   "metadata": {},
   "source": [
    "# Affine 계층 구현하기 "
   ]
  },
  {
   "cell_type": "markdown",
   "metadata": {},
   "source": [
    "**어파인 변환**$^{Affine \\space transformation}$ : <br/>\n",
    "> 신경망의 순전파 때 수행하는 행렬의 곱을 **기하학에서 '어파인 변환'**이라고 부름 "
   ]
  },
  {
   "cell_type": "markdown",
   "metadata": {},
   "source": [
    "![signal_transition](./images/fig_3-18.png)\n",
    "***\n",
    "![신호결합](./images/e_3.8.png) \n",
    "***\n",
    "![](./images/fig_affine.png) \n",
    "![](./images/e_3.9.png)"
   ]
  },
  {
   "cell_type": "markdown",
   "metadata": {},
   "source": [
    "$w_{11}^{(1)}$ : 가중치 표기법 (page.85) <br/>\n",
    "$w_{11}$ : 원소 번호로 표기 (page. 133)"
   ]
  },
  {
   "cell_type": "markdown",
   "metadata": {},
   "source": [
    "**Example**"
   ]
  },
  {
   "cell_type": "code",
   "execution_count": 5,
   "metadata": {},
   "outputs": [],
   "source": [
    "X = np.random.rand(2)      \n",
    "W = np.random.rand(2, 3)\n",
    "B = np.random.rand(3) "
   ]
  },
  {
   "cell_type": "code",
   "execution_count": 14,
   "metadata": {},
   "outputs": [
    {
     "name": "stdout",
     "output_type": "stream",
     "text": [
      "X =  [0.57562014 0.04940979] ..... (2,)\n",
      "W =  [[0.92100507 0.79823032 0.17577609]\n",
      " [0.54706698 0.08311824 0.74006106]] ..... (2, 3)\n",
      "B =  [0.05300574 0.84792699 0.27217508] ..... (3,)\n"
     ]
    }
   ],
   "source": [
    "print(\"X = \", X, \".....\", X.shape)\n",
    "print(\"W = \", W, \".....\", W.shape)\n",
    "print(\"B = \", B, \".....\", B.shape)"
   ]
  },
  {
   "cell_type": "markdown",
   "metadata": {},
   "source": [
    "X, W, B는 각각 형상이 다른 다차원 배열 "
   ]
  },
  {
   "cell_type": "markdown",
   "metadata": {},
   "source": [
    "## 뉴런 가중치 합 연산 "
   ]
  },
  {
   "cell_type": "markdown",
   "metadata": {},
   "source": [
    "행렬의 곱과 편향의 합 <br/>"
   ]
  },
  {
   "cell_type": "markdown",
   "metadata": {},
   "source": [
    "<span style=\"color:red\">(주의)</span> <br/>\n",
    "행렬의 곱에서는 대응하는 차원의 원소 수를 일치시켜야함 \n",
    "![](./images/fig_5-23.png)"
   ]
  },
  {
   "cell_type": "code",
   "execution_count": 17,
   "metadata": {},
   "outputs": [
    {
     "name": "stdout",
     "output_type": "stream",
     "text": [
      "[0.61018528 1.31151129 0.4099216 ]\n"
     ]
    }
   ],
   "source": [
    "A = np.dot(X, W) + B\n",
    "print(A)"
   ]
  },
  {
   "cell_type": "markdown",
   "metadata": {},
   "source": [
    "이를 computational graph(계산 그래프)로 표현하면 다음과 같음 "
   ]
  },
  {
   "cell_type": "markdown",
   "metadata": {},
   "source": [
    "### Affine layer의 계산 그래프 "
   ]
  },
  {
   "cell_type": "markdown",
   "metadata": {},
   "source": [
    "이번에는 변수가 행렬임에 주의 <br/>\n",
    "각 변수명 위에다 행렬의 형상(.shape) 표기 "
   ]
  },
  {
   "cell_type": "markdown",
   "metadata": {},
   "source": [
    "![](./images/fig_5-24.png)"
   ]
  },
  {
   "cell_type": "markdown",
   "metadata": {},
   "source": [
    "이전의 예제에서는 노드 사이에 '스칼라값(scalar)'이 흘렀지만, <br/>\n",
    "\n",
    "> Affine 계층에서는 '행렬(=다차원 배열, tensor)'이 흐름"
   ]
  },
  {
   "cell_type": "markdown",
   "metadata": {},
   "source": [
    " "
   ]
  },
  {
   "cell_type": "markdown",
   "metadata": {},
   "source": [
    "# Affine 계층의 backpropagation "
   ]
  },
  {
   "cell_type": "markdown",
   "metadata": {},
   "source": [
    "행렬 미분이 필요함 [https://blog.naver.com/enewltlr/220918689039]\n",
    "![](./images/fig_matrix_calculus2.PNG)\n",
    "***\n",
    "![](./images/fig_matrix_calculus.PNG)"
   ]
  },
  {
   "cell_type": "markdown",
   "metadata": {},
   "source": [
    "### 위의 행렬 미분법을 참고해서 Affine 계층의 역전파 식을 도출해봄 "
   ]
  },
  {
   "cell_type": "markdown",
   "metadata": {},
   "source": [
    "![](./images/fig_affine_backward.png)"
   ]
  },
  {
   "cell_type": "markdown",
   "metadata": {},
   "source": [
    "![](./images/fig_derive1.png)\n",
    "***\n",
    "![](./images/fig_derive.png)\n",
    "***\n",
    "![](./images/fig_derive3.png)"
   ]
  },
  {
   "cell_type": "markdown",
   "metadata": {},
   "source": [
    "## (결론)\n",
    "### 그러면 다음과 같은 [식 5.13] 이 도출됨 "
   ]
  },
  {
   "cell_type": "markdown",
   "metadata": {},
   "source": [
    "![](./images/e_5.13.png)  <br/>\n",
    "#### where, \n",
    "![](./images/e_5.15.png)"
   ]
  },
  {
   "cell_type": "markdown",
   "metadata": {},
   "source": [
    " "
   ]
  },
  {
   "cell_type": "markdown",
   "metadata": {},
   "source": [
    " "
   ]
  },
  {
   "cell_type": "code",
   "execution_count": null,
   "metadata": {},
   "outputs": [],
   "source": []
  }
 ],
 "metadata": {
  "kernelspec": {
   "display_name": "Python 3",
   "language": "python",
   "name": "python3"
  },
  "language_info": {
   "codemirror_mode": {
    "name": "ipython",
    "version": 3
   },
   "file_extension": ".py",
   "mimetype": "text/x-python",
   "name": "python",
   "nbconvert_exporter": "python",
   "pygments_lexer": "ipython3",
   "version": "3.6.5"
  }
 },
 "nbformat": 4,
 "nbformat_minor": 2
}
