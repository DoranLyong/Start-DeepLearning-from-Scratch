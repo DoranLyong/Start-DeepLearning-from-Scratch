{
 "cells": [
  {
   "cell_type": "code",
   "execution_count": 3,
   "metadata": {},
   "outputs": [],
   "source": [
    "#coding: utf-8\n",
    "import numpy as np \n",
    "import sys, os \n",
    "sys.path.append( os.pardir ) # to import modules from 'common' directory\n",
    "                             # (Book page. 97)"
   ]
  },
  {
   "cell_type": "markdown",
   "metadata": {},
   "source": [
    "# Affine 계층 구현하기 "
   ]
  },
  {
   "cell_type": "markdown",
   "metadata": {},
   "source": [
    "**어파인 변환**$^{Affine \\space transformation}$ : <br/>\n",
    "> 신경망의 순전파 때 수행하는 행렬의 곱을 기하학에서 '어파인 변환'이라고 부름 "
   ]
  },
  {
   "cell_type": "markdown",
   "metadata": {},
   "source": [
    "![signal_transition](./images/fig_3-18.png)\n",
    "***\n",
    "![신호결합](./images/e_3.8.png) \n",
    "***\n",
    "![](./images/fig_affine.png) \n",
    "![](./images/e_3.9.png)"
   ]
  },
  {
   "cell_type": "markdown",
   "metadata": {},
   "source": [
    "$w_{11}^{(1)}$ : 가중치 표기법 (page.85) <br/>\n",
    "$w_{11}$ : 원소 번호로 표기 (page. 133)"
   ]
  },
  {
   "cell_type": "code",
   "execution_count": null,
   "metadata": {},
   "outputs": [],
   "source": []
  }
 ],
 "metadata": {
  "kernelspec": {
   "display_name": "Python 3",
   "language": "python",
   "name": "python3"
  },
  "language_info": {
   "codemirror_mode": {
    "name": "ipython",
    "version": 3
   },
   "file_extension": ".py",
   "mimetype": "text/x-python",
   "name": "python",
   "nbconvert_exporter": "python",
   "pygments_lexer": "ipython3",
   "version": "3.6.5"
  }
 },
 "nbformat": 4,
 "nbformat_minor": 2
}
