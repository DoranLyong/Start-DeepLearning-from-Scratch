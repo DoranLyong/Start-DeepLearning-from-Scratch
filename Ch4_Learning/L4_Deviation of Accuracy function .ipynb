{
 "cells": [
  {
   "cell_type": "markdown",
   "metadata": {},
   "source": [
    "## 정확도 함수와 미분 "
   ]
  },
  {
   "cell_type": "code",
   "execution_count": 1,
   "metadata": {},
   "outputs": [],
   "source": [
    "import numpy as np \n",
    "import matplotlib.pylab as plt "
   ]
  },
  {
   "cell_type": "markdown",
   "metadata": {},
   "source": [
    "### 정확도 함수 \n",
    "\\begin{equation*}\n",
    "Accuracy \\quad = \\quad f(x)\\quad =\\quad \\frac { x }{ N}\n",
    "\\end{equation*}\n",
    "\n",
    "### 정확도 함수 미분 \n",
    "\\begin{equation*}\n",
    "f'(x)\\quad =\\quad \\frac { 1 }{ N}\n",
    "\\end{equation*}"
   ]
  },
  {
   "cell_type": "code",
   "execution_count": 2,
   "metadata": {},
   "outputs": [],
   "source": [
    "def accuracy(x):\n",
    "    return x/100"
   ]
  },
  {
   "cell_type": "code",
   "execution_count": 3,
   "metadata": {},
   "outputs": [],
   "source": [
    "def numerical_diff(f, x):  # 수치해석 미분 \n",
    "    h = 1e-4               # 0.0001 (조낸 작은 수 예시)\n",
    "    return (f(x+h)-f(x-h)) / (2*h)"
   ]
  },
  {
   "cell_type": "code",
   "execution_count": 4,
   "metadata": {},
   "outputs": [],
   "source": [
    "def analytic_diff(x, N):      #해석학 미분 \n",
    "    return 1 / N "
   ]
  },
  {
   "cell_type": "code",
   "execution_count": 11,
   "metadata": {},
   "outputs": [],
   "source": [
    "def tangent_line(f, x, numerical=True):       # f는 예시 함수 f(x)\n",
    "    if numerical == True:\n",
    "        d        =  numerical_diff(f, x)      # 점 x에서의 미분값 \n",
    "        print(\"수치해석 미분계수 = \",d)\n",
    "    else: \n",
    "        d        =  analytic_diff(x)\n",
    "        print(\"해석적 미분계수 = \", d)\n",
    "    y_intercept  =  f(x) - d*x\n",
    "    return lambda t : d*t + y_intercept      # g(x) = f'(5)x + y절편 "
   ]
  },
  {
   "cell_type": "markdown",
   "metadata": {},
   "source": [
    "### 정의역(domain) "
   ]
  },
  {
   "cell_type": "code",
   "execution_count": 21,
   "metadata": {},
   "outputs": [
    {
     "name": "stdout",
     "output_type": "stream",
     "text": [
      "[ 0.  1.  2.  3.  4.  5.  6.  7.  8.  9. 10. 11. 12. 13. 14. 15. 16. 17.\n",
      " 18. 19. 20. 21. 22. 23. 24. 25. 26. 27. 28. 29. 30. 31. 32. 33. 34. 35.\n",
      " 36. 37. 38. 39. 40. 41. 42. 43. 44. 45. 46. 47. 48. 49. 50. 51. 52. 53.\n",
      " 54. 55. 56. 57. 58. 59. 60. 61. 62. 63. 64. 65. 66. 67. 68. 69. 70. 71.\n",
      " 72. 73. 74. 75. 76. 77. 78. 79. 80. 81. 82. 83. 84. 85. 86. 87. 88. 89.\n",
      " 90. 91. 92. 93. 94. 95. 96. 97. 98. 99.]\n"
     ]
    }
   ],
   "source": [
    "x        =  np.arange(0.0, 100.0, 1)  # 0 ~ 100.0 in 1 step \n",
    "\n",
    "N = x.shape[0]\n",
    "print(x)"
   ]
  },
  {
   "cell_type": "markdown",
   "metadata": {},
   "source": [
    "### 치역 (range, =target set) "
   ]
  },
  {
   "cell_type": "code",
   "execution_count": 13,
   "metadata": {},
   "outputs": [
    {
     "data": {
      "text/plain": [
       "(100,)"
      ]
     },
     "execution_count": 13,
     "metadata": {},
     "output_type": "execute_result"
    }
   ],
   "source": [
    "y     = accuracy(x)\n",
    "y.shape "
   ]
  },
  {
   "cell_type": "markdown",
   "metadata": {},
   "source": [
    "### 수치 미분 "
   ]
  },
  {
   "cell_type": "code",
   "execution_count": 14,
   "metadata": {},
   "outputs": [
    {
     "name": "stdout",
     "output_type": "stream",
     "text": [
      "0.010000000000287557\n"
     ]
    }
   ],
   "source": [
    "numeric_div   = numerical_diff(accuracy, 33)     # 정확하게 맞춘거 33개 \n",
    "print(numeric_div)"
   ]
  },
  {
   "cell_type": "markdown",
   "metadata": {},
   "source": [
    "### 접선 구하기 "
   ]
  },
  {
   "cell_type": "code",
   "execution_count": 24,
   "metadata": {},
   "outputs": [],
   "source": [
    "numeric_div   = numerical_diff(accuracy, 33)     # x=33 에서의 접선 \n",
    "y2          = numeric_div * np.ones((1,100)) \n",
    "y2          = np.reshape(y2,(100,))"
   ]
  },
  {
   "cell_type": "markdown",
   "metadata": {},
   "source": [
    "## 그래프"
   ]
  },
  {
   "cell_type": "code",
   "execution_count": 25,
   "metadata": {},
   "outputs": [
    {
     "data": {
      "image/png": "[encoded data removed]",
      "text/plain": [
       "<Figure size 432x288 with 1 Axes>"
      ]
     },
     "metadata": {},
     "output_type": "display_data"
    }
   ],
   "source": [
    "plt.xlabel(\"the number of true prediction\")\n",
    "plt.ylabel(\"Accuracy\")\n",
    "\n",
    "plt.plot(x, y)         # f(x) 그래프 \n",
    "plt.plot(x, y2)        # x = 10에서의 접선 그래프 with 수치 미분 \n",
    "\n",
    "\n",
    "plt.show()"
   ]
  },
  {
   "cell_type": "code",
   "execution_count": null,
   "metadata": {},
   "outputs": [],
   "source": [
    "# 정확도 함수 그래프와, "
   ]
  }
 ],
 "metadata": {
  "kernelspec": {
   "display_name": "Python 3",
   "language": "python",
   "name": "python3"
  },
  "language_info": {
   "codemirror_mode": {
    "name": "ipython",
    "version": 3
   },
   "file_extension": ".py",
   "mimetype": "text/x-python",
   "name": "python",
   "nbconvert_exporter": "python",
   "pygments_lexer": "ipython3",
   "version": "3.6.5"
  }
 },
 "nbformat": 4,
 "nbformat_minor": 2
}
