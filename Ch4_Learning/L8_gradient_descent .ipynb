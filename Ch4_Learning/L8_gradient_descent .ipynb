{
 "cells": [
  {
   "cell_type": "markdown",
   "metadata": {},
   "source": [
    "# 경사 하강법(gradient descent method) "
   ]
  },
  {
   "cell_type": "markdown",
   "metadata": {},
   "source": [
    "학습률(learning rate) 유의 <br/>\n",
    "\n",
    "학습률 같은 매개변수를 하이퍼파라미터(hyper parameter, 초매개변수)라고 함<br/>\n",
    "신경망의 매개변수인(weight, bias)와는 성질이 다른 매개변수"
   ]
  },
  {
   "cell_type": "markdown",
   "metadata": {},
   "source": [
    "<span style=\"color: blue\">신경망의 weight, bias</span>:  훈련 데이터와 학습 알고리즘을 통해 **'자동'**으로 획득되는 매개변수 <br/>\n",
    "\n",
    "<span style=\"color: red\">하이퍼파라미터</span>: 사람이 직접 설정해야 하는 매개변수 "
   ]
  },
  {
   "cell_type": "markdown",
   "metadata": {},
   "source": [
    "(p.129)"
   ]
  },
  {
   "cell_type": "code",
   "execution_count": 1,
   "metadata": {},
   "outputs": [],
   "source": [
    "import numpy as np\n",
    "import matplotlib.pylab as plt\n",
    "from gradient_2d import numerical_gradient"
   ]
  },
  {
   "cell_type": "code",
   "execution_count": 2,
   "metadata": {},
   "outputs": [],
   "source": [
    "def gradient_descent(f, init_x, lr=0.01, step_num=100):  # f        : 최적화하려는 함수 \n",
    "    x = init_x                                           # init_x   : 초깃값 \n",
    "    x_history = []                                       # lr       : learning rate \n",
    "                                                         # step_num : 경사법에 따른 반복 횟수 \n",
    "    for i in range(step_num):                           \n",
    "        x_history.append( x.copy() )\n",
    "\n",
    "        grad = numerical_gradient(f, x)\n",
    "        x -= lr * grad\n",
    "\n",
    "    return x, np.array(x_history)"
   ]
  },
  {
   "cell_type": "markdown",
   "metadata": {},
   "source": [
    "함수의 기울기는 numerical_gradient(f ,x)로 구함 <br/>\n",
    "그 기울기에 학습률을 곱한 값으로 갱신하는 처리를 step_num번 반복함 <br/>\n",
    "\n",
    "<center>$x_{0}=x_{0}- \\eta\\frac{\\partial f}{\\partial x_{0}}$  </center><br/>\n",
    "\n",
    "<center>$x_{1}=x_{1}- \\eta\\frac{\\partial f}{\\partial x_{1}}$ </center>\n"
   ]
  },
  {
   "cell_type": "markdown",
   "metadata": {},
   "source": [
    "**Example**: 경사법으로 $f(x_{0}, x_{1})= x_{0}^{2}+x_{1}^{2}$ 의 최솟값을 구하라 "
   ]
  },
  {
   "cell_type": "code",
   "execution_count": 3,
   "metadata": {},
   "outputs": [],
   "source": [
    "def function_2(x):\n",
    "    return x[0]**2 + x[1]**2   # f(x0, x1) = x0**2 + x1**2 "
   ]
  },
  {
   "cell_type": "code",
   "execution_count": 4,
   "metadata": {},
   "outputs": [],
   "source": [
    "init_x = np.array([-3.0, 4.0])     # 초기값 (-3.0, 4.0)"
   ]
  },
  {
   "cell_type": "markdown",
   "metadata": {},
   "source": [
    "초기값을 (-3.0, 4.0)으로 설정한 후 <br/>\n",
    "경사법으로 최소값을 탐색 "
   ]
  },
  {
   "cell_type": "code",
   "execution_count": 5,
   "metadata": {},
   "outputs": [],
   "source": [
    "learning_rate = 0.1\n",
    "step_num = 20\n",
    "x, x_history = gradient_descent(function_2, init_x, lr=learning_rate, step_num=step_num)"
   ]
  },
  {
   "cell_type": "code",
   "execution_count": 6,
   "metadata": {},
   "outputs": [],
   "source": [
    " print(x)      # 결과값 \n",
    "               # 거의 (0, 0)에 가까운 결과"
   ]
  },
  {
   "cell_type": "markdown",
   "metadata": {},
   "source": [
    "실제로 진정한 최소값은 (0, 0)이므로 경사법으로 거의 정확한 결과를 얻은 것임"
   ]
  },
  {
   "cell_type": "code",
   "execution_count": 7,
   "metadata": {},
   "outputs": [
    {
     "data": {
      "image/png": "[encoded data removed]",
      "text/plain": [
       "<Figure size 432x288 with 1 Axes>"
      ]
     },
     "metadata": {},
     "output_type": "display_data"
    }
   ],
   "source": [
    "plt.plot( [-5, 5], [0,0], '--b')\n",
    "plt.plot( [0,0], [-5, 5], '--b')\n",
    "plt.plot(x_history[:,0], x_history[:,1], 'o')\n",
    "\n",
    "\n",
    "plt.xlim(-3.5, 3.5)\n",
    "plt.ylim(-4.5, 4.5)\n",
    "plt.xlabel(\"X0\")\n",
    "plt.ylabel(\"X1\")\n",
    "plt.show()"
   ]
  },
  {
   "cell_type": "markdown",
   "metadata": {},
   "source": [
    "경사법을 사용한 갱신 과정을 나타냄 <br/>\n",
    "값이 가장 낮은 장소인 원점에 점점 가까워지고 있음 "
   ]
  },
  {
   "cell_type": "markdown",
   "metadata": {},
   "source": [
    "**Example 2** :학습률이 너무 크거나 작으면 어떨까? <br/>\n",
    "정말 좋은 결과를 기대할 수 없을까? "
   ]
  },
  {
   "cell_type": "markdown",
   "metadata": {},
   "source": [
    "### 학습률이 너무 큰 예"
   ]
  },
  {
   "cell_type": "code",
   "execution_count": 8,
   "metadata": {},
   "outputs": [],
   "source": [
    "init_x = np.array([-3.0, 4.0])     # 초기값 (-3.0, 4.0)"
   ]
  },
  {
   "cell_type": "code",
   "execution_count": 9,
   "metadata": {},
   "outputs": [],
   "source": [
    "learning_rate = 10.0                  # 학습률이 너무 큰 예 \n",
    "step_num = 100\n",
    "xx, xx_history = gradient_descent(function_2, init_x, lr=learning_rate, step_num=step_num)"
   ]
  },
  {
   "cell_type": "code",
   "execution_count": 10,
   "metadata": {},
   "outputs": [
    {
     "name": "stdout",
     "output_type": "stream",
     "text": [
      "[-2.58983747e+13 -1.29524862e+12]\n"
     ]
    }
   ],
   "source": [
    "print(xx)"
   ]
  },
  {
   "cell_type": "code",
   "execution_count": 11,
   "metadata": {},
   "outputs": [
    {
     "name": "stdout",
     "output_type": "stream",
     "text": [
      "[[-3.00000000e+00  4.00000000e+00]\n",
      " [ 5.70000000e+01 -7.60000000e+01]\n",
      " [-1.08300000e+03  1.44400000e+03]\n",
      " [ 2.05770000e+04 -2.74360000e+04]\n",
      " [-3.90963008e+05  5.21284002e+05]\n",
      " [ 7.42829664e+06 -9.90439654e+06]\n",
      " [-1.41137328e+08  1.88183103e+08]\n",
      " [ 2.68126267e+09 -3.57501690e+09]\n",
      " [-5.09763373e+10  6.79001831e+10]\n",
      " [ 9.45170863e+11 -1.29524862e+12]\n",
      " [-2.58983747e+13 -1.29524862e+12]\n",
      " [-2.58983747e+13 -1.29524862e+12]\n",
      " [-2.58983747e+13 -1.29524862e+12]\n",
      " [-2.58983747e+13 -1.29524862e+12]\n",
      " [-2.58983747e+13 -1.29524862e+12]\n",
      " [-2.58983747e+13 -1.29524862e+12]\n",
      " [-2.58983747e+13 -1.29524862e+12]\n",
      " [-2.58983747e+13 -1.29524862e+12]\n",
      " [-2.58983747e+13 -1.29524862e+12]\n",
      " [-2.58983747e+13 -1.29524862e+12]\n",
      " [-2.58983747e+13 -1.29524862e+12]\n",
      " [-2.58983747e+13 -1.29524862e+12]\n",
      " [-2.58983747e+13 -1.29524862e+12]\n",
      " [-2.58983747e+13 -1.29524862e+12]\n",
      " [-2.58983747e+13 -1.29524862e+12]\n",
      " [-2.58983747e+13 -1.29524862e+12]\n",
      " [-2.58983747e+13 -1.29524862e+12]\n",
      " [-2.58983747e+13 -1.29524862e+12]\n",
      " [-2.58983747e+13 -1.29524862e+12]\n",
      " [-2.58983747e+13 -1.29524862e+12]\n",
      " [-2.58983747e+13 -1.29524862e+12]\n",
      " [-2.58983747e+13 -1.29524862e+12]\n",
      " [-2.58983747e+13 -1.29524862e+12]\n",
      " [-2.58983747e+13 -1.29524862e+12]\n",
      " [-2.58983747e+13 -1.29524862e+12]\n",
      " [-2.58983747e+13 -1.29524862e+12]\n",
      " [-2.58983747e+13 -1.29524862e+12]\n",
      " [-2.58983747e+13 -1.29524862e+12]\n",
      " [-2.58983747e+13 -1.29524862e+12]\n",
      " [-2.58983747e+13 -1.29524862e+12]\n",
      " [-2.58983747e+13 -1.29524862e+12]\n",
      " [-2.58983747e+13 -1.29524862e+12]\n",
      " [-2.58983747e+13 -1.29524862e+12]\n",
      " [-2.58983747e+13 -1.29524862e+12]\n",
      " [-2.58983747e+13 -1.29524862e+12]\n",
      " [-2.58983747e+13 -1.29524862e+12]\n",
      " [-2.58983747e+13 -1.29524862e+12]\n",
      " [-2.58983747e+13 -1.29524862e+12]\n",
      " [-2.58983747e+13 -1.29524862e+12]\n",
      " [-2.58983747e+13 -1.29524862e+12]\n",
      " [-2.58983747e+13 -1.29524862e+12]\n",
      " [-2.58983747e+13 -1.29524862e+12]\n",
      " [-2.58983747e+13 -1.29524862e+12]\n",
      " [-2.58983747e+13 -1.29524862e+12]\n",
      " [-2.58983747e+13 -1.29524862e+12]\n",
      " [-2.58983747e+13 -1.29524862e+12]\n",
      " [-2.58983747e+13 -1.29524862e+12]\n",
      " [-2.58983747e+13 -1.29524862e+12]\n",
      " [-2.58983747e+13 -1.29524862e+12]\n",
      " [-2.58983747e+13 -1.29524862e+12]\n",
      " [-2.58983747e+13 -1.29524862e+12]\n",
      " [-2.58983747e+13 -1.29524862e+12]\n",
      " [-2.58983747e+13 -1.29524862e+12]\n",
      " [-2.58983747e+13 -1.29524862e+12]\n",
      " [-2.58983747e+13 -1.29524862e+12]\n",
      " [-2.58983747e+13 -1.29524862e+12]\n",
      " [-2.58983747e+13 -1.29524862e+12]\n",
      " [-2.58983747e+13 -1.29524862e+12]\n",
      " [-2.58983747e+13 -1.29524862e+12]\n",
      " [-2.58983747e+13 -1.29524862e+12]\n",
      " [-2.58983747e+13 -1.29524862e+12]\n",
      " [-2.58983747e+13 -1.29524862e+12]\n",
      " [-2.58983747e+13 -1.29524862e+12]\n",
      " [-2.58983747e+13 -1.29524862e+12]\n",
      " [-2.58983747e+13 -1.29524862e+12]\n",
      " [-2.58983747e+13 -1.29524862e+12]\n",
      " [-2.58983747e+13 -1.29524862e+12]\n",
      " [-2.58983747e+13 -1.29524862e+12]\n",
      " [-2.58983747e+13 -1.29524862e+12]\n",
      " [-2.58983747e+13 -1.29524862e+12]\n",
      " [-2.58983747e+13 -1.29524862e+12]\n",
      " [-2.58983747e+13 -1.29524862e+12]\n",
      " [-2.58983747e+13 -1.29524862e+12]\n",
      " [-2.58983747e+13 -1.29524862e+12]\n",
      " [-2.58983747e+13 -1.29524862e+12]\n",
      " [-2.58983747e+13 -1.29524862e+12]\n",
      " [-2.58983747e+13 -1.29524862e+12]\n",
      " [-2.58983747e+13 -1.29524862e+12]\n",
      " [-2.58983747e+13 -1.29524862e+12]\n",
      " [-2.58983747e+13 -1.29524862e+12]\n",
      " [-2.58983747e+13 -1.29524862e+12]\n",
      " [-2.58983747e+13 -1.29524862e+12]\n",
      " [-2.58983747e+13 -1.29524862e+12]\n",
      " [-2.58983747e+13 -1.29524862e+12]\n",
      " [-2.58983747e+13 -1.29524862e+12]\n",
      " [-2.58983747e+13 -1.29524862e+12]\n",
      " [-2.58983747e+13 -1.29524862e+12]\n",
      " [-2.58983747e+13 -1.29524862e+12]\n",
      " [-2.58983747e+13 -1.29524862e+12]\n",
      " [-2.58983747e+13 -1.29524862e+12]]\n"
     ]
    }
   ],
   "source": [
    "print(xx_history)"
   ]
  },
  {
   "cell_type": "code",
   "execution_count": 12,
   "metadata": {},
   "outputs": [
    {
     "data": {
      "text/plain": [
       "945170862671.636"
      ]
     },
     "execution_count": 12,
     "metadata": {},
     "output_type": "execute_result"
    }
   ],
   "source": [
    "xx_history.max()"
   ]
  },
  {
   "cell_type": "code",
   "execution_count": 13,
   "metadata": {},
   "outputs": [
    {
     "data": {
      "text/plain": [
       "-25898374737328.363"
      ]
     },
     "execution_count": 13,
     "metadata": {},
     "output_type": "execute_result"
    }
   ],
   "source": [
    "xx_history.min()"
   ]
  },
  {
   "cell_type": "markdown",
   "metadata": {},
   "source": [
    "학습률이 너무 커서 발산함 "
   ]
  },
  {
   "cell_type": "code",
   "execution_count": 14,
   "metadata": {},
   "outputs": [
    {
     "data": {
      "image/png": "[encoded data removed]",
      "text/plain": [
       "<Figure size 432x288 with 1 Axes>"
      ]
     },
     "metadata": {},
     "output_type": "display_data"
    }
   ],
   "source": [
    "plt.plot( [-5, 5], [0,0], '--b')\n",
    "plt.plot( [0,0], [-5, 5], '--b')\n",
    "plt.plot(xx_history[:,0], xx_history[:,1], 'o')\n",
    "\n",
    "\n",
    "plt.xlim(-3.5, 3.5)\n",
    "plt.ylim(-4.5, 4.5)\n",
    "plt.xlabel(\"X0\")\n",
    "plt.ylabel(\"X1\")\n",
    "plt.show()"
   ]
  },
  {
   "cell_type": "markdown",
   "metadata": {},
   "source": [
    "### 학습률이 너무 작은 예"
   ]
  },
  {
   "cell_type": "code",
   "execution_count": 15,
   "metadata": {},
   "outputs": [],
   "source": [
    "init_x = np.array([-3.0, 4.0])     # 초기값 (-3.0, 4.0)"
   ]
  },
  {
   "cell_type": "code",
   "execution_count": 16,
   "metadata": {},
   "outputs": [],
   "source": [
    "learning_rate = 1e-10                  # 0.0000000001 학습률이 너무 작은 예 \n",
    "step_num = 100\n",
    "xxx, xxx_history = gradient_descent(function_2, init_x, lr=learning_rate, step_num=step_num)"
   ]
  },
  {
   "cell_type": "code",
   "execution_count": 17,
   "metadata": {},
   "outputs": [
    {
     "name": "stdout",
     "output_type": "stream",
     "text": [
      "[-2.99999994  3.99999992]\n"
     ]
    }
   ],
   "source": [
    "print(xxx)"
   ]
  },
  {
   "cell_type": "code",
   "execution_count": 18,
   "metadata": {},
   "outputs": [
    {
     "name": "stdout",
     "output_type": "stream",
     "text": [
      "[[-3.          4.        ]\n",
      " [-3.          4.        ]\n",
      " [-3.          4.        ]\n",
      " [-3.          4.        ]\n",
      " [-3.          4.        ]\n",
      " [-3.          4.        ]\n",
      " [-3.          4.        ]\n",
      " [-3.          3.99999999]\n",
      " [-3.          3.99999999]\n",
      " [-2.99999999  3.99999999]\n",
      " [-2.99999999  3.99999999]\n",
      " [-2.99999999  3.99999999]\n",
      " [-2.99999999  3.99999999]\n",
      " [-2.99999999  3.99999999]\n",
      " [-2.99999999  3.99999999]\n",
      " [-2.99999999  3.99999999]\n",
      " [-2.99999999  3.99999999]\n",
      " [-2.99999999  3.99999999]\n",
      " [-2.99999999  3.99999999]\n",
      " [-2.99999999  3.99999998]\n",
      " [-2.99999999  3.99999998]\n",
      " [-2.99999999  3.99999998]\n",
      " [-2.99999999  3.99999998]\n",
      " [-2.99999999  3.99999998]\n",
      " [-2.99999999  3.99999998]\n",
      " [-2.99999998  3.99999998]\n",
      " [-2.99999998  3.99999998]\n",
      " [-2.99999998  3.99999998]\n",
      " [-2.99999998  3.99999998]\n",
      " [-2.99999998  3.99999998]\n",
      " [-2.99999998  3.99999998]\n",
      " [-2.99999998  3.99999998]\n",
      " [-2.99999998  3.99999997]\n",
      " [-2.99999998  3.99999997]\n",
      " [-2.99999998  3.99999997]\n",
      " [-2.99999998  3.99999997]\n",
      " [-2.99999998  3.99999997]\n",
      " [-2.99999998  3.99999997]\n",
      " [-2.99999998  3.99999997]\n",
      " [-2.99999998  3.99999997]\n",
      " [-2.99999998  3.99999997]\n",
      " [-2.99999998  3.99999997]\n",
      " [-2.99999997  3.99999997]\n",
      " [-2.99999997  3.99999997]\n",
      " [-2.99999997  3.99999996]\n",
      " [-2.99999997  3.99999996]\n",
      " [-2.99999997  3.99999996]\n",
      " [-2.99999997  3.99999996]\n",
      " [-2.99999997  3.99999996]\n",
      " [-2.99999997  3.99999996]\n",
      " [-2.99999997  3.99999996]\n",
      " [-2.99999997  3.99999996]\n",
      " [-2.99999997  3.99999996]\n",
      " [-2.99999997  3.99999996]\n",
      " [-2.99999997  3.99999996]\n",
      " [-2.99999997  3.99999996]\n",
      " [-2.99999997  3.99999996]\n",
      " [-2.99999997  3.99999995]\n",
      " [-2.99999997  3.99999995]\n",
      " [-2.99999996  3.99999995]\n",
      " [-2.99999996  3.99999995]\n",
      " [-2.99999996  3.99999995]\n",
      " [-2.99999996  3.99999995]\n",
      " [-2.99999996  3.99999995]\n",
      " [-2.99999996  3.99999995]\n",
      " [-2.99999996  3.99999995]\n",
      " [-2.99999996  3.99999995]\n",
      " [-2.99999996  3.99999995]\n",
      " [-2.99999996  3.99999995]\n",
      " [-2.99999996  3.99999994]\n",
      " [-2.99999996  3.99999994]\n",
      " [-2.99999996  3.99999994]\n",
      " [-2.99999996  3.99999994]\n",
      " [-2.99999996  3.99999994]\n",
      " [-2.99999996  3.99999994]\n",
      " [-2.99999995  3.99999994]\n",
      " [-2.99999995  3.99999994]\n",
      " [-2.99999995  3.99999994]\n",
      " [-2.99999995  3.99999994]\n",
      " [-2.99999995  3.99999994]\n",
      " [-2.99999995  3.99999994]\n",
      " [-2.99999995  3.99999994]\n",
      " [-2.99999995  3.99999993]\n",
      " [-2.99999995  3.99999993]\n",
      " [-2.99999995  3.99999993]\n",
      " [-2.99999995  3.99999993]\n",
      " [-2.99999995  3.99999993]\n",
      " [-2.99999995  3.99999993]\n",
      " [-2.99999995  3.99999993]\n",
      " [-2.99999995  3.99999993]\n",
      " [-2.99999995  3.99999993]\n",
      " [-2.99999995  3.99999993]\n",
      " [-2.99999994  3.99999993]\n",
      " [-2.99999994  3.99999993]\n",
      " [-2.99999994  3.99999992]\n",
      " [-2.99999994  3.99999992]\n",
      " [-2.99999994  3.99999992]\n",
      " [-2.99999994  3.99999992]\n",
      " [-2.99999994  3.99999992]\n",
      " [-2.99999994  3.99999992]]\n"
     ]
    }
   ],
   "source": [
    "print(xxx_history)"
   ]
  },
  {
   "cell_type": "markdown",
   "metadata": {},
   "source": [
    "학습률이 너무 작아서 거의 갱신되지 않고 끝남 "
   ]
  },
  {
   "cell_type": "code",
   "execution_count": 19,
   "metadata": {},
   "outputs": [
    {
     "data": {
      "image/png": "[encoded data removed]",
      "text/plain": [
       "<Figure size 432x288 with 1 Axes>"
      ]
     },
     "metadata": {},
     "output_type": "display_data"
    }
   ],
   "source": [
    "plt.plot( [-5, 5], [0,0], '--b')\n",
    "plt.plot( [0,0], [-5, 5], '--b')\n",
    "plt.plot(xxx_history[:,0], xxx_history[:,1], 'o')\n",
    "\n",
    "\n",
    "plt.xlim(-3.5, 3.5)\n",
    "plt.ylim(-4.5, 4.5)\n",
    "plt.xlabel(\"X0\")\n",
    "plt.ylabel(\"X1\")\n",
    "plt.show()"
   ]
  },
  {
   "cell_type": "code",
   "execution_count": null,
   "metadata": {},
   "outputs": [],
   "source": []
  }
 ],
 "metadata": {
  "kernelspec": {
   "display_name": "Python 3",
   "language": "python",
   "name": "python3"
  },
  "language_info": {
   "codemirror_mode": {
    "name": "ipython",
    "version": 3
   },
   "file_extension": ".py",
   "mimetype": "text/x-python",
   "name": "python",
   "nbconvert_exporter": "python",
   "pygments_lexer": "ipython3",
   "version": "3.6.5"
  }
 },
 "nbformat": 4,
 "nbformat_minor": 2
}
