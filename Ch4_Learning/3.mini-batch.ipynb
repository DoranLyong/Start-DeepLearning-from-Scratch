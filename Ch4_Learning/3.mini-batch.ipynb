{
 "cells": [
  {
   "cell_type": "markdown",
   "metadata": {},
   "source": [
    "# 미니배치 학습 "
   ]
  },
  {
   "cell_type": "code",
   "execution_count": 1,
   "metadata": {},
   "outputs": [],
   "source": [
    "import sys, os \n",
    "sys.path.append( os.pardir )          # 부모 디렉토리 경로를 sys.path에 추가(p.98)\n",
    "import numpy as np \n",
    "from dataset.mnist import load_mnist   # MNIST 데이터를 Numpy 객체로 불러오기 "
   ]
  },
  {
   "cell_type": "code",
   "execution_count": 2,
   "metadata": {
    "scrolled": true
   },
   "outputs": [
    {
     "name": "stdout",
     "output_type": "stream",
     "text": [
      "(60000, 784)\n",
      "(60000, 10)\n"
     ]
    }
   ],
   "source": [
    "(x_train, t_train), (x_test, t_test) = load_mnist( normalize=True, one_hot_label=True)\n",
    "\n",
    "print(x_train.shape)    # (60000, 784) = (데이터 개수, 평활화된 이미지 배열 28x28 -> 784)\n",
    "print(t_train.shape)    # (60000, 10) = (데이터 개수, 레이블 클래스 개수)"
   ]
  },
  {
   "cell_type": "code",
   "execution_count": 3,
   "metadata": {},
   "outputs": [
    {
     "data": {
      "text/plain": [
       "array([0., 0., 0., 0., 0., 1., 0., 0., 0., 0.])"
      ]
     },
     "execution_count": 3,
     "metadata": {},
     "output_type": "execute_result"
    }
   ],
   "source": [
    "t_train[0]    # 0 번째 데이터의 레이블  \n",
    "              # '정답은 5 in one-hot encoding'"
   ]
  },
  {
   "cell_type": "markdown",
   "metadata": {},
   "source": [
    "### 미니배치 고르기 "
   ]
  },
  {
   "cell_type": "code",
   "execution_count": 4,
   "metadata": {},
   "outputs": [
    {
     "name": "stdout",
     "output_type": "stream",
     "text": [
      "[57572 14945 45645 39530 18586  5334 10042 30228 40818  1034]\n"
     ]
    }
   ],
   "source": [
    "train_size  =  x_train.shape[0]   # 전체 데이터 개수(전체 batch) \n",
    "batch_size  =  10                 # 모집단 (mini-batch)\n",
    "\n",
    "batch_mask  =  np.random.choice(train_size, batch_size) \n",
    "print(batch_mask)                 # 0 ~ 59999 숫자 중 임의로 10개 고름  "
   ]
  },
  {
   "cell_type": "code",
   "execution_count": 5,
   "metadata": {},
   "outputs": [
    {
     "name": "stdout",
     "output_type": "stream",
     "text": [
      "(10, 784)\n",
      "(10, 10)\n"
     ]
    }
   ],
   "source": [
    "x_batch   =  x_train[batch_mask]  # 뽑힌 숫자를 index로 사용 \n",
    "t_batch   =  t_train[batch_mask]\n",
    "\n",
    "print(x_batch.shape)\n",
    "print(t_batch.shape)"
   ]
  },
  {
   "cell_type": "code",
   "execution_count": 6,
   "metadata": {},
   "outputs": [
    {
     "data": {
      "text/plain": [
       "array([55489, 19539, 24795, 34910, 47593, 56433, 53601, 28763, 29413,\n",
       "       56443])"
      ]
     },
     "execution_count": 6,
     "metadata": {},
     "output_type": "execute_result"
    }
   ],
   "source": [
    "np.random.choice(60000, 10)   #[0, 60000) 수 중에서 무작위로 10개 뽑아라 "
   ]
  },
  {
   "cell_type": "markdown",
   "metadata": {},
   "source": [
    "## (batch용) 교차 엔트로피 오차 구현하기 "
   ]
  },
  {
   "cell_type": "code",
   "execution_count": 7,
   "metadata": {},
   "outputs": [],
   "source": [
    "def CEE_batch(y, t):   # y: output, t: label \n",
    "    if y.ndim == 1:    # y객체가 1-D 배열이냐? => batch_size = 1\n",
    "        t  = t.reshape(1, t.size)  # 1-D 배열로 변환 \n",
    "        y  = y.reshape(1, y.size)  # 1-D 배열로 변환 \n",
    "        \n",
    "    epsilon     =  1e-7    \n",
    "    batch_size  =  y.shape[0]  # 총 데이터 개수 N \n",
    "    return -np.sum(t * np.log(y + epsilon)) / batch_size  # 평균 CEE = sum(CEE)/N "
   ]
  },
  {
   "cell_type": "markdown",
   "metadata": {},
   "source": [
    "### batch size = 2인 데이터 예시 "
   ]
  },
  {
   "cell_type": "code",
   "execution_count": 8,
   "metadata": {},
   "outputs": [],
   "source": [
    "y  =  [[0.1, 0.05, 0.6, 0.0, 0.05, 0.1, 0.0, 0.1, 0.0, 0.0],\n",
    "        [0.2, 0.3, 0.0, 0.0, 0.6, 0.0, 0.1, 0.0, 0.0, 0.0]  ] # 숫자 클래스 10개\n",
    "\n",
    "t  =  [[ 0 ,  0  ,  1 ,  0 ,   0 ,  0 ,  0 ,  0 ,  0 ,  0 ],\n",
    "       [ 0,   1,    0 ,  0 ,   0 ,  0 ,  0 ,  0 ,  0  , 0]] # one-hot encoding "
   ]
  },
  {
   "cell_type": "code",
   "execution_count": 9,
   "metadata": {},
   "outputs": [
    {
     "name": "stdout",
     "output_type": "stream",
     "text": [
      "(2, 10)\n",
      "(2, 10)\n"
     ]
    }
   ],
   "source": [
    "result_y   =  np.array(y)      # batch_size = 2 \n",
    "label_t    =  np.array(t)       \n",
    "\n",
    "print(result_y.shape)\n",
    "print(label_t.shape)\n"
   ]
  },
  {
   "cell_type": "code",
   "execution_count": 10,
   "metadata": {},
   "outputs": [
    {
     "name": "stdout",
     "output_type": "stream",
     "text": [
      "loss_function =  0.8573989640459981\n"
     ]
    }
   ],
   "source": [
    "loss_function   =  CEE_batch(result_y, label_t)\n",
    "print(\"loss_function = \", loss_function)"
   ]
  },
  {
   "cell_type": "markdown",
   "metadata": {},
   "source": [
    "## (batch용) 교차 엔트로피 오차 for non one-hot encoding "
   ]
  },
  {
   "cell_type": "code",
   "execution_count": 11,
   "metadata": {},
   "outputs": [
    {
     "name": "stdout",
     "output_type": "stream",
     "text": [
      "(60000, 784)\n",
      "(60000,)\n"
     ]
    }
   ],
   "source": [
    "(x_train_non, t_train_non), (x_test_non, t_test_non) = load_mnist( normalize=True, one_hot_label=False)\n",
    "\n",
    "print(x_train_non.shape)    # (60000, 784) = (데이터 개수, 평활화된 이미지 배열 28x28 -> 784)\n",
    "print(t_train_non.shape)    # (60000, ) = (데이터 개수, )"
   ]
  },
  {
   "cell_type": "code",
   "execution_count": 12,
   "metadata": {},
   "outputs": [
    {
     "data": {
      "text/plain": [
       "array([0., 0., 0., 0., 0., 1., 0., 0., 0., 0.])"
      ]
     },
     "execution_count": 12,
     "metadata": {},
     "output_type": "execute_result"
    }
   ],
   "source": [
    "t_train[0]    # 0 번째 데이터의 레이블  \n",
    "              # '정답은 5 in one-hot encoding'"
   ]
  },
  {
   "cell_type": "code",
   "execution_count": 13,
   "metadata": {},
   "outputs": [
    {
     "data": {
      "text/plain": [
       "5"
      ]
     },
     "execution_count": 13,
     "metadata": {},
     "output_type": "execute_result"
    }
   ],
   "source": [
    "t_train_non[0]   # non one-hot encoding "
   ]
  },
  {
   "cell_type": "code",
   "execution_count": 14,
   "metadata": {},
   "outputs": [],
   "source": [
    "def CEE_batch_non(y, t):     #y: output,  t: lable \n",
    "    if y.ndim == 1:       # yrorcprk 1D 배열 => batch_size = 1 \n",
    "        t  =  t.reshape(1, t.size) \n",
    "        y  =  y.reshape(1, y.size) \n",
    "        \n",
    "    epsilon     = 1e-7\n",
    "    batch_size  = y.shape[0]  # 총 데이터 개수N \n",
    "    return  -np.sum(np.log( y[np.arange(batch_size), t] + epsilon  ))/batch_size # 평균 CEE = sum(CEE) / N "
   ]
  },
  {
   "cell_type": "markdown",
   "metadata": {},
   "source": [
    "### batch size = 2인 데이터 예시 "
   ]
  },
  {
   "cell_type": "code",
   "execution_count": 15,
   "metadata": {},
   "outputs": [],
   "source": [
    "y  =  [[0.1, 0.05, 0.6, 0.0, 0.05, 0.1, 0.0, 0.1, 0.0, 0.0],\n",
    "        [0.2, 0.3, 0.0, 0.0, 0.6, 0.0, 0.1, 0.0, 0.0, 0.0]  ] # 숫자 클래스 10개\n",
    "\n",
    "t  =  [2, 1] # Non one-hot encoding\n",
    "             # 0번째 데이터 t[0]의 정답 = '2' \n",
    "             # 1번째 데이터 t[1]의 정답 = '1'"
   ]
  },
  {
   "cell_type": "code",
   "execution_count": 16,
   "metadata": {},
   "outputs": [
    {
     "name": "stdout",
     "output_type": "stream",
     "text": [
      "(2, 10)\n",
      "(2,)\n"
     ]
    }
   ],
   "source": [
    "result_y   =  np.array(y)      # batch_size = 2 \n",
    "label_t    =  np.array(t)       \n",
    "\n",
    "print(result_y.shape)\n",
    "print(label_t.shape)"
   ]
  },
  {
   "cell_type": "code",
   "execution_count": 17,
   "metadata": {},
   "outputs": [
    {
     "name": "stdout",
     "output_type": "stream",
     "text": [
      "loss_function =  0.8573989640459981\n"
     ]
    }
   ],
   "source": [
    "loss_function   =  CEE_batch_non(result_y, label_t)\n",
    "print(\"loss_function = \", loss_function)"
   ]
  },
  {
   "cell_type": "markdown",
   "metadata": {},
   "source": [
    "#### Array slicing 예시 "
   ]
  },
  {
   "cell_type": "code",
   "execution_count": 18,
   "metadata": {},
   "outputs": [
    {
     "data": {
      "text/plain": [
       "array([0, 1])"
      ]
     },
     "execution_count": 18,
     "metadata": {},
     "output_type": "execute_result"
    }
   ],
   "source": [
    "np.arange(2)   "
   ]
  },
  {
   "cell_type": "code",
   "execution_count": 19,
   "metadata": {},
   "outputs": [
    {
     "data": {
      "text/plain": [
       "array([2, 1])"
      ]
     },
     "execution_count": 19,
     "metadata": {},
     "output_type": "execute_result"
    }
   ],
   "source": [
    "label_t"
   ]
  },
  {
   "cell_type": "code",
   "execution_count": 20,
   "metadata": {},
   "outputs": [
    {
     "data": {
      "text/plain": [
       "array([[0.1 , 0.05, 0.6 , 0.  , 0.05, 0.1 , 0.  , 0.1 , 0.  , 0.  ],\n",
       "       [0.2 , 0.3 , 0.  , 0.  , 0.6 , 0.  , 0.1 , 0.  , 0.  , 0.  ]])"
      ]
     },
     "execution_count": 20,
     "metadata": {},
     "output_type": "execute_result"
    }
   ],
   "source": [
    "result_y\n"
   ]
  },
  {
   "cell_type": "code",
   "execution_count": 21,
   "metadata": {},
   "outputs": [
    {
     "data": {
      "text/plain": [
       "array([0.6, 0.3])"
      ]
     },
     "execution_count": 21,
     "metadata": {},
     "output_type": "execute_result"
    }
   ],
   "source": [
    "result_y[ np.arange(2), label_t ]      # Array slicing "
   ]
  },
  {
   "cell_type": "code",
   "execution_count": 22,
   "metadata": {},
   "outputs": [
    {
     "data": {
      "text/plain": [
       "array([0.6, 0.3])"
      ]
     },
     "execution_count": 22,
     "metadata": {},
     "output_type": "execute_result"
    }
   ],
   "source": [
    "result_y[ [0,1], [2,1]]   # 좌표 (0, 2) ->  0.6\n",
    "                          # 좌표 (1, 1) ->  0.3 "
   ]
  },
  {
   "cell_type": "code",
   "execution_count": null,
   "metadata": {},
   "outputs": [],
   "source": []
  }
 ],
 "metadata": {
  "kernelspec": {
   "display_name": "Python 3",
   "language": "python",
   "name": "python3"
  },
  "language_info": {
   "codemirror_mode": {
    "name": "ipython",
    "version": 3
   },
   "file_extension": ".py",
   "mimetype": "text/x-python",
   "name": "python",
   "nbconvert_exporter": "python",
   "pygments_lexer": "ipython3",
   "version": "3.6.5"
  }
 },
 "nbformat": 4,
 "nbformat_minor": 2
}
