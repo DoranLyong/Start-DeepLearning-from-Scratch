{
 "cells": [
  {
   "cell_type": "markdown",
   "metadata": {},
   "source": [
    "# MNIST 데이터셋을 활용한 추론을 수행하는 신경망 구현 "
   ]
  },
  {
   "cell_type": "code",
   "execution_count": 1,
   "metadata": {},
   "outputs": [],
   "source": [
    "import sys, os \n",
    "sys.path.append(os.pardir)   #부모 디렉토리 밑에 mnist.py 모듈에서 \n",
    "                             # load_mnist() 함수를 가져오기 위함 \n",
    "from dataset.mnist import load_mnist "
   ]
  },
  {
   "cell_type": "code",
   "execution_count": 2,
   "metadata": {},
   "outputs": [],
   "source": [
    "import numpy as np \n",
    "import pickle "
   ]
  },
  {
   "cell_type": "markdown",
   "metadata": {},
   "source": [
    "## 추론 작업에 필요한 함수 정의 "
   ]
  },
  {
   "cell_type": "markdown",
   "metadata": {},
   "source": [
    "### (1) MNIST 데이터를 np.ndarray 객체로 불러오기 "
   ]
  },
  {
   "cell_type": "code",
   "execution_count": 3,
   "metadata": {},
   "outputs": [],
   "source": [
    "def get_data():\n",
    "    (x_train, t_train), (x_test, t_test) = load_mnist(normalize=True, flatten=True, one_hot_label=False)\n",
    "    return  x_test, t_test     # 시험 데이터셋 \n",
    "                               # 이번 단원의 학습 목표는 추론 단계를 시현하는 것 "
   ]
  },
  {
   "cell_type": "markdown",
   "metadata": {},
   "source": [
    "### (2) 사전 학습된 가중치 파일 불로오기 "
   ]
  },
  {
   "cell_type": "code",
   "execution_count": 4,
   "metadata": {},
   "outputs": [],
   "source": [
    "def init_network():\n",
    "    with open('sample_weight.pkl', mode='rb') as f: \n",
    "        network   =  pickle.load(f)                   # 직렬화된 파일 복원 \n",
    "\n",
    "    return network"
   ]
  },
  {
   "cell_type": "markdown",
   "metadata": {},
   "source": [
    "### (3) 추론"
   ]
  },
  {
   "cell_type": "code",
   "execution_count": 5,
   "metadata": {},
   "outputs": [],
   "source": [
    "def predict(network, x):\n",
    "    # print(network)\n",
    "    # print(type(network))\n",
    "    W1, W2, W3    =  network['W1'], network['W2'], network['W3'] # weight\n",
    "    b1, b2, b3    =  network['b1'], network['b2'], network['b3'] # bias \n",
    "    \n",
    "    a1  =  np.dot(x, W1) + b1 \n",
    "    z1  =  sigmoid(a1) \n",
    "    a2  =  np.dot(z1, W2)     + b2 \n",
    "    z2  =  sigmoid(a2) \n",
    "    a3  =  np.dot(z2, W3)     + b3\n",
    "    y   =  softmax(a3)       \n",
    "    \n",
    "    return  y "
   ]
  },
  {
   "cell_type": "markdown",
   "metadata": {},
   "source": [
    "## 활성화 함수 정의 "
   ]
  },
  {
   "cell_type": "code",
   "execution_count": 6,
   "metadata": {},
   "outputs": [],
   "source": [
    "def sigmoid(x): \n",
    "    return 1 / (1 + np.exp(-x))\n",
    "\n",
    "\n",
    "def softmax(x):\n",
    "    if x.ndim == 2:                 # x 배열 객체의 차원 수 반환 (1D, 2D, 3D ???)\n",
    "        x = x.T                     # 전치(Transpose)\n",
    "        x = x - np.max(x, axis=0)   # axis=0, 각 열의 합 \n",
    "        y = np.exp(x) / np.sum(np.exp(x), axis=0)\n",
    "        return y.T\n",
    "    \n",
    "    else: \n",
    "        x = x - np.max(x)   # 오버플로우 대책 \n",
    "        return np.exp(x) / np.sum( np.exp(x) )"
   ]
  },
  {
   "cell_type": "markdown",
   "metadata": {},
   "source": [
    "## main() "
   ]
  },
  {
   "cell_type": "code",
   "execution_count": 7,
   "metadata": {},
   "outputs": [],
   "source": [
    "x,  label   =  get_data() \n",
    "network = init_network()    # 사전 학습된 가중치 불러오기 "
   ]
  },
  {
   "cell_type": "code",
   "execution_count": 8,
   "metadata": {
    "scrolled": true
   },
   "outputs": [
    {
     "ename": "SyntaxError",
     "evalue": "unexpected character after line continuation character (<ipython-input-8-c2620590e612>, line 6)",
     "output_type": "error",
     "traceback": [
      "\u001b[1;36m  File \u001b[1;32m\"<ipython-input-8-c2620590e612>\"\u001b[1;36m, line \u001b[1;32m6\u001b[0m\n\u001b[1;33m    print(\\n)\u001b[0m\n\u001b[1;37m             ^\u001b[0m\n\u001b[1;31mSyntaxError\u001b[0m\u001b[1;31m:\u001b[0m unexpected character after line continuation character\n"
     ]
    }
   ],
   "source": [
    "accuracy_cnt = 0            # 정확하게 예측한 것 카운트 (TP)\n",
    "\n",
    "for i in range(len(x)):\n",
    "    y = predict(network, x[i])  # x[i]: 평활화된 i번째 이미지 \n",
    "    print(\"probability = \",y)   # 출력된 클래스별 확률 \n",
    "    print(\"\\n\")\n",
    "    max_idx = np.argmax(y)      # 값이 가장 큰 원소의 인덱스 반환 \n",
    "    \n",
    "    if max_idx == label[i]: \n",
    "        accuracy_cnt += 1 "
   ]
  },
  {
   "cell_type": "code",
   "execution_count": null,
   "metadata": {},
   "outputs": [],
   "source": [
    "print(\"Accuracy: \" + str(float(accuracy_cnt) / len(x)))  # 정확도 계산 "
   ]
  }
 ],
 "metadata": {
  "kernelspec": {
   "display_name": "Python 3",
   "language": "python",
   "name": "python3"
  },
  "language_info": {
   "codemirror_mode": {
    "name": "ipython",
    "version": 3
   },
   "file_extension": ".py",
   "mimetype": "text/x-python",
   "name": "python",
   "nbconvert_exporter": "python",
   "pygments_lexer": "ipython3",
   "version": "3.6.5"
  }
 },
 "nbformat": 4,
 "nbformat_minor": 2
}
