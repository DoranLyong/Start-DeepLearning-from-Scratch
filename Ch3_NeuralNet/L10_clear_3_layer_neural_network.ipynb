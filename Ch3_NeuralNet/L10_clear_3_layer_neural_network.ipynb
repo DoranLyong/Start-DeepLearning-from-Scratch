{
 "cells": [
  {
   "cell_type": "markdown",
   "metadata": {},
   "source": [
    "## 3층 신경망 깔금하게 코딩하기 "
   ]
  },
  {
   "cell_type": "code",
   "execution_count": 1,
   "metadata": {},
   "outputs": [],
   "source": [
    "import numpy as np "
   ]
  },
  {
   "cell_type": "code",
   "execution_count": 2,
   "metadata": {},
   "outputs": [],
   "source": [
    "# 활성화 함수 \n",
    "def sigmoid(x):\n",
    "    y = 1 / (1 + np.exp(-x))\n",
    "    return y \n",
    "\n",
    "def identity_function(x):\n",
    "    return x "
   ]
  },
  {
   "cell_type": "code",
   "execution_count": 3,
   "metadata": {},
   "outputs": [],
   "source": [
    "# Given_ 가중치, 편향 \n",
    "def init_network():\n",
    "    network          =  {}                                           # empty_dict {key:value}\n",
    "    network['W1']    = np.array([[0.1, 0.3, 0.5], [0.2, 0.4, 0.6] ]) #(1층) 가중치 \n",
    "    network['b1']    = np.array( [0.1, 0.2, 0.3])                    #(1층) 편향\n",
    "    network['W2']    = np.array([[0.1, 0.4], [0.2, 0.5], [0.3, 0.6]])#(2층) 가중치 \n",
    "    network['b2']    = np.array( [0.1, 0.2])                         #(2층) 편향 \n",
    "    network['W3']    = np.array([[0.1, 0.3], [0.2, 0.4]])            #(3층) 가중치 \n",
    "    network['b3']    = np.array([0.1, 0.2])                          #(3층) 편향 \n",
    "    \n",
    "    return network"
   ]
  },
  {
   "cell_type": "code",
   "execution_count": 4,
   "metadata": {},
   "outputs": [],
   "source": [
    "# 전방 신경망 처리_feedforward\n",
    "def forward(network, x): \n",
    "    W1, W2, W3       = network['W1'], network['W2'], network['W3']   # <tuple> unpacking \n",
    "    b1, b2, b3       = network['b1'], network['b2'], network['b3'] \n",
    "    \n",
    "    a1       = np.dot(x , W1) + b1                           #(1층)뉴런의 가중치 합들 \n",
    "    z1       = sigmoid(a1)                                   #(1층)뉴런의 변환된 신호들 \n",
    "    a2       = np.dot(z1, W2) + b2                           #(2층)뉴런의 가중치 합들 \n",
    "    z2       = sigmoid(a2)                                   #(2층)뉴런의 변환된 신호들 \n",
    "    a3       = np.dot(z2, W3) + b3                           #(3층)뉴런의 가중치 합들 \n",
    "    y        = identity_function(a3)                         #(3층)최종 출력 \n",
    "                \n",
    "    return y"
   ]
  },
  {
   "cell_type": "code",
   "execution_count": 5,
   "metadata": {},
   "outputs": [
    {
     "name": "stdout",
     "output_type": "stream",
     "text": [
      "{'W1': array([[0.1, 0.3, 0.5],\n",
      "       [0.2, 0.4, 0.6]]), 'b1': array([0.1, 0.2, 0.3]), 'W2': array([[0.1, 0.4],\n",
      "       [0.2, 0.5],\n",
      "       [0.3, 0.6]]), 'b2': array([0.1, 0.2]), 'W3': array([[0.1, 0.3],\n",
      "       [0.2, 0.4]]), 'b3': array([0.1, 0.2])}\n"
     ]
    }
   ],
   "source": [
    "#__main__\n",
    "\n",
    "network     = init_network()    # given_가중치, 편향으로 신경망 초기화 \n",
    "print(network)"
   ]
  },
  {
   "cell_type": "code",
   "execution_count": 6,
   "metadata": {},
   "outputs": [
    {
     "name": "stdout",
     "output_type": "stream",
     "text": [
      "[0.31682708 0.69627909]\n"
     ]
    }
   ],
   "source": [
    "x    = np.array([1.0, 0.5])   #(0층) 입력 신호 1-D 배열(=벡터)\n",
    "y    = forward(network, x)    #(3층) 최종 출력 \n",
    "print(y)"
   ]
  },
  {
   "cell_type": "code",
   "execution_count": null,
   "metadata": {},
   "outputs": [],
   "source": []
  }
 ],
 "metadata": {
  "kernelspec": {
   "display_name": "Python 3",
   "language": "python",
   "name": "python3"
  },
  "language_info": {
   "codemirror_mode": {
    "name": "ipython",
    "version": 3
   },
   "file_extension": ".py",
   "mimetype": "text/x-python",
   "name": "python",
   "nbconvert_exporter": "python",
   "pygments_lexer": "ipython3",
   "version": "3.6.5"
  }
 },
 "nbformat": 4,
 "nbformat_minor": 2
}
