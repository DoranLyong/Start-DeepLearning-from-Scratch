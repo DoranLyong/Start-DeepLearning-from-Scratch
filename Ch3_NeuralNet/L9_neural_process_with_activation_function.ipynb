{
 "cells": [
  {
   "cell_type": "markdown",
   "metadata": {},
   "source": [
    "## 활성화 함수로 변환된 신경망 신호 "
   ]
  },
  {
   "cell_type": "code",
   "execution_count": 2,
   "metadata": {},
   "outputs": [],
   "source": [
    "import numpy as np \n",
    "\n",
    "def sigmoid(x):\n",
    "    y = 1 / (1 + np.exp(-x))\n",
    "    return y "
   ]
  },
  {
   "cell_type": "code",
   "execution_count": 3,
   "metadata": {},
   "outputs": [],
   "source": [
    "X    = np.array( [1.0, 0.5] )      # 입력 신호 1-D 배열(=벡터)\n",
    "W1   = np.array([ [0.1, 0.3, 0.5],\n",
    "                  [0.2, 0.4, 0.6]])# (1층) 가중치 2-D 배열(=행렬)\n",
    "B1   = np.array( [0.1, 0.2, 0.3])  # (1층) 편향 1-D 배열(=벡터)"
   ]
  },
  {
   "cell_type": "code",
   "execution_count": 10,
   "metadata": {},
   "outputs": [
    {
     "name": "stdout",
     "output_type": "stream",
     "text": [
      "[a1,a2, a3] =  [0.3 0.7 1.1]\n"
     ]
    }
   ],
   "source": [
    "A1   = np.dot(X, W1) + B1          # (1층) 뉴런의 가중치 합들\n",
    "print(\"[a1,a2, a3] = \", A1)                          "
   ]
  },
  {
   "cell_type": "code",
   "execution_count": 9,
   "metadata": {},
   "outputs": [
    {
     "name": "stdout",
     "output_type": "stream",
     "text": [
      "[z1, z2, z3] =  [0.57444252 0.66818777 0.75026011]\n"
     ]
    }
   ],
   "source": [
    "Z1    = sigmoid(A1)                # (1층) 뉴런의 변환된 신호들\n",
    "print(\"[z1, z2, z3] = \",Z1)"
   ]
  },
  {
   "cell_type": "markdown",
   "metadata": {},
   "source": [
    "## 1층의 뉴런은 새로운 입력신호가 된다 "
   ]
  },
  {
   "cell_type": "code",
   "execution_count": 11,
   "metadata": {},
   "outputs": [],
   "source": [
    "# New_input from 1-layer  \n",
    "# [z1, z2, z3]"
   ]
  },
  {
   "cell_type": "code",
   "execution_count": 12,
   "metadata": {},
   "outputs": [],
   "source": [
    "W2    = np.array([  [0.1, 0.4], \n",
    "                    [0.2, 0.5],\n",
    "                    [0.3, 0.6]])  # (2층)가중치 2-D 배열(=행렬)\n",
    "\n",
    "B2     = np.array( [0.1, 0.2])    # (2층)편향 1-D 배열(=벡터)"
   ]
  },
  {
   "cell_type": "code",
   "execution_count": 17,
   "metadata": {},
   "outputs": [
    {
     "name": "stdout",
     "output_type": "stream",
     "text": [
      "(3,)\n",
      "(3, 2)\n",
      "(2,)\n"
     ]
    }
   ],
   "source": [
    "print(Z1.shape)   # 1-by-3\n",
    "print(W2.shape)   # 3-by-2\n",
    "print(B2.shape)   # 1-by-2\n",
    "                  # 대응하는 원소 개수가 같음 \n",
    "                  # => 행렬 연산 가능 "
   ]
  },
  {
   "cell_type": "code",
   "execution_count": 18,
   "metadata": {},
   "outputs": [
    {
     "name": "stdout",
     "output_type": "stream",
     "text": [
      "[a1, a2] =  [0.51615984 1.21402696]\n"
     ]
    }
   ],
   "source": [
    "A2     = np.dot(Z1, W2) + B2     #(2층) 뉴런의 가중치 합들 \n",
    "print(\"[a1, a2] = \", A2)"
   ]
  },
  {
   "cell_type": "code",
   "execution_count": 19,
   "metadata": {},
   "outputs": [
    {
     "name": "stdout",
     "output_type": "stream",
     "text": [
      "[z1, z2] =  [0.62624937 0.7710107 ]\n"
     ]
    }
   ],
   "source": [
    "Z2     = sigmoid(A2)             #(2층) 뉴런의 변환된 신호들 \n",
    "print(\"[z1, z2] = \",Z2)"
   ]
  },
  {
   "cell_type": "markdown",
   "metadata": {},
   "source": [
    "## 2층의 뉴런은 새로운 입력 신호가 된다"
   ]
  },
  {
   "cell_type": "code",
   "execution_count": null,
   "metadata": {},
   "outputs": [],
   "source": [
    "# New_input from 2-layer \n",
    "# [z1, z2]"
   ]
  },
  {
   "cell_type": "code",
   "execution_count": 22,
   "metadata": {},
   "outputs": [],
   "source": [
    "def identity_function(x):\n",
    "    return x "
   ]
  },
  {
   "cell_type": "code",
   "execution_count": 23,
   "metadata": {},
   "outputs": [],
   "source": [
    "W3    = np.array([[0.1, 0.3], \n",
    "                  [0.2, 0.4]])    #(3층)가중치 2-D 배열(=행렬)\n",
    "\n",
    "B3    = np.array([0.1, 0.2])      #(3층)편향 "
   ]
  },
  {
   "cell_type": "code",
   "execution_count": 25,
   "metadata": {},
   "outputs": [
    {
     "name": "stdout",
     "output_type": "stream",
     "text": [
      "[0.31682708 0.69627909]\n"
     ]
    }
   ],
   "source": [
    "A3    = np.dot(Z2, W3) + B3       #(3층)뉴런의 가중치 합들 \n",
    "print(A3)"
   ]
  },
  {
   "cell_type": "code",
   "execution_count": 26,
   "metadata": {},
   "outputs": [
    {
     "name": "stdout",
     "output_type": "stream",
     "text": [
      "[0.31682708 0.69627909]\n"
     ]
    }
   ],
   "source": [
    "Y    = identity_function(A3)       #최종 출력  \n",
    "print(Y)"
   ]
  },
  {
   "cell_type": "code",
   "execution_count": null,
   "metadata": {},
   "outputs": [],
   "source": []
  }
 ],
 "metadata": {
  "kernelspec": {
   "display_name": "Python 3",
   "language": "python",
   "name": "python3"
  },
  "language_info": {
   "codemirror_mode": {
    "name": "ipython",
    "version": 3
   },
   "file_extension": ".py",
   "mimetype": "text/x-python",
   "name": "python",
   "nbconvert_exporter": "python",
   "pygments_lexer": "ipython3",
   "version": "3.6.5"
  }
 },
 "nbformat": 4,
 "nbformat_minor": 2
}
