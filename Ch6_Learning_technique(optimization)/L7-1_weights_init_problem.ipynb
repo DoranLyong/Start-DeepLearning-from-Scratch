{
 "cells": [
  {
   "cell_type": "markdown",
   "metadata": {},
   "source": [
    "# 가중치의 초깃값<sup>init</sup>\n",
    "(p.202) - 기울기 소실 문제 "
   ]
  },
  {
   "cell_type": "markdown",
   "metadata": {},
   "source": [
    "## 가중치의 초깃값에 따른 은닉층 활성화값들의 변화 관계"
   ]
  },
  {
   "cell_type": "markdown",
   "metadata": {},
   "source": [
    " 가중치의 초깃값은 모두 0 이거나 균일해서는 안된다.  "
   ]
  },
  {
   "cell_type": "markdown",
   "metadata": {},
   "source": [
    "※ <b>활성화값</b>: 활성화 함수의 출력 데이터"
   ]
  },
  {
   "cell_type": "markdown",
   "metadata": {},
   "source": [
    "__Example__: 가중치 초깃값에 따른 은닉층의 활성화값 분포 <br/>\n",
    ">Activation function으로 시그모이드 함수를 사용해서 <br/>\n",
    ">활성화값들이 어떻게 변하는지 관찰\n",
    "\n",
    "__구현 방법__: \n",
    "> 5층 신경망에 무작위로 생성한 입력 데이터를 흘리며 각 층의 활성화값 분포를 히스토그램으로 그려봄 "
   ]
  },
  {
   "cell_type": "code",
   "execution_count": 1,
   "metadata": {},
   "outputs": [],
   "source": [
    "# coding: utf-8\n",
    "import numpy as np\n",
    "import matplotlib.pyplot as plt\n",
    "\n",
    "\n",
    "def sigmoid(x):\n",
    "    return 1 / (1 + np.exp(-x))\n",
    "\n",
    "\n",
    "def ReLU(x):\n",
    "    return np.maximum(0, x)\n",
    "\n",
    "\n",
    "def tanh(x):\n",
    "    return np.tanh(x)"
   ]
  },
  {
   "cell_type": "markdown",
   "metadata": {},
   "source": [
    "[Sigmoid function](https://github.com/DoranLyong/Start_deepLearning_from_floor-/blob/master/Ch3_NeuralNet/L2_Sigmoid_function%20.ipynb)\n",
    "<br/>\n",
    "\n",
    "[ReLU](https://github.com/DoranLyong/Start_deepLearning_from_floor-/blob/master/Ch3_NeuralNet/L4_ReLU.ipynb)\n",
    "<br/>"
   ]
  },
  {
   "cell_type": "code",
   "execution_count": 2,
   "metadata": {},
   "outputs": [],
   "source": [
    "input_data = np.random.randn(1000, 100)  # 1000개의 데이터\n",
    "                                          # 데이터의 노드 개수는 100개 "
   ]
  },
  {
   "cell_type": "code",
   "execution_count": 3,
   "metadata": {},
   "outputs": [
    {
     "name": "stdout",
     "output_type": "stream",
     "text": [
      "[[ 1.12988628 -0.19303792 -0.22371926 -1.8742821 ]\n",
      " [-0.80069026 -0.67624331 -0.38555149 -1.50065879]]\n"
     ]
    }
   ],
   "source": [
    "print(np.random.randn(2,4))        # 2 개의 데이터 \n",
    "                                   # 데이터의 노드 개수는 4개 "
   ]
  },
  {
   "cell_type": "code",
   "execution_count": 4,
   "metadata": {},
   "outputs": [],
   "source": [
    "node_num           = 100       # 각 은닉층의 노드(뉴런) 수 \n",
    "hidden_layer_size  = 5         # 은닉층이 5개 \n",
    "activations        = {}        # <dict>객체: 이곳에 활성화 결과(활성화값)를 저장 \n",
    "\n",
    "x = input_data"
   ]
  },
  {
   "cell_type": "code",
   "execution_count": 5,
   "metadata": {},
   "outputs": [],
   "source": [
    "for i in range(hidden_layer_size):\n",
    "    if i != 0:\n",
    "        x = activations[i-1]\n",
    "\n",
    "    # 초깃값을 다양하게 바꿔가며 실험해보자！ \n",
    "    # 초기값은 가우스 분포에 따라 무작위로 선택 \n",
    "    \n",
    "    w = np.random.randn(node_num, node_num) * 1         # 표준편차가 1인 정규분포 \n",
    "    #w = np.random.randn(node_num, node_num) * 0.01\n",
    "    #w = np.random.randn(node_num, node_num) * np.sqrt(1.0 / node_num)\n",
    "    # w = np.random.randn(node_num, node_num) * np.sqrt(2.0 / node_num)\n",
    "\n",
    "\n",
    "    a = np.dot(x, w)\n",
    "\n",
    "\n",
    "    # 활성화 함수도 바꿔가며 실험해보자！\n",
    "    z = sigmoid(a)\n",
    "    #z = ReLU(a)\n",
    "    # z = tanh(a)\n",
    "\n",
    "    activations[i] = z"
   ]
  },
  {
   "cell_type": "markdown",
   "metadata": {},
   "source": [
    "![](./images/fig1_weight_matrix_and_node_numbers22.png)"
   ]
  },
  {
   "cell_type": "markdown",
   "metadata": {},
   "source": [
    "__히스토그램 그리기__"
   ]
  },
  {
   "cell_type": "code",
   "execution_count": 6,
   "metadata": {},
   "outputs": [
    {
     "data": {
      "image/png": "[encoded data removed]",
      "text/plain": [
       "<Figure size 432x288 with 5 Axes>"
      ]
     },
     "metadata": {},
     "output_type": "display_data"
    }
   ],
   "source": [
    "for i, a in activations.items():           # <dict>.items() : key와 value를 반환 \n",
    "    plt.subplot(1, len(activations), i+1)\n",
    "    plt.title(str(i+1) + \"-layer\")\n",
    "    if i != 0: plt.yticks([], [])\n",
    "    # plt.xlim(0.1, 1)\n",
    "    # plt.ylim(0, 7000)\n",
    "    plt.hist(a.flatten(), 30, range=(0,1))\n",
    "plt.show()\n"
   ]
  },
  {
   "cell_type": "markdown",
   "metadata": {},
   "source": [
    "각 층의 활성화값들이 0과 1에 치우쳐 분포함 \n",
    "> 시그모이드 함수의 출력이 0이나 1에 가까워지면 그 미분은 0에 다가감 \n",
    "[sigmoid function](https://github.com/DoranLyong/Start_deepLearning_from_floor-/blob/master/Ch3_NeuralNet/L2_Sigmoid_function%20.ipynb)"
   ]
  },
  {
   "cell_type": "markdown",
   "metadata": {},
   "source": [
    "### 그래서 데이터가 0과 1에 치우쳐 분포하게 되면 역전파의 기울기 값이 점점 작아지다 사라짐 \n",
    "> ★ 이것이 <b>기울기 소실</b><sup>gradient vanishing</sup> 이라 알려진 문제점 "
   ]
  },
  {
   "cell_type": "markdown",
   "metadata": {},
   "source": [
    "※ 여기서 말하고 싶은 것은: <br/>\n",
    "* 활성화 값이 0과 1에 치우쳐서 순전파되면 역전파 때 기울기가 0 이되서 가중치를 갱신할 수 없음 \n",
    "\n",
    "    $\\frac{\\partial L}{\\partial \\mathbf{W}}$ = 0  $\\;$  ⇒ $\\;$    $\\mathbf{W}$ ← $\\mathbf{W}$ + 0   "
   ]
  },
  {
   "cell_type": "markdown",
   "metadata": {},
   "source": [
    "#### 층을 깊게 하는 딥러닝에서는 기울기 소실은 더 심각한 문제가 될 수 있음 "
   ]
  },
  {
   "cell_type": "markdown",
   "metadata": {},
   "source": [
    "***"
   ]
  },
  {
   "cell_type": "markdown",
   "metadata": {},
   "source": [
    "## 가중치의 표준편차를 수정해서 실험\n",
    "이번에는 가중치의 표준편차를 0.01로 바꿔서 같은 실험을 반복함 "
   ]
  },
  {
   "cell_type": "code",
   "execution_count": 7,
   "metadata": {},
   "outputs": [],
   "source": [
    "# coding: utf-8\n",
    "import numpy as np\n",
    "import matplotlib.pyplot as plt\n",
    "\n",
    "\n",
    "def sigmoid(x):\n",
    "    return 1 / (1 + np.exp(-x))\n",
    "\n",
    "\n",
    "def ReLU(x):\n",
    "    return np.maximum(0, x)\n",
    "\n",
    "\n",
    "def tanh(x):\n",
    "    return np.tanh(x)\n",
    "\n",
    "\n",
    "input_data = np.random.randn(1000, 100)  # 1000개의 데이터\n",
    "                                          # 데이터의 노드 개수는 100개 \n",
    "    \n",
    "node_num           = 100       # 각 은닉층의 노드(뉴런) 수 \n",
    "hidden_layer_size  = 5         # 은닉층이 5개 \n",
    "activations        = {}        # <dict>객체: 이곳에 활성화 결과(활성화값)를 저장 \n",
    "\n",
    "x = input_data "
   ]
  },
  {
   "cell_type": "code",
   "execution_count": 8,
   "metadata": {},
   "outputs": [],
   "source": [
    "for i in range(hidden_layer_size):\n",
    "    if i != 0:\n",
    "        x = activations[i-1]\n",
    "\n",
    "    # 초깃값을 다양하게 바꿔가며 실험해보자！ \n",
    "    # 초기값은 가우스 분포에 따라 무작위로 선택 \n",
    "\n",
    "    w = np.random.randn(node_num, node_num) * 0.01                      # 표준편차를 0.01로 한 정규분포 \n",
    "    #w = np.random.randn(node_num, node_num) * np.sqrt(1.0 / node_num)\n",
    "    # w = np.random.randn(node_num, node_num) * np.sqrt(2.0 / node_num)\n",
    "\n",
    "\n",
    "    a = np.dot(x, w)\n",
    "\n",
    "\n",
    "    # 활성화 함수도 바꿔가며 실험해보자！\n",
    "    z = sigmoid(a)\n",
    "    #z = ReLU(a)\n",
    "    # z = tanh(a)\n",
    "\n",
    "    activations[i] = z"
   ]
  },
  {
   "cell_type": "code",
   "execution_count": 9,
   "metadata": {},
   "outputs": [
    {
     "data": {
      "image/png": "[encoded data removed]",
      "text/plain": [
       "<Figure size 432x288 with 5 Axes>"
      ]
     },
     "metadata": {},
     "output_type": "display_data"
    }
   ],
   "source": [
    "for i, a in activations.items():           # <dict>.items() : key와 value를 반환 \n",
    "    plt.subplot(1, len(activations), i+1)\n",
    "    plt.title(str(i+1) + \"-layer\")\n",
    "    if i != 0: plt.yticks([], [])\n",
    "    # plt.xlim(0.1, 1)\n",
    "    # plt.ylim(0, 7000)\n",
    "    plt.hist(a.flatten(), 30, range=(0,1))\n",
    "plt.show()\n"
   ]
  },
  {
   "cell_type": "markdown",
   "metadata": {},
   "source": [
    "이번에는 활성화 값의 발생 빈도가 0.5 부근에 집중됨 <br/>"
   ]
  },
  {
   "cell_type": "markdown",
   "metadata": {},
   "source": [
    "앞의 예처럼 0과 1로 치우치진 않았으니 기울기 소실 문제는 일어나지 않음 <br/>\n",
    "> 하지만, <span style=\"color:blue\">활성화값들이 치우쳤다는 것</span>은 범용성과 <b>표현력 관점</b>에서 큰 문제가 있음 "
   ]
  },
  {
   "cell_type": "markdown",
   "metadata": {},
   "source": [
    "즉, 다양한 값을 넣어도 비슷한 답변만 듣게 되는 경우임.\n",
    "> 다수의 뉴런이 거의 같은 값을 출력하고 있으니 뉴런을 여러 개 둔 의미가 없어짐 <br/>\n",
    "\n",
    "#### 뉴런 100개가 거의 같은 값을 출력하면 뉴런 1개짜리와 다를 게 없잖아 "
   ]
  },
  {
   "cell_type": "markdown",
   "metadata": {},
   "source": [
    "***"
   ]
  },
  {
   "cell_type": "markdown",
   "metadata": {},
   "source": [
    "## 그래서 활성화값들이 치우치면? \n",
    "<b>표현력을 제한</b>한다는 관점에서 문제가 있음 "
   ]
  },
  {
   "cell_type": "markdown",
   "metadata": {},
   "source": [
    "<b><span style=\"color:red\">WARNING</span></b>:  <br/>\n",
    "\n",
    "각 층(1층, 2층 ...n층)의 활성화값은 적당히 고루 분포되어야 한다. \n",
    "> 층과 층 사이에 적당하게 다양한 데이터가 흐르게 해야 신경망 학습이 효율적으로 이뤄짐 "
   ]
  },
  {
   "cell_type": "code",
   "execution_count": null,
   "metadata": {},
   "outputs": [],
   "source": []
  }
 ],
 "metadata": {
  "kernelspec": {
   "display_name": "Python 3",
   "language": "python",
   "name": "python3"
  },
  "language_info": {
   "codemirror_mode": {
    "name": "ipython",
    "version": 3
   },
   "file_extension": ".py",
   "mimetype": "text/x-python",
   "name": "python",
   "nbconvert_exporter": "python",
   "pygments_lexer": "ipython3",
   "version": "3.6.5"
  }
 },
 "nbformat": 4,
 "nbformat_minor": 2
}
