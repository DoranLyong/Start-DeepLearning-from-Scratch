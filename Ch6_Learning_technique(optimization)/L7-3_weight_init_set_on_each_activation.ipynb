{
 "cells": [
  {
   "cell_type": "markdown",
   "metadata": {},
   "source": [
    "# 각 활성화 함수에 적합한 초깃값 설정 비교 "
   ]
  },
  {
   "cell_type": "markdown",
   "metadata": {},
   "source": [
    "(p.207) <br/>\n",
    "\n",
    "<b>Xavier</b> 초깃값은 활성화 함수<sup>activation function</sup>가 선형인 것을 전제로 이끈 결과 \n",
    "> sigmoid와 tanh함수는 좌우 대칭이라 중앙 부근이 선형 함수임  <br/>\n",
    "\n",
    "그래서, sigmoid 또는 tanh 함수를 사용할 때는 Xavier 초깃값이 적당함 "
   ]
  },
  {
   "cell_type": "markdown",
   "metadata": {},
   "source": [
    "ReLU 함수를 사용할 때는 <b>He 초깃값</b>이 적당함  <br/>\n",
    "> 아래 세가지 실험들은 ReLU 함수를 사용했을 때, 각 초깃값에 따른 활성화값의 분포를 나타냄 \n",
    "\n",
    "### ★ 어떤게 좋냐 ?\n",
    "앞 실험에서 보았듯 활성화값이 고르게 분포된 것이 좋은것 (p.206)"
   ]
  },
  {
   "cell_type": "markdown",
   "metadata": {},
   "source": [
    "# std=0.01인 정규분포를 따르는 초깃값"
   ]
  },
  {
   "cell_type": "code",
   "execution_count": 1,
   "metadata": {},
   "outputs": [],
   "source": [
    "# coding: utf-8\n",
    "import numpy as np\n",
    "import matplotlib.pyplot as plt\n",
    "\n",
    "\n",
    "def sigmoid(x):\n",
    "    return 1 / (1 + np.exp(-x))\n",
    "\n",
    "\n",
    "def ReLU(x):\n",
    "    return np.maximum(0, x)\n",
    "\n",
    "\n",
    "def tanh(x):\n",
    "    return np.tanh(x)\n",
    "\n",
    "\n",
    "input_data = np.random.randn(1000, 100)  # 1000개의 데이터\n",
    "                                          # 데이터의 노드 개수는 100개 \n",
    "    \n",
    "node_num           = 100       # 각 은닉층의 노드(뉴런) 수 \n",
    "hidden_layer_size  = 5         # 은닉층이 5개 \n",
    "activations        = {}        # <dict>객체: 이곳에 활성화 결과(활성화값)를 저장 \n",
    "\n",
    "x = input_data "
   ]
  },
  {
   "cell_type": "code",
   "execution_count": 2,
   "metadata": {},
   "outputs": [],
   "source": [
    "for i in range(hidden_layer_size):\n",
    "    if i != 0:\n",
    "        x = activations[i-1]\n",
    "\n",
    "    # 초깃값을 다양하게 바꿔가며 실험해보자！ \n",
    "    # 초기값은 가우스 분포에 따라 무작위로 선택 \n",
    "\n",
    "    w = np.random.randn(node_num, node_num) * 0.01                      # 표준편차를 0.01로 한 정규분포 \n",
    "    #w = np.random.randn(node_num, node_num) * np.sqrt(1.0 / node_num)    # for Xavier 초깃값\n",
    "    # w = np.random.randn(node_num, node_num) * np.sqrt(2.0 / node_num)  #  for He 초깃값 \n",
    "\n",
    "\n",
    "    a = np.dot(x, w)\n",
    "\n",
    "\n",
    "    # 활성화 함수도 바꿔가며 실험해보자！\n",
    "    #z = sigmoid(a)\n",
    "    z = ReLU(a)\n",
    "    #z = tanh(a)\n",
    "\n",
    "    activations[i] = z"
   ]
  },
  {
   "cell_type": "code",
   "execution_count": 3,
   "metadata": {},
   "outputs": [
    {
     "data": {
      "image/png": "[encoded data removed]",
      "text/plain": [
       "<Figure size 432x288 with 5 Axes>"
      ]
     },
     "metadata": {},
     "output_type": "display_data"
    }
   ],
   "source": [
    "for i, a in activations.items():           # <dict>.items() : key와 value를 반환 \n",
    "    plt.subplot(1, len(activations), i+1)\n",
    "    plt.title(str(i+1) + \"-layer\")\n",
    "    if i != 0: plt.yticks([], [])\n",
    "    # plt.xlim(0.1, 1)\n",
    "    # plt.ylim(0, 7000)\n",
    "    plt.hist(a.flatten(), 30, range=(0,1))\n",
    "plt.show()\n"
   ]
  },
  {
   "cell_type": "markdown",
   "metadata": {},
   "source": [
    "표준편차가 0.01인 정규분포를 가중치 초깃값으로 사용한 경우 "
   ]
  },
  {
   "cell_type": "markdown",
   "metadata": {},
   "source": [
    "# Xavier 초깃값"
   ]
  },
  {
   "cell_type": "code",
   "execution_count": 4,
   "metadata": {},
   "outputs": [],
   "source": [
    "# coding: utf-8\n",
    "import numpy as np\n",
    "import matplotlib.pyplot as plt\n",
    "\n",
    "\n",
    "def sigmoid(x):\n",
    "    return 1 / (1 + np.exp(-x))\n",
    "\n",
    "\n",
    "def ReLU(x):\n",
    "    return np.maximum(0, x)\n",
    "\n",
    "\n",
    "def tanh(x):\n",
    "    return np.tanh(x)\n",
    "\n",
    "\n",
    "input_data = np.random.randn(1000, 100)  # 1000개의 데이터\n",
    "                                          # 데이터의 노드 개수는 100개 \n",
    "    \n",
    "node_num           = 100       # 각 은닉층의 노드(뉴런) 수 \n",
    "hidden_layer_size  = 5         # 은닉층이 5개 \n",
    "activations        = {}        # <dict>객체: 이곳에 활성화 결과(활성화값)를 저장 \n",
    "\n",
    "x = input_data "
   ]
  },
  {
   "cell_type": "code",
   "execution_count": 5,
   "metadata": {},
   "outputs": [],
   "source": [
    "for i in range(hidden_layer_size):\n",
    "    if i != 0:\n",
    "        x = activations[i-1]\n",
    "\n",
    "    # 초깃값을 다양하게 바꿔가며 실험해보자！ \n",
    "    # 초기값은 가우스 분포에 따라 무작위로 선택 \n",
    "\n",
    "    #w = np.random.randn(node_num, node_num) * 0.01                      # 표준편차를 0.01로 한 정규분포 \n",
    "    w = np.random.randn(node_num, node_num) * np.sqrt(1.0 / node_num)    # for Xavier 초깃값\n",
    "    # w = np.random.randn(node_num, node_num) * np.sqrt(2.0 / node_num)  #  for He 초깃값 \n",
    "\n",
    "\n",
    "    a = np.dot(x, w)\n",
    "\n",
    "\n",
    "    # 활성화 함수도 바꿔가며 실험해보자！\n",
    "    #z = sigmoid(a)\n",
    "    z = ReLU(a)\n",
    "    #z = tanh(a)\n",
    "\n",
    "    activations[i] = z"
   ]
  },
  {
   "cell_type": "code",
   "execution_count": 6,
   "metadata": {},
   "outputs": [
    {
     "data": {
      "image/png": "[encoded data removed]",
      "text/plain": [
       "<Figure size 432x288 with 5 Axes>"
      ]
     },
     "metadata": {},
     "output_type": "display_data"
    }
   ],
   "source": [
    "for i, a in activations.items():           # <dict>.items() : key와 value를 반환 \n",
    "    plt.subplot(1, len(activations), i+1)\n",
    "    plt.title(str(i+1) + \"-layer\")\n",
    "    if i != 0: plt.yticks([], [])\n",
    "    # plt.xlim(0.1, 1)\n",
    "    # plt.ylim(0, 7000)\n",
    "    plt.hist(a.flatten(), 30, range=(0,1))\n",
    "plt.show()"
   ]
  },
  {
   "cell_type": "markdown",
   "metadata": {},
   "source": [
    "Xavier 초깃값을 사용한 경우 "
   ]
  },
  {
   "cell_type": "markdown",
   "metadata": {},
   "source": [
    "# He 초깃값"
   ]
  },
  {
   "cell_type": "code",
   "execution_count": 7,
   "metadata": {},
   "outputs": [],
   "source": [
    "# coding: utf-8\n",
    "import numpy as np\n",
    "import matplotlib.pyplot as plt\n",
    "\n",
    "\n",
    "def sigmoid(x):\n",
    "    return 1 / (1 + np.exp(-x))\n",
    "\n",
    "\n",
    "def ReLU(x):\n",
    "    return np.maximum(0, x)\n",
    "\n",
    "\n",
    "def tanh(x):\n",
    "    return np.tanh(x)\n",
    "\n",
    "\n",
    "input_data = np.random.randn(1000, 100)  # 1000개의 데이터\n",
    "                                          # 데이터의 노드 개수는 100개 \n",
    "    \n",
    "node_num           = 100       # 각 은닉층의 노드(뉴런) 수 \n",
    "hidden_layer_size  = 5         # 은닉층이 5개 \n",
    "activations        = {}        # <dict>객체: 이곳에 활성화 결과(활성화값)를 저장 \n",
    "\n",
    "x = input_data "
   ]
  },
  {
   "cell_type": "code",
   "execution_count": 8,
   "metadata": {},
   "outputs": [],
   "source": [
    "for i in range(hidden_layer_size):\n",
    "    if i != 0:\n",
    "        x = activations[i-1]\n",
    "\n",
    "    # 초깃값을 다양하게 바꿔가며 실험해보자！ \n",
    "    # 초기값은 가우스 분포에 따라 무작위로 선택 \n",
    "\n",
    "    #w = np.random.randn(node_num, node_num) * 0.01                      # 표준편차를 0.01로 한 정규분포 \n",
    "    #w = np.random.randn(node_num, node_num) * np.sqrt(1.0 / node_num)    # for Xavier 초깃값\n",
    "    w = np.random.randn(node_num, node_num) * np.sqrt(2.0 / node_num)  #  for He 초깃값 \n",
    "\n",
    "\n",
    "    a = np.dot(x, w)\n",
    "\n",
    "\n",
    "    # 활성화 함수도 바꿔가며 실험해보자！\n",
    "    #z = sigmoid(a)\n",
    "    z = ReLU(a)\n",
    "    #z = tanh(a)\n",
    "\n",
    "    activations[i] = z"
   ]
  },
  {
   "cell_type": "code",
   "execution_count": 9,
   "metadata": {},
   "outputs": [
    {
     "data": {
      "image/png": "[encoded data removed]",
      "text/plain": [
       "<Figure size 432x288 with 5 Axes>"
      ]
     },
     "metadata": {},
     "output_type": "display_data"
    }
   ],
   "source": [
    "for i, a in activations.items():           # <dict>.items() : key와 value를 반환 \n",
    "    plt.subplot(1, len(activations), i+1)\n",
    "    plt.title(str(i+1) + \"-layer\")\n",
    "    if i != 0: plt.yticks([], [])\n",
    "    # plt.xlim(0.1, 1)\n",
    "    # plt.ylim(0, 7000)\n",
    "    plt.hist(a.flatten(), 30, range=(0,1))\n",
    "plt.show()"
   ]
  },
  {
   "cell_type": "markdown",
   "metadata": {},
   "source": [
    "He 초깃값을 사용한 경우 "
   ]
  },
  {
   "cell_type": "markdown",
   "metadata": {},
   "source": []
  }
 ],
 "metadata": {
  "kernelspec": {
   "display_name": "Python 3",
   "language": "python",
   "name": "python3"
  },
  "language_info": {
   "codemirror_mode": {
    "name": "ipython",
    "version": 3
   },
   "file_extension": ".py",
   "mimetype": "text/x-python",
   "name": "python",
   "nbconvert_exporter": "python",
   "pygments_lexer": "ipython3",
   "version": "3.6.5"
  }
 },
 "nbformat": 4,
 "nbformat_minor": 2
}
