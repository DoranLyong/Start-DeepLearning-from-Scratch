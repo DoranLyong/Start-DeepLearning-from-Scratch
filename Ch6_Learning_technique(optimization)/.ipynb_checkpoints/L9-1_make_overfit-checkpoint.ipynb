{
 "cells": [
  {
   "cell_type": "markdown",
   "metadata": {},
   "source": [
    "# 바른 학습을 위해 \n",
    "(p.215)"
   ]
  },
  {
   "cell_type": "markdown",
   "metadata": {},
   "source": [
    "### 바른 학습이란? \n",
    "* 아직 보지 못한 데이터도 식별해내는 범용성"
   ]
  },
  {
   "cell_type": "markdown",
   "metadata": {},
   "source": [
    "### 바르지 못한 학습은? \n",
    "1. 학습이 안됐거나 \n",
    "2. 특정 데이터에 오버피팅 \n",
    "  * 매개변수가 많아서 복잡성이 높을 때 \n",
    "  * 훈련 데이터가 적을 때 "
   ]
  },
  {
   "cell_type": "markdown",
   "metadata": {},
   "source": [
    "## 오버피팅 일으키기 "
   ]
  },
  {
   "cell_type": "code",
   "execution_count": 1,
   "metadata": {},
   "outputs": [],
   "source": [
    "# coding: utf-8\n",
    "import os\n",
    "import sys\n",
    "\n",
    "sys.path.append(os.pardir)  # 부모 디렉터리의 파일을 가져올 수 있도록 설정\n",
    "import numpy as np\n",
    "import matplotlib.pyplot as plt\n",
    "from dataset.mnist import load_mnist\n",
    "from common.multi_layer_net import MultiLayerNet\n",
    "from common.optimizer import SGD"
   ]
  },
  {
   "cell_type": "markdown",
   "metadata": {},
   "source": [
    "### 1. 데이터 로드 "
   ]
  },
  {
   "cell_type": "code",
   "execution_count": 2,
   "metadata": {},
   "outputs": [],
   "source": [
    "(x_train, t_train), (x_test, t_test) = load_mnist(normalize=True)\n",
    "\n",
    "# 오버피팅을 재현하기 위해 학습 데이터 수를 줄임\n",
    "x_train = x_train[:300]\n",
    "t_train = t_train[:300]"
   ]
  },
  {
   "cell_type": "markdown",
   "metadata": {},
   "source": [
    "### 2. 하이퍼 파라미터"
   ]
  },
  {
   "cell_type": "code",
   "execution_count": 3,
   "metadata": {},
   "outputs": [],
   "source": [
    "# weight decay（가중치 감쇠） 설정 =======================\n",
    "#weight_decay_lambda = 0 # weight decay를 사용하지 않을 경우\n",
    "weight_decay_lambda = 0.1\n",
    "# ====================================================\n",
    "\n",
    "network = MultiLayerNet(input_size=784, hidden_size_list=[100, 100, 100, 100, 100, 100], output_size=10,\n",
    "                        weight_decay_lambda=weight_decay_lambda)\n",
    "optimizer = SGD(lr=0.01) # 학습률이 0.01인 SGD로 매개변수 갱신\n",
    "\n",
    "max_epochs = 201\n",
    "train_size = x_train.shape[0]\n",
    "batch_size = 100\n",
    "\n",
    "train_loss_list = []\n",
    "train_acc_list = []\n",
    "test_acc_list = []\n",
    "\n",
    "iter_per_epoch = max(train_size / batch_size, 1)\n",
    "epoch_cnt = 0"
   ]
  },
  {
   "cell_type": "code",
   "execution_count": 4,
   "metadata": {},
   "outputs": [
    {
     "name": "stdout",
     "output_type": "stream",
     "text": [
      "epoch:0, train acc:0.08666666666666667, test acc:0.1028\n",
      "epoch:1, train acc:0.09, test acc:0.1008\n",
      "epoch:2, train acc:0.09, test acc:0.101\n",
      "epoch:3, train acc:0.09, test acc:0.1046\n",
      "epoch:4, train acc:0.1, test acc:0.1112\n",
      "epoch:5, train acc:0.11, test acc:0.1157\n",
      "epoch:6, train acc:0.13, test acc:0.1249\n",
      "epoch:7, train acc:0.15333333333333332, test acc:0.1369\n",
      "epoch:8, train acc:0.18333333333333332, test acc:0.1538\n",
      "epoch:9, train acc:0.22333333333333333, test acc:0.1749\n",
      "epoch:10, train acc:0.24, test acc:0.1979\n",
      "epoch:11, train acc:0.2633333333333333, test acc:0.2153\n",
      "epoch:12, train acc:0.30333333333333334, test acc:0.2457\n",
      "epoch:13, train acc:0.37333333333333335, test acc:0.2754\n",
      "epoch:14, train acc:0.3933333333333333, test acc:0.2813\n",
      "epoch:15, train acc:0.4166666666666667, test acc:0.3054\n",
      "epoch:16, train acc:0.4166666666666667, test acc:0.3186\n",
      "epoch:17, train acc:0.44333333333333336, test acc:0.3358\n",
      "epoch:18, train acc:0.47333333333333333, test acc:0.3501\n",
      "epoch:19, train acc:0.47333333333333333, test acc:0.3532\n",
      "epoch:20, train acc:0.5133333333333333, test acc:0.3645\n",
      "epoch:21, train acc:0.54, test acc:0.3801\n",
      "epoch:22, train acc:0.5566666666666666, test acc:0.3923\n",
      "epoch:23, train acc:0.5566666666666666, test acc:0.3987\n",
      "epoch:24, train acc:0.56, test acc:0.4102\n",
      "epoch:25, train acc:0.57, test acc:0.4124\n",
      "epoch:26, train acc:0.5766666666666667, test acc:0.4254\n",
      "epoch:27, train acc:0.5866666666666667, test acc:0.4305\n",
      "epoch:28, train acc:0.5966666666666667, test acc:0.4408\n",
      "epoch:29, train acc:0.6066666666666667, test acc:0.4487\n",
      "epoch:30, train acc:0.6233333333333333, test acc:0.4556\n",
      "epoch:31, train acc:0.63, test acc:0.4673\n",
      "epoch:32, train acc:0.6266666666666667, test acc:0.4652\n",
      "epoch:33, train acc:0.66, test acc:0.4786\n",
      "epoch:34, train acc:0.6566666666666666, test acc:0.4832\n",
      "epoch:35, train acc:0.64, test acc:0.4879\n",
      "epoch:36, train acc:0.6466666666666666, test acc:0.4882\n",
      "epoch:37, train acc:0.6266666666666667, test acc:0.4922\n",
      "epoch:38, train acc:0.6433333333333333, test acc:0.505\n",
      "epoch:39, train acc:0.66, test acc:0.517\n",
      "epoch:40, train acc:0.68, test acc:0.5342\n",
      "epoch:41, train acc:0.69, test acc:0.5322\n",
      "epoch:42, train acc:0.6933333333333334, test acc:0.5305\n",
      "epoch:43, train acc:0.71, test acc:0.5522\n",
      "epoch:44, train acc:0.7033333333333334, test acc:0.547\n",
      "epoch:45, train acc:0.7133333333333334, test acc:0.5525\n",
      "epoch:46, train acc:0.7033333333333334, test acc:0.5521\n",
      "epoch:47, train acc:0.7233333333333334, test acc:0.5636\n",
      "epoch:48, train acc:0.72, test acc:0.5702\n",
      "epoch:49, train acc:0.7433333333333333, test acc:0.5858\n",
      "epoch:50, train acc:0.74, test acc:0.5932\n",
      "epoch:51, train acc:0.73, test acc:0.5878\n",
      "epoch:52, train acc:0.7633333333333333, test acc:0.6023\n",
      "epoch:53, train acc:0.77, test acc:0.6117\n",
      "epoch:54, train acc:0.77, test acc:0.6118\n",
      "epoch:55, train acc:0.78, test acc:0.6185\n",
      "epoch:56, train acc:0.7833333333333333, test acc:0.6154\n",
      "epoch:57, train acc:0.7933333333333333, test acc:0.6334\n",
      "epoch:58, train acc:0.82, test acc:0.6414\n",
      "epoch:59, train acc:0.8266666666666667, test acc:0.6488\n",
      "epoch:60, train acc:0.8066666666666666, test acc:0.6487\n",
      "epoch:61, train acc:0.8133333333333334, test acc:0.6475\n",
      "epoch:62, train acc:0.8133333333333334, test acc:0.6492\n",
      "epoch:63, train acc:0.8233333333333334, test acc:0.6531\n",
      "epoch:64, train acc:0.8233333333333334, test acc:0.6615\n",
      "epoch:65, train acc:0.8366666666666667, test acc:0.6631\n",
      "epoch:66, train acc:0.8, test acc:0.6525\n",
      "epoch:67, train acc:0.8133333333333334, test acc:0.6526\n",
      "epoch:68, train acc:0.8266666666666667, test acc:0.6694\n",
      "epoch:69, train acc:0.83, test acc:0.6679\n",
      "epoch:70, train acc:0.8233333333333334, test acc:0.6693\n",
      "epoch:71, train acc:0.84, test acc:0.6749\n",
      "epoch:72, train acc:0.8266666666666667, test acc:0.67\n",
      "epoch:73, train acc:0.8366666666666667, test acc:0.6719\n",
      "epoch:74, train acc:0.8133333333333334, test acc:0.6614\n",
      "epoch:75, train acc:0.82, test acc:0.6709\n",
      "epoch:76, train acc:0.8333333333333334, test acc:0.6787\n",
      "epoch:77, train acc:0.8366666666666667, test acc:0.6807\n",
      "epoch:78, train acc:0.85, test acc:0.6807\n",
      "epoch:79, train acc:0.8566666666666667, test acc:0.6836\n",
      "epoch:80, train acc:0.85, test acc:0.6925\n",
      "epoch:81, train acc:0.85, test acc:0.6896\n",
      "epoch:82, train acc:0.86, test acc:0.6917\n",
      "epoch:83, train acc:0.8633333333333333, test acc:0.6919\n",
      "epoch:84, train acc:0.87, test acc:0.6937\n",
      "epoch:85, train acc:0.86, test acc:0.6903\n",
      "epoch:86, train acc:0.87, test acc:0.6946\n",
      "epoch:87, train acc:0.88, test acc:0.7063\n",
      "epoch:88, train acc:0.8666666666666667, test acc:0.6997\n",
      "epoch:89, train acc:0.8533333333333334, test acc:0.6925\n",
      "epoch:90, train acc:0.87, test acc:0.705\n",
      "epoch:91, train acc:0.8766666666666667, test acc:0.7058\n",
      "epoch:92, train acc:0.8666666666666667, test acc:0.7072\n",
      "epoch:93, train acc:0.8866666666666667, test acc:0.7079\n",
      "epoch:94, train acc:0.8833333333333333, test acc:0.7128\n",
      "epoch:95, train acc:0.86, test acc:0.704\n",
      "epoch:96, train acc:0.8633333333333333, test acc:0.7022\n",
      "epoch:97, train acc:0.88, test acc:0.7094\n",
      "epoch:98, train acc:0.88, test acc:0.7097\n",
      "epoch:99, train acc:0.88, test acc:0.7141\n",
      "epoch:100, train acc:0.89, test acc:0.718\n",
      "epoch:101, train acc:0.8866666666666667, test acc:0.7094\n",
      "epoch:102, train acc:0.9, test acc:0.7115\n",
      "epoch:103, train acc:0.89, test acc:0.7201\n",
      "epoch:104, train acc:0.89, test acc:0.7218\n",
      "epoch:105, train acc:0.89, test acc:0.7171\n",
      "epoch:106, train acc:0.9, test acc:0.7174\n",
      "epoch:107, train acc:0.8866666666666667, test acc:0.7139\n",
      "epoch:108, train acc:0.8866666666666667, test acc:0.7205\n",
      "epoch:109, train acc:0.9, test acc:0.7212\n",
      "epoch:110, train acc:0.89, test acc:0.7197\n",
      "epoch:111, train acc:0.88, test acc:0.7188\n",
      "epoch:112, train acc:0.8866666666666667, test acc:0.72\n",
      "epoch:113, train acc:0.8966666666666666, test acc:0.7267\n",
      "epoch:114, train acc:0.9, test acc:0.7246\n",
      "epoch:115, train acc:0.9033333333333333, test acc:0.728\n",
      "epoch:116, train acc:0.9066666666666666, test acc:0.7311\n",
      "epoch:117, train acc:0.9066666666666666, test acc:0.7258\n",
      "epoch:118, train acc:0.9, test acc:0.7217\n",
      "epoch:119, train acc:0.8833333333333333, test acc:0.7236\n",
      "epoch:120, train acc:0.9033333333333333, test acc:0.7281\n",
      "epoch:121, train acc:0.9033333333333333, test acc:0.7282\n",
      "epoch:122, train acc:0.9066666666666666, test acc:0.7305\n",
      "epoch:123, train acc:0.9033333333333333, test acc:0.7328\n",
      "epoch:124, train acc:0.9066666666666666, test acc:0.7302\n",
      "epoch:125, train acc:0.8966666666666666, test acc:0.7277\n",
      "epoch:126, train acc:0.89, test acc:0.724\n",
      "epoch:127, train acc:0.91, test acc:0.7304\n",
      "epoch:128, train acc:0.9, test acc:0.7293\n",
      "epoch:129, train acc:0.9066666666666666, test acc:0.7358\n",
      "epoch:130, train acc:0.8933333333333333, test acc:0.7315\n",
      "epoch:131, train acc:0.92, test acc:0.7404\n",
      "epoch:132, train acc:0.9066666666666666, test acc:0.7338\n",
      "epoch:133, train acc:0.9033333333333333, test acc:0.7341\n",
      "epoch:134, train acc:0.9066666666666666, test acc:0.7324\n",
      "epoch:135, train acc:0.9, test acc:0.7281\n",
      "epoch:136, train acc:0.9033333333333333, test acc:0.7326\n",
      "epoch:137, train acc:0.8933333333333333, test acc:0.7296\n",
      "epoch:138, train acc:0.9033333333333333, test acc:0.737\n",
      "epoch:139, train acc:0.9, test acc:0.7321\n",
      "epoch:140, train acc:0.91, test acc:0.7317\n",
      "epoch:141, train acc:0.9166666666666666, test acc:0.7357\n",
      "epoch:142, train acc:0.9233333333333333, test acc:0.7406\n",
      "epoch:143, train acc:0.92, test acc:0.7367\n",
      "epoch:144, train acc:0.92, test acc:0.7353\n",
      "epoch:145, train acc:0.8966666666666666, test acc:0.7344\n",
      "epoch:146, train acc:0.9166666666666666, test acc:0.7344\n",
      "epoch:147, train acc:0.9066666666666666, test acc:0.7336\n",
      "epoch:148, train acc:0.9133333333333333, test acc:0.7439\n",
      "epoch:149, train acc:0.9166666666666666, test acc:0.7425\n",
      "epoch:150, train acc:0.9166666666666666, test acc:0.7383\n",
      "epoch:151, train acc:0.9166666666666666, test acc:0.7425\n",
      "epoch:152, train acc:0.9166666666666666, test acc:0.7394\n",
      "epoch:153, train acc:0.92, test acc:0.738\n",
      "epoch:154, train acc:0.91, test acc:0.7386\n",
      "epoch:155, train acc:0.9166666666666666, test acc:0.7423\n",
      "epoch:156, train acc:0.91, test acc:0.7409\n",
      "epoch:157, train acc:0.9066666666666666, test acc:0.74\n",
      "epoch:158, train acc:0.9133333333333333, test acc:0.736\n",
      "epoch:159, train acc:0.9133333333333333, test acc:0.736\n",
      "epoch:160, train acc:0.9233333333333333, test acc:0.735\n",
      "epoch:161, train acc:0.9166666666666666, test acc:0.7376\n"
     ]
    },
    {
     "name": "stdout",
     "output_type": "stream",
     "text": [
      "epoch:162, train acc:0.91, test acc:0.7376\n",
      "epoch:163, train acc:0.9133333333333333, test acc:0.7348\n",
      "epoch:164, train acc:0.92, test acc:0.737\n",
      "epoch:165, train acc:0.93, test acc:0.7455\n",
      "epoch:166, train acc:0.9166666666666666, test acc:0.7447\n",
      "epoch:167, train acc:0.9266666666666666, test acc:0.7462\n",
      "epoch:168, train acc:0.93, test acc:0.7414\n",
      "epoch:169, train acc:0.91, test acc:0.7366\n",
      "epoch:170, train acc:0.9133333333333333, test acc:0.7388\n",
      "epoch:171, train acc:0.93, test acc:0.7411\n",
      "epoch:172, train acc:0.9033333333333333, test acc:0.7319\n",
      "epoch:173, train acc:0.9233333333333333, test acc:0.7362\n",
      "epoch:174, train acc:0.9133333333333333, test acc:0.7345\n",
      "epoch:175, train acc:0.9233333333333333, test acc:0.7393\n",
      "epoch:176, train acc:0.92, test acc:0.7371\n",
      "epoch:177, train acc:0.9266666666666666, test acc:0.7386\n",
      "epoch:178, train acc:0.92, test acc:0.7413\n",
      "epoch:179, train acc:0.9066666666666666, test acc:0.737\n",
      "epoch:180, train acc:0.9133333333333333, test acc:0.7326\n",
      "epoch:181, train acc:0.91, test acc:0.737\n",
      "epoch:182, train acc:0.9066666666666666, test acc:0.7379\n",
      "epoch:183, train acc:0.91, test acc:0.7393\n",
      "epoch:184, train acc:0.9, test acc:0.7354\n",
      "epoch:185, train acc:0.9233333333333333, test acc:0.737\n",
      "epoch:186, train acc:0.9233333333333333, test acc:0.742\n",
      "epoch:187, train acc:0.9066666666666666, test acc:0.7367\n",
      "epoch:188, train acc:0.9066666666666666, test acc:0.7378\n",
      "epoch:189, train acc:0.91, test acc:0.7397\n",
      "epoch:190, train acc:0.9166666666666666, test acc:0.7428\n",
      "epoch:191, train acc:0.9166666666666666, test acc:0.7444\n",
      "epoch:192, train acc:0.92, test acc:0.7394\n",
      "epoch:193, train acc:0.9266666666666666, test acc:0.7449\n",
      "epoch:194, train acc:0.9166666666666666, test acc:0.7456\n",
      "epoch:195, train acc:0.9133333333333333, test acc:0.7426\n",
      "epoch:196, train acc:0.9066666666666666, test acc:0.7353\n",
      "epoch:197, train acc:0.9033333333333333, test acc:0.7377\n",
      "epoch:198, train acc:0.8966666666666666, test acc:0.7319\n",
      "epoch:199, train acc:0.9133333333333333, test acc:0.7402\n",
      "epoch:200, train acc:0.9133333333333333, test acc:0.7329\n"
     ]
    }
   ],
   "source": [
    "for i in range(1000000000):\n",
    "    batch_mask = np.random.choice(train_size, batch_size)\n",
    "    x_batch = x_train[batch_mask]\n",
    "    t_batch = t_train[batch_mask]\n",
    "\n",
    "    grads = network.gradient(x_batch, t_batch)\n",
    "    optimizer.update(network.params, grads)\n",
    "\n",
    "    if i % iter_per_epoch == 0:\n",
    "        train_acc = network.accuracy(x_train, t_train)\n",
    "        test_acc = network.accuracy(x_test, t_test)\n",
    "        train_acc_list.append(train_acc)\n",
    "        test_acc_list.append(test_acc)\n",
    "\n",
    "        print(\"epoch:\" + str(epoch_cnt) + \", train acc:\" + str(train_acc) + \", test acc:\" + str(test_acc))\n",
    "\n",
    "        epoch_cnt += 1\n",
    "        if epoch_cnt >= max_epochs:\n",
    "            break"
   ]
  },
  {
   "cell_type": "code",
   "execution_count": 5,
   "metadata": {},
   "outputs": [
    {
     "data": {
      "image/png": "[encoded data removed]",
      "text/plain": [
       "<Figure size 432x288 with 1 Axes>"
      ]
     },
     "metadata": {
      "needs_background": "light"
     },
     "output_type": "display_data"
    }
   ],
   "source": [
    "# 그래프 그리기==========\n",
    "markers = {'train': 'o', 'test': 's'}\n",
    "x = np.arange(max_epochs)\n",
    "plt.plot(x, train_acc_list, marker='o', label='train', markevery=10)\n",
    "plt.plot(x, test_acc_list, marker='s', label='test', markevery=10)\n",
    "plt.xlabel(\"epochs\")\n",
    "plt.ylabel(\"accuracy\")\n",
    "plt.ylim(0, 1.0)\n",
    "plt.legend(loc='lower right')\n",
    "plt.show()"
   ]
  },
  {
   "cell_type": "markdown",
   "metadata": {},
   "source": [
    "training_data와 test_data에 대한 정확도 격차가 커지면?\n",
    "> 훈련 데이터에만 적응<sup>fitting</sup>해버린 결과"
   ]
  },
  {
   "cell_type": "code",
   "execution_count": null,
   "metadata": {},
   "outputs": [],
   "source": []
  }
 ],
 "metadata": {
  "kernelspec": {
   "display_name": "Python 3",
   "language": "python",
   "name": "python3"
  },
  "language_info": {
   "codemirror_mode": {
    "name": "ipython",
    "version": 3
   },
   "file_extension": ".py",
   "mimetype": "text/x-python",
   "name": "python",
   "nbconvert_exporter": "python",
   "pygments_lexer": "ipython3",
   "version": "3.7.0"
  }
 },
 "nbformat": 4,
 "nbformat_minor": 2
}
