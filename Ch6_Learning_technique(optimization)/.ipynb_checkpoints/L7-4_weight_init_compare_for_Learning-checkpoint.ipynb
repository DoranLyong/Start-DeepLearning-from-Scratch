{
 "cells": [
  {
   "cell_type": "markdown",
   "metadata": {},
   "source": [
    "# MNIST 데이터셋으로 본 가중치 초깃값 비교 \n",
    "(p.209)"
   ]
  },
  {
   "cell_type": "markdown",
   "metadata": {},
   "source": [
    "'실제' 데이터를 가지고 <b>가중치 초기값</b>을 잘주는게 신경망 학습에 얼마나 중요한지 확인하겠음 "
   ]
  },
  {
   "cell_type": "markdown",
   "metadata": {},
   "source": [
    "### [실험 옵션]\n",
    "* 은닉층 뉴런 수<sup>(=노드 수)</sup> = 100개, 출력층 뉴런 수 = 10개 (숫자 클래스가 0~9 ) \n",
    "* 5층 짜리 신경망  (은닉층 4개 + 출력층 1개)\n",
    "* 활성화 함수: ReLU "
   ]
  },
  {
   "cell_type": "code",
   "execution_count": 1,
   "metadata": {},
   "outputs": [],
   "source": [
    "# coding: utf-8\n",
    "import os\n",
    "import sys\n",
    "\n",
    "sys.path.append(os.pardir)  # 부모 디렉터리의 파일을 가져올 수 있도록 설정\n",
    "import numpy as np\n",
    "import matplotlib.pyplot as plt\n",
    "from dataset.mnist import load_mnist\n",
    "from common.util import smooth_curve\n",
    "from common.multi_layer_net import MultiLayerNet\n",
    "from common.optimizer import SGD"
   ]
  },
  {
   "cell_type": "markdown",
   "metadata": {},
   "source": [
    "### 0. Load data - MNIST 데이터 읽기  "
   ]
  },
  {
   "cell_type": "code",
   "execution_count": 2,
   "metadata": {},
   "outputs": [],
   "source": [
    "(x_train, t_train), (x_test, t_test) = load_mnist(normalize=True)\n",
    "\n",
    "train_size = x_train.shape[0]\n",
    "batch_size = 128\n",
    "max_iterations = 2000"
   ]
  },
  {
   "cell_type": "markdown",
   "metadata": {},
   "source": [
    "### 1. 실험용 설정\n"
   ]
  },
  {
   "cell_type": "code",
   "execution_count": 3,
   "metadata": {},
   "outputs": [],
   "source": [
    "weight_init_types = {'std=0.01': 0.01, 'Xavier': 'sigmoid', 'He': 'relu'}   # <dict> \n",
    "optimizer = SGD(lr=0.01)                                                    # Optimization algoritim (p.190)\n",
    "\n",
    "networks = {}\n",
    "train_loss = {}\n",
    "for key, weight_type in weight_init_types.items():\n",
    "    networks[key] = MultiLayerNet(input_size=784, hidden_size_list=[100, 100, 100, 100], output_size=10, weight_init_std=weight_type)\n",
    "    train_loss[key] = []"
   ]
  },
  {
   "cell_type": "markdown",
   "metadata": {},
   "source": [
    "### 2. 훈련 시작 "
   ]
  },
  {
   "cell_type": "code",
   "execution_count": 4,
   "metadata": {},
   "outputs": [
    {
     "name": "stdout",
     "output_type": "stream",
     "text": [
      "===========iteration:0===========\n",
      "std=0.01:2.302482304835575\n",
      "Xavier:2.2980118721016964\n",
      "He:2.344962266901133\n",
      "===========iteration:100===========\n",
      "std=0.01:2.3031647538615916\n",
      "Xavier:2.2635023911828727\n",
      "He:1.4310595929560095\n",
      "===========iteration:200===========\n",
      "std=0.01:2.3020374441218436\n",
      "Xavier:2.1571688321609157\n",
      "He:0.6982125669770397\n",
      "===========iteration:300===========\n",
      "std=0.01:2.3010027966660083\n",
      "Xavier:1.9345431852894333\n",
      "He:0.6673711891105185\n",
      "===========iteration:400===========\n",
      "std=0.01:2.3039707031655645\n",
      "Xavier:1.5096089091573541\n",
      "He:0.4242643725835169\n",
      "===========iteration:500===========\n",
      "std=0.01:2.301765344924858\n",
      "Xavier:1.0559994577583895\n",
      "He:0.4048716548851185\n",
      "===========iteration:600===========\n",
      "std=0.01:2.3044534769490097\n",
      "Xavier:0.8338700934677384\n",
      "He:0.3682001969870107\n",
      "===========iteration:700===========\n",
      "std=0.01:2.29978852964247\n",
      "Xavier:0.6006203809548283\n",
      "He:0.40524351133441827\n",
      "===========iteration:800===========\n",
      "std=0.01:2.2991142868139187\n",
      "Xavier:0.5285326685199606\n",
      "He:0.28425368393177647\n",
      "===========iteration:900===========\n",
      "std=0.01:2.3026620025933346\n",
      "Xavier:0.4407486737080696\n",
      "He:0.21465314172853156\n",
      "===========iteration:1000===========\n",
      "std=0.01:2.29989166224465\n",
      "Xavier:0.4983666793816697\n",
      "He:0.31651681871196297\n",
      "===========iteration:1100===========\n",
      "std=0.01:2.303697851015727\n",
      "Xavier:0.4147731226594771\n",
      "He:0.3409130225374025\n",
      "===========iteration:1200===========\n",
      "std=0.01:2.2998131372636506\n",
      "Xavier:0.36936119067707684\n",
      "He:0.23109132506642882\n",
      "===========iteration:1300===========\n",
      "std=0.01:2.3067631870474536\n",
      "Xavier:0.33717845765113796\n",
      "He:0.21522598364203782\n",
      "===========iteration:1400===========\n",
      "std=0.01:2.2985373982662427\n",
      "Xavier:0.25056727043076377\n",
      "He:0.16677906569118595\n",
      "===========iteration:1500===========\n",
      "std=0.01:2.3016488496995446\n",
      "Xavier:0.5003843665750027\n",
      "He:0.31479025556931495\n",
      "===========iteration:1600===========\n",
      "std=0.01:2.3010739661342514\n",
      "Xavier:0.3300823352957677\n",
      "He:0.21394570135169272\n",
      "===========iteration:1700===========\n",
      "std=0.01:2.3020239631823634\n",
      "Xavier:0.3141753015920382\n",
      "He:0.22913693582265202\n",
      "===========iteration:1800===========\n",
      "std=0.01:2.2963608711141363\n",
      "Xavier:0.5016363504437631\n",
      "He:0.31182848399396446\n",
      "===========iteration:1900===========\n",
      "std=0.01:2.3051555372054415\n",
      "Xavier:0.2809340746773954\n",
      "He:0.1724226038089247\n"
     ]
    }
   ],
   "source": [
    "for i in range(max_iterations):\n",
    "    batch_mask = np.random.choice(train_size, batch_size)\n",
    "    x_batch = x_train[batch_mask]\n",
    "    t_batch = t_train[batch_mask]\n",
    "    \n",
    "    for key in weight_init_types.keys():\n",
    "        grads = networks[key].gradient(x_batch, t_batch)\n",
    "        optimizer.update(networks[key].params, grads)\n",
    "    \n",
    "        loss = networks[key].loss(x_batch, t_batch)\n",
    "        train_loss[key].append(loss)\n",
    "    \n",
    "    if i % 100 == 0:\n",
    "        print(\"===========\" + \"iteration:\" + str(i) + \"===========\")\n",
    "        for key in weight_init_types.keys():\n",
    "            loss = networks[key].loss(x_batch, t_batch)\n",
    "            print(key + \":\" + str(loss))"
   ]
  },
  {
   "cell_type": "markdown",
   "metadata": {},
   "source": [
    "### 3. 그래프 그리기 "
   ]
  },
  {
   "cell_type": "code",
   "execution_count": 5,
   "metadata": {},
   "outputs": [
    {
     "data": {
      "image/png": "[encoded data removed]",
      "text/plain": [
       "<Figure size 432x288 with 1 Axes>"
      ]
     },
     "metadata": {},
     "output_type": "display_data"
    }
   ],
   "source": [
    "markers = {'std=0.01': 'o', 'Xavier': 's', 'He': 'D'}\n",
    "x = np.arange(max_iterations)\n",
    "for key in weight_init_types.keys():\n",
    "    plt.plot(x, smooth_curve(train_loss[key]), marker=markers[key], markevery=100, label=key)\n",
    "plt.xlabel(\"iterations\")\n",
    "plt.ylabel(\"loss\")\n",
    "plt.ylim(0, 2.5)\n",
    "plt.legend()\n",
    "plt.show()\n"
   ]
  },
  {
   "cell_type": "markdown",
   "metadata": {},
   "source": [
    "## 결론: \n",
    "<b>가중치의 초깃값</b> 설정은 신경망 학습에 아주 중요한 포인트  \n",
    "\n",
    "> * 학습이 되냐 마냐 \n",
    "> * 얼마나 빨리 학습되냐 "
   ]
  },
  {
   "cell_type": "markdown",
   "metadata": {},
   "source": []
  }
 ],
 "metadata": {
  "kernelspec": {
   "display_name": "Python 3",
   "language": "python",
   "name": "python3"
  },
  "language_info": {
   "codemirror_mode": {
    "name": "ipython",
    "version": 3
   },
   "file_extension": ".py",
   "mimetype": "text/x-python",
   "name": "python",
   "nbconvert_exporter": "python",
   "pygments_lexer": "ipython3",
   "version": "3.6.5"
  }
 },
 "nbformat": 4,
 "nbformat_minor": 2
}
