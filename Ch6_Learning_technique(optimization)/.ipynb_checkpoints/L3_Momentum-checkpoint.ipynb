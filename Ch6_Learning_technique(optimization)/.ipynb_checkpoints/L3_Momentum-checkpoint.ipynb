{
 "cells": [
  {
   "cell_type": "markdown",
   "metadata": {},
   "source": [
    "# 모멘텀(Momentum)\n",
    "(p.194)"
   ]
  },
  {
   "cell_type": "markdown",
   "metadata": {},
   "source": [
    "목적 함수의 최소점을 찾응 알고리즘 \n",
    "> * SGD <br/>\n",
    "> * Momentum "
   ]
  },
  {
   "cell_type": "markdown",
   "metadata": {},
   "source": [
    "<b>모멘텀</b> : \n",
    "> (1) If a process or movement gains momentum, it keeps developing or happening more quickly and keeps becoming less likely to stop.\n",
    "   * 어떤 방향으로 모멘텀을 얻으면, 그 대상의 운동은 계속 그쪽 방향으로 잘하려고 들어 \n",
    "       \n",
    "> (2) In physics, momentum is the mass of a moving object multiplied by its speed in a particulary direction. \n",
    "   * 물체가 특정 방향으로 이동한 정도를 나타내는 물리량  \n",
    "   * $p = mv$"
   ]
  },
  {
   "cell_type": "markdown",
   "metadata": {},
   "source": [
    "__Example__: Momentum을 클래스로 구현 "
   ]
  },
  {
   "cell_type": "code",
   "execution_count": 7,
   "metadata": {},
   "outputs": [],
   "source": [
    "class Momentum:\n",
    "    def __init__(self, lr=0.01, momentum_alpha=0.9):\n",
    "        self.lr       = lr \n",
    "        self.momentum_alpha = momentum_alpha      # damping 요소 \n",
    "        self.v        = None                      # v : 속도 \n",
    "        \n",
    "    def update(self, params, grads):\n",
    "        if self.v is None:\n",
    "            self.v = {}          # <dict> 객체로 초기화 \n",
    "            for key, val in params.items():               # <dict>.items()  key:value 반환 \n",
    "                self.v[key] = np.zeros_like(val)\n",
    "                \n",
    "        for key in params.keys():\n",
    "            self.v[key] = self.momentum * self.v[key] - self.lr*grads[key]\n",
    "            params[key] += self.v[key]"
   ]
  },
  {
   "cell_type": "code",
   "execution_count": null,
   "metadata": {},
   "outputs": [],
   "source": []
  }
 ],
 "metadata": {
  "kernelspec": {
   "display_name": "Python 3",
   "language": "python",
   "name": "python3"
  },
  "language_info": {
   "codemirror_mode": {
    "name": "ipython",
    "version": 3
   },
   "file_extension": ".py",
   "mimetype": "text/x-python",
   "name": "python",
   "nbconvert_exporter": "python",
   "pygments_lexer": "ipython3",
   "version": "3.6.5"
  }
 },
 "nbformat": 4,
 "nbformat_minor": 2
}
