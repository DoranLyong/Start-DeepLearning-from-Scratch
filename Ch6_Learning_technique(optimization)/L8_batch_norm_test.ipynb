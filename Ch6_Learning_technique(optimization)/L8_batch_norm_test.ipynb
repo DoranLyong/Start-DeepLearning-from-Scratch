{
 "cells": [
  {
   "cell_type": "markdown",
   "metadata": {},
   "source": [
    "# 배치 정규화 알고리즘 \n",
    "(p. 210) \n",
    "\n",
    "> 핵심: 신경망 각 층의 데이터 분포를 정규분포로 만든다. "
   ]
  },
  {
   "cell_type": "markdown",
   "metadata": {},
   "source": [
    "<b>기대 효과</b>\n",
    "* 초깃값 문제X \n",
    "* 오버피팅 억제 "
   ]
  },
  {
   "cell_type": "code",
   "execution_count": 1,
   "metadata": {},
   "outputs": [],
   "source": [
    "# coding: utf-8 \n",
    "import sys, os \n",
    "sys.path.append(os.pardir)  # 부모 디렉토리를 scope에 추가해서 파일을 가져올 수 있게 \n",
    "import numpy as np \n",
    "import matplotlib.pyplot as plt \n",
    "from dataset.mnist import load_mnist \n",
    "from common.multi_layer_net_extend import MultiLayerNetExtend \n",
    "from common.optimizer import SGD, Adam"
   ]
  },
  {
   "cell_type": "markdown",
   "metadata": {},
   "source": [
    "### 1. 데이터 로드 "
   ]
  },
  {
   "cell_type": "code",
   "execution_count": 2,
   "metadata": {},
   "outputs": [
    {
     "name": "stdout",
     "output_type": "stream",
     "text": [
      "원본 데이터 사이즈 of x_train: (60000, 784)\n",
      "원본 데이터 사이즈 of t_train: (60000,)\n",
      "\n",
      "축소 사이즈 of x_train: (1000, 784)\n",
      "축소 사이즈 of t_train: (1000,)\n"
     ]
    }
   ],
   "source": [
    "(x_train, t_train), (x_test, t_test)  =  load_mnist(normalize=True)\n",
    "print(\"원본 데이터 사이즈 of x_train:\", x_train.shape)\n",
    "print(\"원본 데이터 사이즈 of t_train:\", t_train.shape)\n",
    "print(\"\")\n",
    "\n",
    "# 학습 데이터양을 줄임: 60000장은 너무 많으니까 \n",
    "x_train = x_train[:1000]\n",
    "t_train = t_train[:1000]\n",
    "\n",
    "print(\"축소 사이즈 of x_train:\", x_train.shape)\n",
    "print(\"축소 사이즈 of t_train:\", t_train.shape)"
   ]
  },
  {
   "cell_type": "markdown",
   "metadata": {},
   "source": [
    "### 2. 학습 셋업 "
   ]
  },
  {
   "cell_type": "code",
   "execution_count": 3,
   "metadata": {},
   "outputs": [],
   "source": [
    "max_epochs    = 20 \n",
    "train_size    = x_train.shape[0]  # 학습데이터 1000개 \n",
    "\n",
    "batch_size    = 100               # 미니배치 학습 \n",
    "learning_rate = 0.01 "
   ]
  },
  {
   "cell_type": "markdown",
   "metadata": {},
   "source": [
    "### 3. 네트워크 정의 "
   ]
  },
  {
   "cell_type": "code",
   "execution_count": 4,
   "metadata": {},
   "outputs": [],
   "source": [
    "def __train(weight_init_std):\n",
    "    bn_network = MultiLayerNetExtend(input_size=784, hidden_size_list=[100, 100, 100, 100, 100], output_size=10, \n",
    "                                    weight_init_std=weight_init_std, use_batchnorm=True)\n",
    "    network = MultiLayerNetExtend(input_size=784, hidden_size_list=[100, 100, 100, 100, 100], output_size=10,\n",
    "                                weight_init_std=weight_init_std)\n",
    "    optimizer = SGD(lr=learning_rate)\n",
    "    \n",
    "    train_acc_list = []\n",
    "    bn_train_acc_list = []\n",
    "    \n",
    "    iter_per_epoch = max(train_size / batch_size, 1)\n",
    "    epoch_cnt = 0\n",
    "    \n",
    "    for i in range(1000000000):\n",
    "        batch_mask = np.random.choice(train_size, batch_size)\n",
    "        x_batch = x_train[batch_mask]\n",
    "        t_batch = t_train[batch_mask]\n",
    "    \n",
    "        for _network in (bn_network, network):\n",
    "            grads = _network.gradient(x_batch, t_batch)\n",
    "            optimizer.update(_network.params, grads)\n",
    "    \n",
    "        if i % iter_per_epoch == 0:\n",
    "            train_acc = network.accuracy(x_train, t_train)\n",
    "            bn_train_acc = bn_network.accuracy(x_train, t_train)\n",
    "            train_acc_list.append(train_acc)\n",
    "            bn_train_acc_list.append(bn_train_acc)\n",
    "    \n",
    "            print(\"epoch:\" + str(epoch_cnt) + \" | \" + str(train_acc) + \" - \" + str(bn_train_acc))\n",
    "    \n",
    "            epoch_cnt += 1\n",
    "            if epoch_cnt >= max_epochs:\n",
    "                break\n",
    "                \n",
    "    return train_acc_list, bn_train_acc_list"
   ]
  },
  {
   "cell_type": "markdown",
   "metadata": {},
   "source": [
    "1. input_size = 784    \n",
    "  *  28x28 이미지 \n",
    "2. hidden_size_list = \\[100, 100, 100, 100, 100\\]\n",
    "  * 5층 구조에 각 노드 100개 \n",
    "3. output_size = 10 \n",
    "  * 출력 노드 개수 (숫자 클래스 10개)"
   ]
  },
  {
   "cell_type": "markdown",
   "metadata": {},
   "source": [
    "### 4. 학습 및 그래프 그리기 "
   ]
  },
  {
   "cell_type": "code",
   "execution_count": 9,
   "metadata": {},
   "outputs": [
    {
     "name": "stdout",
     "output_type": "stream",
     "text": [
      "============== 1/16 ==============\n",
      "epoch:0 | 0.097 - 0.086\n",
      "epoch:1 | 0.097 - 0.101\n"
     ]
    },
    {
     "name": "stderr",
     "output_type": "stream",
     "text": [
      "..\\common\\layers.py:12: RuntimeWarning: invalid value encountered in less_equal\n",
      "  self.mask = (x <= 0)\n",
      "..\\common\\multi_layer_net_extend.py:104: RuntimeWarning: overflow encountered in square\n",
      "  weight_decay += 0.5 * self.weight_decay_lambda * np.sum(W**2)\n",
      "..\\common\\multi_layer_net_extend.py:104: RuntimeWarning: invalid value encountered in double_scalars\n",
      "  weight_decay += 0.5 * self.weight_decay_lambda * np.sum(W**2)\n",
      "C:\\Users\\Guhnoo_KIST\\Anaconda3\\lib\\site-packages\\numpy\\core\\fromnumeric.py:83: RuntimeWarning: invalid value encountered in reduce\n",
      "  return ufunc.reduce(obj, axis, dtype, out, **passkwargs)\n"
     ]
    },
    {
     "name": "stdout",
     "output_type": "stream",
     "text": [
      "epoch:2 | 0.097 - 0.107\n",
      "epoch:3 | 0.097 - 0.142\n",
      "epoch:4 | 0.097 - 0.169\n",
      "epoch:5 | 0.097 - 0.19\n",
      "epoch:6 | 0.097 - 0.218\n",
      "epoch:7 | 0.097 - 0.235\n",
      "epoch:8 | 0.097 - 0.249\n",
      "epoch:9 | 0.097 - 0.268\n",
      "epoch:10 | 0.097 - 0.292\n",
      "epoch:11 | 0.097 - 0.315\n",
      "epoch:12 | 0.097 - 0.331\n",
      "epoch:13 | 0.097 - 0.348\n",
      "epoch:14 | 0.097 - 0.354\n",
      "epoch:15 | 0.097 - 0.367\n",
      "epoch:16 | 0.097 - 0.392\n",
      "epoch:17 | 0.097 - 0.407\n",
      "epoch:18 | 0.097 - 0.419\n"
     ]
    },
    {
     "name": "stderr",
     "output_type": "stream",
     "text": [
      "No handles with labels found to put in legend.\n"
     ]
    },
    {
     "name": "stdout",
     "output_type": "stream",
     "text": [
      "epoch:19 | 0.097 - 0.427\n",
      "============== 2/16 ==============\n",
      "epoch:0 | 0.116 - 0.108\n",
      "epoch:1 | 0.097 - 0.101\n"
     ]
    },
    {
     "name": "stderr",
     "output_type": "stream",
     "text": [
      "..\\common\\functions.py:34: RuntimeWarning: invalid value encountered in subtract\n",
      "  x = x - np.max(x, axis=0)\n"
     ]
    },
    {
     "name": "stdout",
     "output_type": "stream",
     "text": [
      "epoch:2 | 0.097 - 0.11\n",
      "epoch:3 | 0.097 - 0.129\n",
      "epoch:4 | 0.097 - 0.139\n",
      "epoch:5 | 0.097 - 0.159\n",
      "epoch:6 | 0.097 - 0.18\n",
      "epoch:7 | 0.097 - 0.211\n",
      "epoch:8 | 0.097 - 0.227\n",
      "epoch:9 | 0.097 - 0.255\n",
      "epoch:10 | 0.097 - 0.271\n",
      "epoch:11 | 0.097 - 0.29\n",
      "epoch:12 | 0.097 - 0.325\n",
      "epoch:13 | 0.097 - 0.35\n",
      "epoch:14 | 0.097 - 0.368\n",
      "epoch:15 | 0.097 - 0.396\n",
      "epoch:16 | 0.097 - 0.407\n",
      "epoch:17 | 0.097 - 0.425\n",
      "epoch:18 | 0.097 - 0.436\n",
      "epoch:19 | 0.097 - 0.46\n"
     ]
    },
    {
     "name": "stderr",
     "output_type": "stream",
     "text": [
      "No handles with labels found to put in legend.\n"
     ]
    },
    {
     "name": "stdout",
     "output_type": "stream",
     "text": [
      "============== 3/16 ==============\n",
      "epoch:0 | 0.104 - 0.118\n",
      "epoch:1 | 0.199 - 0.122\n",
      "epoch:2 | 0.331 - 0.188\n",
      "epoch:3 | 0.468 - 0.263\n",
      "epoch:4 | 0.557 - 0.325\n",
      "epoch:5 | 0.599 - 0.368\n",
      "epoch:6 | 0.645 - 0.404\n",
      "epoch:7 | 0.692 - 0.441\n",
      "epoch:8 | 0.718 - 0.467\n",
      "epoch:9 | 0.783 - 0.489\n",
      "epoch:10 | 0.795 - 0.505\n",
      "epoch:11 | 0.823 - 0.526\n",
      "epoch:12 | 0.846 - 0.55\n",
      "epoch:13 | 0.864 - 0.571\n",
      "epoch:14 | 0.894 - 0.593\n",
      "epoch:15 | 0.895 - 0.616\n",
      "epoch:16 | 0.911 - 0.634\n",
      "epoch:17 | 0.928 - 0.655\n"
     ]
    },
    {
     "name": "stderr",
     "output_type": "stream",
     "text": [
      "No handles with labels found to put in legend.\n"
     ]
    },
    {
     "name": "stdout",
     "output_type": "stream",
     "text": [
      "epoch:18 | 0.939 - 0.671\n",
      "epoch:19 | 0.943 - 0.688\n",
      "============== 4/16 ==============\n",
      "epoch:0 | 0.083 - 0.086\n",
      "epoch:1 | 0.223 - 0.121\n",
      "epoch:2 | 0.359 - 0.185\n",
      "epoch:3 | 0.467 - 0.255\n",
      "epoch:4 | 0.538 - 0.325\n",
      "epoch:5 | 0.588 - 0.38\n",
      "epoch:6 | 0.629 - 0.458\n",
      "epoch:7 | 0.665 - 0.502\n",
      "epoch:8 | 0.707 - 0.54\n",
      "epoch:9 | 0.736 - 0.575\n",
      "epoch:10 | 0.755 - 0.608\n",
      "epoch:11 | 0.782 - 0.647\n",
      "epoch:12 | 0.797 - 0.669\n",
      "epoch:13 | 0.808 - 0.701\n",
      "epoch:14 | 0.821 - 0.715\n",
      "epoch:15 | 0.838 - 0.735\n",
      "epoch:16 | 0.842 - 0.754\n",
      "epoch:17 | 0.858 - 0.769\n",
      "epoch:18 | 0.853 - 0.788\n"
     ]
    },
    {
     "name": "stderr",
     "output_type": "stream",
     "text": [
      "No handles with labels found to put in legend.\n"
     ]
    },
    {
     "name": "stdout",
     "output_type": "stream",
     "text": [
      "epoch:19 | 0.865 - 0.789\n",
      "============== 5/16 ==============\n",
      "epoch:0 | 0.084 - 0.103\n",
      "epoch:1 | 0.085 - 0.145\n",
      "epoch:2 | 0.103 - 0.261\n",
      "epoch:3 | 0.105 - 0.409\n",
      "epoch:4 | 0.107 - 0.519\n",
      "epoch:5 | 0.11 - 0.597\n",
      "epoch:6 | 0.115 - 0.655\n",
      "epoch:7 | 0.125 - 0.686\n",
      "epoch:8 | 0.14 - 0.715\n",
      "epoch:9 | 0.161 - 0.736\n",
      "epoch:10 | 0.158 - 0.75\n",
      "epoch:11 | 0.153 - 0.773\n",
      "epoch:12 | 0.168 - 0.794\n",
      "epoch:13 | 0.174 - 0.807\n",
      "epoch:14 | 0.189 - 0.816\n",
      "epoch:15 | 0.188 - 0.827\n",
      "epoch:16 | 0.207 - 0.842\n",
      "epoch:17 | 0.216 - 0.848\n"
     ]
    },
    {
     "name": "stderr",
     "output_type": "stream",
     "text": [
      "No handles with labels found to put in legend.\n"
     ]
    },
    {
     "name": "stdout",
     "output_type": "stream",
     "text": [
      "epoch:18 | 0.22 - 0.85\n",
      "epoch:19 | 0.222 - 0.865\n",
      "============== 6/16 ==============\n",
      "epoch:0 | 0.07 - 0.106\n",
      "epoch:1 | 0.115 - 0.206\n",
      "epoch:2 | 0.116 - 0.427\n",
      "epoch:3 | 0.116 - 0.539\n",
      "epoch:4 | 0.116 - 0.616\n",
      "epoch:5 | 0.116 - 0.667\n",
      "epoch:6 | 0.125 - 0.724\n",
      "epoch:7 | 0.122 - 0.761\n",
      "epoch:8 | 0.117 - 0.79\n",
      "epoch:9 | 0.116 - 0.814\n",
      "epoch:10 | 0.116 - 0.84\n",
      "epoch:11 | 0.116 - 0.857\n",
      "epoch:12 | 0.116 - 0.875\n",
      "epoch:13 | 0.116 - 0.897\n",
      "epoch:14 | 0.116 - 0.904\n",
      "epoch:15 | 0.116 - 0.913\n",
      "epoch:16 | 0.116 - 0.924\n",
      "epoch:17 | 0.118 - 0.927\n"
     ]
    },
    {
     "name": "stderr",
     "output_type": "stream",
     "text": [
      "No handles with labels found to put in legend.\n"
     ]
    },
    {
     "name": "stdout",
     "output_type": "stream",
     "text": [
      "epoch:18 | 0.116 - 0.932\n",
      "epoch:19 | 0.116 - 0.943\n",
      "============== 7/16 ==============\n",
      "epoch:0 | 0.117 - 0.104\n",
      "epoch:1 | 0.116 - 0.264\n",
      "epoch:2 | 0.117 - 0.645\n",
      "epoch:3 | 0.117 - 0.766\n",
      "epoch:4 | 0.117 - 0.806\n",
      "epoch:5 | 0.117 - 0.815\n",
      "epoch:6 | 0.126 - 0.849\n",
      "epoch:7 | 0.116 - 0.869\n",
      "epoch:8 | 0.116 - 0.897\n",
      "epoch:9 | 0.116 - 0.917\n",
      "epoch:10 | 0.116 - 0.934\n",
      "epoch:11 | 0.116 - 0.945\n",
      "epoch:12 | 0.116 - 0.966\n",
      "epoch:13 | 0.116 - 0.972\n",
      "epoch:14 | 0.116 - 0.978\n",
      "epoch:15 | 0.116 - 0.981\n",
      "epoch:16 | 0.116 - 0.985\n",
      "epoch:17 | 0.116 - 0.991\n",
      "epoch:18 | 0.116 - 0.991\n",
      "epoch:19 | 0.116 - 0.995\n"
     ]
    },
    {
     "name": "stderr",
     "output_type": "stream",
     "text": [
      "No handles with labels found to put in legend.\n"
     ]
    },
    {
     "name": "stdout",
     "output_type": "stream",
     "text": [
      "============== 8/16 ==============\n",
      "epoch:0 | 0.119 - 0.164\n",
      "epoch:1 | 0.116 - 0.451\n",
      "epoch:2 | 0.116 - 0.734\n",
      "epoch:3 | 0.116 - 0.825\n",
      "epoch:4 | 0.117 - 0.861\n",
      "epoch:5 | 0.117 - 0.907\n",
      "epoch:6 | 0.117 - 0.928\n",
      "epoch:7 | 0.117 - 0.945\n",
      "epoch:8 | 0.117 - 0.969\n",
      "epoch:9 | 0.117 - 0.974\n",
      "epoch:10 | 0.117 - 0.983\n",
      "epoch:11 | 0.117 - 0.985\n",
      "epoch:12 | 0.117 - 0.992\n",
      "epoch:13 | 0.117 - 0.995\n",
      "epoch:14 | 0.117 - 0.995\n",
      "epoch:15 | 0.117 - 0.996\n",
      "epoch:16 | 0.117 - 0.997\n",
      "epoch:17 | 0.117 - 0.997\n"
     ]
    },
    {
     "name": "stderr",
     "output_type": "stream",
     "text": [
      "No handles with labels found to put in legend.\n"
     ]
    },
    {
     "name": "stdout",
     "output_type": "stream",
     "text": [
      "epoch:18 | 0.117 - 0.997\n",
      "epoch:19 | 0.117 - 0.998\n",
      "============== 9/16 ==============\n",
      "epoch:0 | 0.094 - 0.09\n",
      "epoch:1 | 0.116 - 0.567\n",
      "epoch:2 | 0.116 - 0.766\n",
      "epoch:3 | 0.116 - 0.843\n",
      "epoch:4 | 0.116 - 0.898\n",
      "epoch:5 | 0.116 - 0.954\n",
      "epoch:6 | 0.116 - 0.974\n",
      "epoch:7 | 0.116 - 0.982\n",
      "epoch:8 | 0.116 - 0.985\n",
      "epoch:9 | 0.116 - 0.989\n",
      "epoch:10 | 0.116 - 0.992\n",
      "epoch:11 | 0.116 - 0.994\n",
      "epoch:12 | 0.116 - 0.997\n",
      "epoch:13 | 0.116 - 0.998\n",
      "epoch:14 | 0.117 - 1.0\n",
      "epoch:15 | 0.117 - 1.0\n",
      "epoch:16 | 0.117 - 1.0\n",
      "epoch:17 | 0.117 - 1.0\n",
      "epoch:18 | 0.117 - 1.0\n"
     ]
    },
    {
     "name": "stderr",
     "output_type": "stream",
     "text": [
      "No handles with labels found to put in legend.\n"
     ]
    },
    {
     "name": "stdout",
     "output_type": "stream",
     "text": [
      "epoch:19 | 0.117 - 1.0\n",
      "============== 10/16 ==============\n",
      "epoch:0 | 0.105 - 0.121\n",
      "epoch:1 | 0.116 - 0.478\n",
      "epoch:2 | 0.116 - 0.69\n",
      "epoch:3 | 0.116 - 0.763\n",
      "epoch:4 | 0.116 - 0.844\n",
      "epoch:5 | 0.116 - 0.871\n",
      "epoch:6 | 0.117 - 0.886\n",
      "epoch:7 | 0.117 - 0.946\n",
      "epoch:8 | 0.117 - 0.951\n",
      "epoch:9 | 0.117 - 0.975\n",
      "epoch:10 | 0.117 - 0.957\n",
      "epoch:11 | 0.117 - 0.963\n",
      "epoch:12 | 0.117 - 0.984\n",
      "epoch:13 | 0.116 - 0.982\n",
      "epoch:14 | 0.117 - 0.988\n",
      "epoch:15 | 0.117 - 0.992\n",
      "epoch:16 | 0.117 - 0.993\n",
      "epoch:17 | 0.117 - 0.993\n"
     ]
    },
    {
     "name": "stderr",
     "output_type": "stream",
     "text": [
      "No handles with labels found to put in legend.\n"
     ]
    },
    {
     "name": "stdout",
     "output_type": "stream",
     "text": [
      "epoch:18 | 0.117 - 0.996\n",
      "epoch:19 | 0.117 - 0.998\n",
      "============== 11/16 ==============\n",
      "epoch:0 | 0.117 - 0.189\n",
      "epoch:1 | 0.117 - 0.563\n",
      "epoch:2 | 0.116 - 0.661\n",
      "epoch:3 | 0.116 - 0.725\n",
      "epoch:4 | 0.116 - 0.766\n",
      "epoch:5 | 0.116 - 0.774\n",
      "epoch:6 | 0.116 - 0.709\n",
      "epoch:7 | 0.116 - 0.8\n",
      "epoch:8 | 0.116 - 0.82\n",
      "epoch:9 | 0.116 - 0.879\n",
      "epoch:10 | 0.116 - 0.827\n",
      "epoch:11 | 0.116 - 0.858\n",
      "epoch:12 | 0.116 - 0.884\n",
      "epoch:13 | 0.116 - 0.907\n",
      "epoch:14 | 0.116 - 0.856\n",
      "epoch:15 | 0.116 - 0.9\n",
      "epoch:16 | 0.116 - 0.899\n",
      "epoch:17 | 0.116 - 0.902\n"
     ]
    },
    {
     "name": "stderr",
     "output_type": "stream",
     "text": [
      "No handles with labels found to put in legend.\n"
     ]
    },
    {
     "name": "stdout",
     "output_type": "stream",
     "text": [
      "epoch:18 | 0.116 - 0.91\n",
      "epoch:19 | 0.116 - 0.91\n",
      "============== 12/16 ==============\n",
      "epoch:0 | 0.1 - 0.167\n",
      "epoch:1 | 0.117 - 0.415\n",
      "epoch:2 | 0.117 - 0.695\n",
      "epoch:3 | 0.117 - 0.692\n",
      "epoch:4 | 0.117 - 0.752\n",
      "epoch:5 | 0.117 - 0.768\n",
      "epoch:6 | 0.117 - 0.789\n",
      "epoch:7 | 0.117 - 0.784\n",
      "epoch:8 | 0.117 - 0.779\n",
      "epoch:9 | 0.117 - 0.799\n",
      "epoch:10 | 0.117 - 0.799\n",
      "epoch:11 | 0.117 - 0.795\n",
      "epoch:12 | 0.117 - 0.809\n",
      "epoch:13 | 0.117 - 0.868\n",
      "epoch:14 | 0.117 - 0.886\n",
      "epoch:15 | 0.117 - 0.895\n",
      "epoch:16 | 0.117 - 0.894\n",
      "epoch:17 | 0.117 - 0.974\n",
      "epoch:18 | 0.117 - 0.979\n"
     ]
    },
    {
     "name": "stderr",
     "output_type": "stream",
     "text": [
      "No handles with labels found to put in legend.\n"
     ]
    },
    {
     "name": "stdout",
     "output_type": "stream",
     "text": [
      "epoch:19 | 0.117 - 0.989\n",
      "============== 13/16 ==============\n",
      "epoch:0 | 0.093 - 0.145\n",
      "epoch:1 | 0.116 - 0.387\n",
      "epoch:2 | 0.117 - 0.506\n",
      "epoch:3 | 0.117 - 0.487\n",
      "epoch:4 | 0.117 - 0.498\n",
      "epoch:5 | 0.117 - 0.512\n",
      "epoch:6 | 0.117 - 0.517\n",
      "epoch:7 | 0.117 - 0.516\n",
      "epoch:8 | 0.117 - 0.519\n",
      "epoch:9 | 0.117 - 0.521\n",
      "epoch:10 | 0.117 - 0.522\n",
      "epoch:11 | 0.117 - 0.523\n",
      "epoch:12 | 0.117 - 0.524\n",
      "epoch:13 | 0.117 - 0.608\n",
      "epoch:14 | 0.117 - 0.611\n",
      "epoch:15 | 0.117 - 0.618\n",
      "epoch:16 | 0.117 - 0.619\n",
      "epoch:17 | 0.117 - 0.594\n",
      "epoch:18 | 0.117 - 0.604\n",
      "epoch:19 | 0.117 - 0.582\n"
     ]
    },
    {
     "name": "stderr",
     "output_type": "stream",
     "text": [
      "No handles with labels found to put in legend.\n"
     ]
    },
    {
     "name": "stdout",
     "output_type": "stream",
     "text": [
      "============== 14/16 ==============\n",
      "epoch:0 | 0.105 - 0.105\n",
      "epoch:1 | 0.105 - 0.427\n",
      "epoch:2 | 0.116 - 0.523\n",
      "epoch:3 | 0.116 - 0.563\n",
      "epoch:4 | 0.116 - 0.566\n",
      "epoch:5 | 0.116 - 0.557\n",
      "epoch:6 | 0.116 - 0.579\n",
      "epoch:7 | 0.116 - 0.581\n",
      "epoch:8 | 0.116 - 0.59\n",
      "epoch:9 | 0.116 - 0.589\n",
      "epoch:10 | 0.116 - 0.567\n",
      "epoch:11 | 0.116 - 0.588\n",
      "epoch:12 | 0.116 - 0.6\n",
      "epoch:13 | 0.116 - 0.601\n",
      "epoch:14 | 0.116 - 0.606\n",
      "epoch:15 | 0.116 - 0.585\n",
      "epoch:16 | 0.116 - 0.592\n",
      "epoch:17 | 0.116 - 0.6\n",
      "epoch:18 | 0.116 - 0.608\n",
      "epoch:19 | 0.116 - 0.609\n"
     ]
    },
    {
     "name": "stderr",
     "output_type": "stream",
     "text": [
      "No handles with labels found to put in legend.\n"
     ]
    },
    {
     "name": "stdout",
     "output_type": "stream",
     "text": [
      "============== 15/16 ==============\n",
      "epoch:0 | 0.116 - 0.159\n",
      "epoch:1 | 0.117 - 0.251\n",
      "epoch:2 | 0.116 - 0.409\n",
      "epoch:3 | 0.117 - 0.41\n",
      "epoch:4 | 0.116 - 0.226\n",
      "epoch:5 | 0.116 - 0.478\n",
      "epoch:6 | 0.116 - 0.486\n",
      "epoch:7 | 0.117 - 0.507\n",
      "epoch:8 | 0.116 - 0.51\n",
      "epoch:9 | 0.116 - 0.52\n",
      "epoch:10 | 0.117 - 0.524\n",
      "epoch:11 | 0.117 - 0.507\n",
      "epoch:12 | 0.117 - 0.518\n",
      "epoch:13 | 0.117 - 0.521\n",
      "epoch:14 | 0.117 - 0.506\n",
      "epoch:15 | 0.116 - 0.518\n",
      "epoch:16 | 0.117 - 0.531\n",
      "epoch:17 | 0.117 - 0.59\n",
      "epoch:18 | 0.117 - 0.609\n"
     ]
    },
    {
     "name": "stderr",
     "output_type": "stream",
     "text": [
      "No handles with labels found to put in legend.\n"
     ]
    },
    {
     "name": "stdout",
     "output_type": "stream",
     "text": [
      "epoch:19 | 0.117 - 0.614\n",
      "============== 16/16 ==============\n",
      "epoch:0 | 0.117 - 0.117\n",
      "epoch:1 | 0.097 - 0.199\n",
      "epoch:2 | 0.117 - 0.234\n",
      "epoch:3 | 0.117 - 0.313\n",
      "epoch:4 | 0.117 - 0.312\n",
      "epoch:5 | 0.117 - 0.313\n",
      "epoch:6 | 0.117 - 0.326\n",
      "epoch:7 | 0.117 - 0.302\n",
      "epoch:8 | 0.117 - 0.326\n",
      "epoch:9 | 0.117 - 0.317\n",
      "epoch:10 | 0.117 - 0.37\n",
      "epoch:11 | 0.117 - 0.32\n",
      "epoch:12 | 0.117 - 0.317\n",
      "epoch:13 | 0.117 - 0.329\n",
      "epoch:14 | 0.116 - 0.33\n",
      "epoch:15 | 0.117 - 0.331\n",
      "epoch:16 | 0.117 - 0.33\n",
      "epoch:17 | 0.117 - 0.341\n",
      "epoch:18 | 0.117 - 0.339\n",
      "epoch:19 | 0.117 - 0.332\n"
     ]
    },
    {
     "data": {
      "image/png": "[encoded data removed]",
      "text/plain": [
       "<Figure size 432x288 with 16 Axes>"
      ]
     },
     "metadata": {
      "needs_background": "light"
     },
     "output_type": "display_data"
    }
   ],
   "source": [
    "weight_scale_list = np.logspace(0, -4, num=16)\n",
    "x = np.arange(max_epochs)\n",
    "\n",
    "for i, w in enumerate(weight_scale_list):\n",
    "    print( \"============== \" + str(i+1) + \"/16\" + \" ==============\")\n",
    "    train_acc_list, bn_train_acc_list = __train(w)\n",
    "    \n",
    "    plt.subplot(4,4,i+1)\n",
    "    plt.title(\"W:\" + str(w))\n",
    "    if i == 15:\n",
    "        plt.plot(x, bn_train_acc_list, label='Batch Normalization', markevery=2)\n",
    "        plt.plot(x, train_acc_list, linestyle = \"--\", label='Normal(without BatchNorm)', markevery=2)\n",
    "    else:\n",
    "        plt.plot(x, bn_train_acc_list, markevery=2)\n",
    "        plt.plot(x, train_acc_list, linestyle=\"--\", markevery=2)\n",
    "\n",
    "    plt.ylim(0, 1.0)\n",
    "    if i % 4:\n",
    "        plt.yticks([])\n",
    "    else:\n",
    "        plt.ylabel(\"accuracy\")\n",
    "    if i < 12:\n",
    "        plt.xticks([])\n",
    "    else:\n",
    "        plt.xlabel(\"epochs\")\n",
    "    plt.legend(loc='lower right')\n",
    "    \n",
    "plt.show()"
   ]
  },
  {
   "cell_type": "code",
   "execution_count": 8,
   "metadata": {},
   "outputs": [],
   "source": []
  },
  {
   "cell_type": "code",
   "execution_count": null,
   "metadata": {},
   "outputs": [],
   "source": []
  }
 ],
 "metadata": {
  "kernelspec": {
   "display_name": "Python 3",
   "language": "python",
   "name": "python3"
  },
  "language_info": {
   "codemirror_mode": {
    "name": "ipython",
    "version": 3
   },
   "file_extension": ".py",
   "mimetype": "text/x-python",
   "name": "python",
   "nbconvert_exporter": "python",
   "pygments_lexer": "ipython3",
   "version": "3.7.0"
  }
 },
 "nbformat": 4,
 "nbformat_minor": 2
}
