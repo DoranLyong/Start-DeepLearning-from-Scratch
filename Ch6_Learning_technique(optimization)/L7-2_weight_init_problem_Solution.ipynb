{
 "cells": [
  {
   "cell_type": "markdown",
   "metadata": {},
   "source": [
    "# 가중치 초기화 문제 해결법 \n",
    "(p.205)"
   ]
  },
  {
   "cell_type": "markdown",
   "metadata": {},
   "source": [
    "초기 가중치에 따른 활성화값의 변화 때문에 생기는 문제들이었음 [link](https://github.com/DoranLyong/Start_deepLearning_from_floor-/blob/master/Ch6_Learning_technique(optimization)/L7-1_weights_init_problem.ipynb)<br/> <br/>\n",
    "(1) 기울기 감소/소실 문제 <br/>\n",
    "\n",
    "(2) 표현력 제한 문제   \n"
   ]
  },
  {
   "cell_type": "markdown",
   "metadata": {},
   "source": [
    "***"
   ]
  },
  {
   "cell_type": "markdown",
   "metadata": {},
   "source": [
    "# Xavier 초깃값 "
   ]
  },
  {
   "cell_type": "markdown",
   "metadata": {},
   "source": [
    "현재 Xavier 초깃값은 일반적인 딥러닝 프레임워크들이 표준적으로 이용하고 있음 "
   ]
  },
  {
   "cell_type": "markdown",
   "metadata": {},
   "source": [
    "<b>\\[ Xavier 초깃값 \\] </b>\n",
    "> 사비에르 글로로트<sup>Xavier Glorot</sup>와 요슈아 벤지오<sup>Yoshua Bengio</sup>가 제안함 \n",
    " * Understanding the difficulty of training deep feedforward neural networks(2010)"
   ]
  },
  {
   "cell_type": "markdown",
   "metadata": {},
   "source": [
    "이 논문은 <b>각 층의 활성화값들을 광범위하게 분포시킬 목적으로</b> 가중치의 적절한 분포를 찾고자 했음 \n",
    "* (p.205) 활성화 값들이 적절하게 고루 분포해야 한다\n",
    "\n",
    "> 결과물:  앞 계층의 노드가 n개라면 $\\;$ ⇒ $\\;$표준편차가 $\\frac{1}{\\sqrt{n}}$인 분포를 사용하면 된다 "
   ]
  },
  {
   "cell_type": "markdown",
   "metadata": {},
   "source": [
    "![Xavier초깃값](./images/fig_6-12.png)"
   ]
  },
  {
   "cell_type": "markdown",
   "metadata": {},
   "source": [
    "Xavier 초깃값을 사용하면 앞 층에 노드가 많을수록 대상 노드의 초깃값으로 설정하는 가중치가 좁게 분포함 "
   ]
  },
  {
   "cell_type": "markdown",
   "metadata": {},
   "source": [
    "***\n",
    "__Example__: Xavier 초깃값을 써서 실험해봄 <br/> <br/>\n",
    "\n",
    "코드에서 가중치 초깃값 설정 부분을 고쳐주기만 하면 됨 "
   ]
  },
  {
   "cell_type": "code",
   "execution_count": 1,
   "metadata": {},
   "outputs": [],
   "source": [
    "# coding: utf-8\n",
    "import numpy as np\n",
    "import matplotlib.pyplot as plt\n",
    "\n",
    "\n",
    "def sigmoid(x):\n",
    "    return 1 / (1 + np.exp(-x))\n",
    "\n",
    "\n",
    "def ReLU(x):\n",
    "    return np.maximum(0, x)\n",
    "\n",
    "\n",
    "def tanh(x):\n",
    "    return np.tanh(x)\n",
    "\n",
    "input_data = np.random.randn(1000, 100)  # 1000개의 데이터\n",
    "                                          # 데이터의 노드 개수는 100개 \n",
    "    \n",
    "node_num           = 100       # 각 은닉층의 노드(뉴런) 수 \n",
    "hidden_layer_size  = 5         # 은닉층이 5개 \n",
    "activations        = {}        # <dict>객체: 이곳에 활성화 결과(활성화값)를 저장 \n",
    "\n",
    "x = input_data"
   ]
  },
  {
   "cell_type": "code",
   "execution_count": 2,
   "metadata": {},
   "outputs": [],
   "source": [
    "for i in range(hidden_layer_size):\n",
    "    if i != 0:\n",
    "        x = activations[i-1]\n",
    "\n",
    "    w = np.random.randn(node_num, node_num) / np.sqrt(node_num)   # Xavier 초깃값 \n",
    "\n",
    "\n",
    "    a = np.dot(x, w)\n",
    "\n",
    "\n",
    "    # 활성화 함수도 바꿔가며 실험해보자！\n",
    "    z = sigmoid(a)\n",
    "    #z = ReLU(a)\n",
    "    # z = tanh(a)\n",
    "\n",
    "    activations[i] = z"
   ]
  },
  {
   "cell_type": "markdown",
   "metadata": {},
   "source": [
    "__히스토그램 그리기__"
   ]
  },
  {
   "cell_type": "code",
   "execution_count": 3,
   "metadata": {},
   "outputs": [
    {
     "data": {
      "image/png": "[encoded data removed]",
      "text/plain": [
       "<Figure size 432x288 with 5 Axes>"
      ]
     },
     "metadata": {},
     "output_type": "display_data"
    }
   ],
   "source": [
    "for i, a in activations.items():           # <dict>.items() : key와 value를 반환 \n",
    "    plt.subplot(1, len(activations), i+1)\n",
    "    plt.title(str(i+1) + \"-layer\")\n",
    "    if i != 0: plt.yticks([], [])\n",
    "    # plt.xlim(0.1, 1)\n",
    "    # plt.ylim(0, 7000)\n",
    "    plt.hist(a.flatten(), 30, range=(0,1))\n",
    "plt.show()\n"
   ]
  },
  {
   "cell_type": "markdown",
   "metadata": {},
   "source": [
    "이 결과를 보면 층이 깊어질수록 형태가 다소 일그러지지만, <br/>\n",
    "[앞에서 본 방식](https://github.com/DoranLyong/Start_deepLearning_from_floor-/blob/master/Ch6_Learning_technique(optimization)/L7-1_weights_init_problem.ipynb)보다는 확실히 넓게 분포됨 "
   ]
  },
  {
   "cell_type": "markdown",
   "metadata": {},
   "source": [
    "> 각 층에 흐르는 데이터가 <span style=\"color:red\">적당히 퍼져 있으므로</span>, <br/>\n",
    " * 시그모이드 함수의 표현력도 제한받지 않고 학습이 효율적으로 이뤄질 것으로 기대됨 "
   ]
  },
  {
   "cell_type": "markdown",
   "metadata": {},
   "source": [
    "***\n",
    "### [정리] \n",
    "Activation function: sigmoid 활용 <br/>\n",
    "\n",
    "(1) 초기 가중치를 표준편차 1인 정규분포로 뽑을 때, \n",
    "> * __가중치 감소__ 문제  → 결국 역전파 때 기울기 0 → 가중치 갱신 불가 <br> <br/>\n",
    "\n",
    "(2) 표준편차 0.01인 정규분포로 뽑을 때,\n",
    "> * 비슷한 활성화 값들만 흐름  → __표현력 제한__ 문제 "
   ]
  },
  {
   "cell_type": "markdown",
   "metadata": {},
   "source": [
    "(3) Xavier 초깃값을 사용하니? \n",
    "> * 각 층의 활성화 값이 고르게 분포해서 위의 문제가 발생하지 않음 "
   ]
  },
  {
   "cell_type": "markdown",
   "metadata": {},
   "source": [
    "***"
   ]
  },
  {
   "cell_type": "markdown",
   "metadata": {},
   "source": [
    "# ※ tanh 함수 (쌍곡선 함수)"
   ]
  },
  {
   "cell_type": "markdown",
   "metadata": {},
   "source": [
    "위의 히스토그램을 보면 "
   ]
  },
  {
   "cell_type": "markdown",
   "metadata": {},
   "source": [
    "계층이 깊어질수록 활성화 값 분포가 약간 일그러짐 \n",
    "> 이 일그러짐은 화럿ㅇ화 함수로 __tanh 함수__(쌍곡선 함수)를 이용함녀 개선됨 "
   ]
  },
  {
   "cell_type": "markdown",
   "metadata": {},
   "source": [
    "### 활성화 함수용으로 원점에서 대칭인 함수가 바람직하다고 알려짐 \n",
    "* sigmoid function : (x, y) = (0, 0.5)에서 대칭인 S 곡선 <br/> <br> \n",
    "\n",
    "* tanh function : (x, y) = (0, 0)에서 대칭인 S 곡선 "
   ]
  },
  {
   "cell_type": "code",
   "execution_count": null,
   "metadata": {},
   "outputs": [],
   "source": []
  }
 ],
 "metadata": {
  "kernelspec": {
   "display_name": "Python 3",
   "language": "python",
   "name": "python3"
  },
  "language_info": {
   "codemirror_mode": {
    "name": "ipython",
    "version": 3
   },
   "file_extension": ".py",
   "mimetype": "text/x-python",
   "name": "python",
   "nbconvert_exporter": "python",
   "pygments_lexer": "ipython3",
   "version": "3.6.5"
  }
 },
 "nbformat": 4,
 "nbformat_minor": 2
}
