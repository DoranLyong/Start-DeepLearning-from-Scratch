{
 "cells": [
  {
   "cell_type": "markdown",
   "metadata": {},
   "source": [
    "# 학습 관련 기술들 \n",
    "(p.189)"
   ]
  },
  {
   "cell_type": "markdown",
   "metadata": {},
   "source": [
    "### [DL 학습법 정리] \n",
    "(1) 데이터 <br/>\n",
    "(2) NN 모델 설계 <br/> \n",
    "(3) 목적 함수(= cost function, loss function) <br/> \n",
    "(4) 최적화 알고리즘  <br/>\n",
    "> * 매개변수<sup>__W, B__</sup>  초기화<sup>init</sup> 및 최적화<sup>optimized</sup>"
   ]
  },
  {
   "cell_type": "markdown",
   "metadata": {},
   "source": [
    "<span style=\"color:red\">딥러닝 모델</span>( __W, B__) \n",
    "> 매개 변수  __W, B__의 함수 "
   ]
  },
  {
   "cell_type": "markdown",
   "metadata": {},
   "source": [
    "## 목적 함수의 최소점을 찾는 알고리즘 "
   ]
  },
  {
   "cell_type": "markdown",
   "metadata": {},
   "source": [
    "가장 효율 적인 알고리즘은 어느 것일 까?\n",
    "> (1) SGD <br/>\n",
    "> (2) Momentum <br/> \n",
    "> (3) AdaGrad <br/>\n",
    "> (4) Adam "
   ]
  },
  {
   "cell_type": "markdown",
   "metadata": {},
   "source": [
    "#### 큰 맥락은 똑같음\n",
    "> 가중치 갱신하기 \n",
    "   * $\\mathbf{W}$ &larr; $\\mathbf{W} - \\eta \\frac{\\partial L}{\\partial \\mathbf{W}} $"
   ]
  },
  {
   "cell_type": "markdown",
   "metadata": {},
   "source": [
    "![Optimizier for minimized gradient](./images/Optimizer.jpg)"
   ]
  },
  {
   "cell_type": "code",
   "execution_count": null,
   "metadata": {},
   "outputs": [],
   "source": []
  }
 ],
 "metadata": {
  "kernelspec": {
   "display_name": "Python 3",
   "language": "python",
   "name": "python3"
  },
  "language_info": {
   "codemirror_mode": {
    "name": "ipython",
    "version": 3
   },
   "file_extension": ".py",
   "mimetype": "text/x-python",
   "name": "python",
   "nbconvert_exporter": "python",
   "pygments_lexer": "ipython3",
   "version": "3.6.5"
  }
 },
 "nbformat": 4,
 "nbformat_minor": 2
}
